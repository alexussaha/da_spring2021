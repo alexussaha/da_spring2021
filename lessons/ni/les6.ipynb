{
 "cells": [
  {
   "cell_type": "code",
   "execution_count": 1,
   "metadata": {},
   "outputs": [],
   "source": [
    "import numpy as np\n",
    "import pandas as pd\n",
    "from scipy import stats\n",
    "import matplotlib.pyplot as plt\n",
    "%matplotlib inline\n",
    "import seaborn as sns; sns.set(style='whitegrid')"
   ]
  },
  {
   "cell_type": "markdown",
   "metadata": {},
   "source": [
    "## Crosstab"
   ]
  },
  {
   "cell_type": "code",
   "execution_count": 2,
   "metadata": {},
   "outputs": [
    {
     "data": {
      "text/html": [
       "<div>\n",
       "<style scoped>\n",
       "    .dataframe tbody tr th:only-of-type {\n",
       "        vertical-align: middle;\n",
       "    }\n",
       "\n",
       "    .dataframe tbody tr th {\n",
       "        vertical-align: top;\n",
       "    }\n",
       "\n",
       "    .dataframe thead th {\n",
       "        text-align: right;\n",
       "    }\n",
       "</style>\n",
       "<table border=\"1\" class=\"dataframe\">\n",
       "  <thead>\n",
       "    <tr style=\"text-align: right;\">\n",
       "      <th></th>\n",
       "      <th>Возраст</th>\n",
       "      <th>Пол</th>\n",
       "      <th>Должность</th>\n",
       "      <th>Курение</th>\n",
       "    </tr>\n",
       "  </thead>\n",
       "  <tbody>\n",
       "    <tr>\n",
       "      <th>0</th>\n",
       "      <td>55</td>\n",
       "      <td>М</td>\n",
       "      <td>Ст. Менеджер</td>\n",
       "      <td>Да</td>\n",
       "    </tr>\n",
       "    <tr>\n",
       "      <th>1</th>\n",
       "      <td>28</td>\n",
       "      <td>Ж</td>\n",
       "      <td>Мл. Менеджер</td>\n",
       "      <td>Нет</td>\n",
       "    </tr>\n",
       "    <tr>\n",
       "      <th>2</th>\n",
       "      <td>27</td>\n",
       "      <td>М</td>\n",
       "      <td>Мл. Рабочий</td>\n",
       "      <td>Да</td>\n",
       "    </tr>\n",
       "    <tr>\n",
       "      <th>3</th>\n",
       "      <td>36</td>\n",
       "      <td>М</td>\n",
       "      <td>Ст. Рабочий</td>\n",
       "      <td>Да</td>\n",
       "    </tr>\n",
       "    <tr>\n",
       "      <th>4</th>\n",
       "      <td>50</td>\n",
       "      <td>Ж</td>\n",
       "      <td>Мл. Менеджер</td>\n",
       "      <td>Да</td>\n",
       "    </tr>\n",
       "  </tbody>\n",
       "</table>\n",
       "</div>"
      ],
      "text/plain": [
       "   Возраст Пол     Должность Курение\n",
       "0       55   М  Ст. Менеджер      Да\n",
       "1       28   Ж  Мл. Менеджер     Нет\n",
       "2       27   М   Мл. Рабочий      Да\n",
       "3       36   М   Ст. Рабочий      Да\n",
       "4       50   Ж  Мл. Менеджер      Да"
      ]
     },
     "execution_count": 2,
     "metadata": {},
     "output_type": "execute_result"
    }
   ],
   "source": [
    "df = pd.read_csv('../data/smoking.csv', delimiter=';')\n",
    "df.head(5)"
   ]
  },
  {
   "cell_type": "code",
   "execution_count": 3,
   "metadata": {},
   "outputs": [
    {
     "name": "stdout",
     "output_type": "stream",
     "text": [
      "<class 'pandas.core.frame.DataFrame'>\n",
      "RangeIndex: 31 entries, 0 to 30\n",
      "Data columns (total 4 columns):\n",
      " #   Column     Non-Null Count  Dtype \n",
      "---  ------     --------------  ----- \n",
      " 0   Возраст    31 non-null     int64 \n",
      " 1   Пол        31 non-null     object\n",
      " 2   Должность  31 non-null     object\n",
      " 3   Курение    31 non-null     object\n",
      "dtypes: int64(1), object(3)\n",
      "memory usage: 1.1+ KB\n"
     ]
    }
   ],
   "source": [
    "df.info()"
   ]
  },
  {
   "cell_type": "markdown",
   "metadata": {},
   "source": [
    "#### Таблица сопряженности признаков \"Пол\" \"Курение\""
   ]
  },
  {
   "cell_type": "code",
   "execution_count": 4,
   "metadata": {},
   "outputs": [
    {
     "data": {
      "text/html": [
       "<div>\n",
       "<style scoped>\n",
       "    .dataframe tbody tr th:only-of-type {\n",
       "        vertical-align: middle;\n",
       "    }\n",
       "\n",
       "    .dataframe tbody tr th {\n",
       "        vertical-align: top;\n",
       "    }\n",
       "\n",
       "    .dataframe thead th {\n",
       "        text-align: right;\n",
       "    }\n",
       "</style>\n",
       "<table border=\"1\" class=\"dataframe\">\n",
       "  <thead>\n",
       "    <tr style=\"text-align: right;\">\n",
       "      <th>Курение</th>\n",
       "      <th>Да</th>\n",
       "      <th>Нет</th>\n",
       "    </tr>\n",
       "    <tr>\n",
       "      <th>Пол</th>\n",
       "      <th></th>\n",
       "      <th></th>\n",
       "    </tr>\n",
       "  </thead>\n",
       "  <tbody>\n",
       "    <tr>\n",
       "      <th>Ж</th>\n",
       "      <td>3</td>\n",
       "      <td>11</td>\n",
       "    </tr>\n",
       "    <tr>\n",
       "      <th>М</th>\n",
       "      <td>13</td>\n",
       "      <td>4</td>\n",
       "    </tr>\n",
       "  </tbody>\n",
       "</table>\n",
       "</div>"
      ],
      "text/plain": [
       "Курение  Да  Нет\n",
       "Пол             \n",
       "Ж         3   11\n",
       "М        13    4"
      ]
     },
     "execution_count": 4,
     "metadata": {},
     "output_type": "execute_result"
    }
   ],
   "source": [
    "df_sex_smoke = pd.crosstab(df['Пол'], df['Курение'])\n",
    "df_sex_smoke"
   ]
  },
  {
   "cell_type": "markdown",
   "metadata": {},
   "source": [
    "#### Таблица сопряженности признаков \"Должность\" \"Курение\""
   ]
  },
  {
   "cell_type": "code",
   "execution_count": 5,
   "metadata": {},
   "outputs": [
    {
     "data": {
      "text/html": [
       "<div>\n",
       "<style scoped>\n",
       "    .dataframe tbody tr th:only-of-type {\n",
       "        vertical-align: middle;\n",
       "    }\n",
       "\n",
       "    .dataframe tbody tr th {\n",
       "        vertical-align: top;\n",
       "    }\n",
       "\n",
       "    .dataframe thead th {\n",
       "        text-align: right;\n",
       "    }\n",
       "</style>\n",
       "<table border=\"1\" class=\"dataframe\">\n",
       "  <thead>\n",
       "    <tr style=\"text-align: right;\">\n",
       "      <th>Курение</th>\n",
       "      <th>Да</th>\n",
       "      <th>Нет</th>\n",
       "    </tr>\n",
       "    <tr>\n",
       "      <th>Должность</th>\n",
       "      <th></th>\n",
       "      <th></th>\n",
       "    </tr>\n",
       "  </thead>\n",
       "  <tbody>\n",
       "    <tr>\n",
       "      <th>Мл. Менеджер</th>\n",
       "      <td>4</td>\n",
       "      <td>3</td>\n",
       "    </tr>\n",
       "    <tr>\n",
       "      <th>Мл. Рабочий</th>\n",
       "      <td>3</td>\n",
       "      <td>4</td>\n",
       "    </tr>\n",
       "    <tr>\n",
       "      <th>Ст. Менеджер</th>\n",
       "      <td>4</td>\n",
       "      <td>1</td>\n",
       "    </tr>\n",
       "    <tr>\n",
       "      <th>Ст. Рабочий</th>\n",
       "      <td>5</td>\n",
       "      <td>7</td>\n",
       "    </tr>\n",
       "  </tbody>\n",
       "</table>\n",
       "</div>"
      ],
      "text/plain": [
       "Курение       Да  Нет\n",
       "Должность            \n",
       "Мл. Менеджер   4    3\n",
       "Мл. Рабочий    3    4\n",
       "Ст. Менеджер   4    1\n",
       "Ст. Рабочий    5    7"
      ]
     },
     "execution_count": 5,
     "metadata": {},
     "output_type": "execute_result"
    }
   ],
   "source": [
    "df_position_smoke = pd.crosstab(df['Должность'], df['Курение'])\n",
    "df_position_smoke"
   ]
  },
  {
   "cell_type": "markdown",
   "metadata": {},
   "source": [
    "#### Добавим более обобщенную колонку должностей"
   ]
  },
  {
   "cell_type": "code",
   "execution_count": 6,
   "metadata": {},
   "outputs": [
    {
     "data": {
      "text/html": [
       "<div>\n",
       "<style scoped>\n",
       "    .dataframe tbody tr th:only-of-type {\n",
       "        vertical-align: middle;\n",
       "    }\n",
       "\n",
       "    .dataframe tbody tr th {\n",
       "        vertical-align: top;\n",
       "    }\n",
       "\n",
       "    .dataframe thead th {\n",
       "        text-align: right;\n",
       "    }\n",
       "</style>\n",
       "<table border=\"1\" class=\"dataframe\">\n",
       "  <thead>\n",
       "    <tr style=\"text-align: right;\">\n",
       "      <th></th>\n",
       "      <th>Возраст</th>\n",
       "      <th>Пол</th>\n",
       "      <th>Должность</th>\n",
       "      <th>Курение</th>\n",
       "      <th>Должность_общая</th>\n",
       "    </tr>\n",
       "  </thead>\n",
       "  <tbody>\n",
       "    <tr>\n",
       "      <th>0</th>\n",
       "      <td>55</td>\n",
       "      <td>М</td>\n",
       "      <td>Ст. Менеджер</td>\n",
       "      <td>Да</td>\n",
       "      <td>Менеджер</td>\n",
       "    </tr>\n",
       "    <tr>\n",
       "      <th>1</th>\n",
       "      <td>28</td>\n",
       "      <td>Ж</td>\n",
       "      <td>Мл. Менеджер</td>\n",
       "      <td>Нет</td>\n",
       "      <td>Менеджер</td>\n",
       "    </tr>\n",
       "    <tr>\n",
       "      <th>2</th>\n",
       "      <td>27</td>\n",
       "      <td>М</td>\n",
       "      <td>Мл. Рабочий</td>\n",
       "      <td>Да</td>\n",
       "      <td>Рабочий</td>\n",
       "    </tr>\n",
       "    <tr>\n",
       "      <th>3</th>\n",
       "      <td>36</td>\n",
       "      <td>М</td>\n",
       "      <td>Ст. Рабочий</td>\n",
       "      <td>Да</td>\n",
       "      <td>Рабочий</td>\n",
       "    </tr>\n",
       "    <tr>\n",
       "      <th>4</th>\n",
       "      <td>50</td>\n",
       "      <td>Ж</td>\n",
       "      <td>Мл. Менеджер</td>\n",
       "      <td>Да</td>\n",
       "      <td>Менеджер</td>\n",
       "    </tr>\n",
       "  </tbody>\n",
       "</table>\n",
       "</div>"
      ],
      "text/plain": [
       "   Возраст Пол     Должность Курение Должность_общая\n",
       "0       55   М  Ст. Менеджер      Да        Менеджер\n",
       "1       28   Ж  Мл. Менеджер     Нет        Менеджер\n",
       "2       27   М   Мл. Рабочий      Да         Рабочий\n",
       "3       36   М   Ст. Рабочий      Да         Рабочий\n",
       "4       50   Ж  Мл. Менеджер      Да        Менеджер"
      ]
     },
     "execution_count": 6,
     "metadata": {},
     "output_type": "execute_result"
    }
   ],
   "source": [
    "df['Должность_общая'] = df['Должность'].str.split(expand=True)[1]\n",
    "df.head()"
   ]
  },
  {
   "cell_type": "markdown",
   "metadata": {},
   "source": [
    "#### Таблица сопряженности признаков \"Должность_общая\" \"Курение\""
   ]
  },
  {
   "cell_type": "code",
   "execution_count": 7,
   "metadata": {},
   "outputs": [
    {
     "data": {
      "text/html": [
       "<div>\n",
       "<style scoped>\n",
       "    .dataframe tbody tr th:only-of-type {\n",
       "        vertical-align: middle;\n",
       "    }\n",
       "\n",
       "    .dataframe tbody tr th {\n",
       "        vertical-align: top;\n",
       "    }\n",
       "\n",
       "    .dataframe thead th {\n",
       "        text-align: right;\n",
       "    }\n",
       "</style>\n",
       "<table border=\"1\" class=\"dataframe\">\n",
       "  <thead>\n",
       "    <tr style=\"text-align: right;\">\n",
       "      <th>Курение</th>\n",
       "      <th>Да</th>\n",
       "      <th>Нет</th>\n",
       "    </tr>\n",
       "    <tr>\n",
       "      <th>Должность_общая</th>\n",
       "      <th></th>\n",
       "      <th></th>\n",
       "    </tr>\n",
       "  </thead>\n",
       "  <tbody>\n",
       "    <tr>\n",
       "      <th>Менеджер</th>\n",
       "      <td>8</td>\n",
       "      <td>4</td>\n",
       "    </tr>\n",
       "    <tr>\n",
       "      <th>Рабочий</th>\n",
       "      <td>8</td>\n",
       "      <td>11</td>\n",
       "    </tr>\n",
       "  </tbody>\n",
       "</table>\n",
       "</div>"
      ],
      "text/plain": [
       "Курение          Да  Нет\n",
       "Должность_общая         \n",
       "Менеджер          8    4\n",
       "Рабочий           8   11"
      ]
     },
     "execution_count": 7,
     "metadata": {},
     "output_type": "execute_result"
    }
   ],
   "source": [
    "df_smoke = pd.crosstab(df['Должность_общая'], df['Курение'])\n",
    "df_smoke"
   ]
  },
  {
   "cell_type": "markdown",
   "metadata": {},
   "source": [
    "#### Еще один вариант"
   ]
  },
  {
   "cell_type": "code",
   "execution_count": 8,
   "metadata": {},
   "outputs": [
    {
     "data": {
      "text/html": [
       "<div>\n",
       "<style scoped>\n",
       "    .dataframe tbody tr th:only-of-type {\n",
       "        vertical-align: middle;\n",
       "    }\n",
       "\n",
       "    .dataframe tbody tr th {\n",
       "        vertical-align: top;\n",
       "    }\n",
       "\n",
       "    .dataframe thead th {\n",
       "        text-align: right;\n",
       "    }\n",
       "</style>\n",
       "<table border=\"1\" class=\"dataframe\">\n",
       "  <thead>\n",
       "    <tr style=\"text-align: right;\">\n",
       "      <th></th>\n",
       "      <th>Возраст</th>\n",
       "      <th>Пол</th>\n",
       "      <th>Должность</th>\n",
       "      <th>Курение</th>\n",
       "      <th>Должность_общая</th>\n",
       "      <th>Должность_стмл</th>\n",
       "    </tr>\n",
       "  </thead>\n",
       "  <tbody>\n",
       "    <tr>\n",
       "      <th>0</th>\n",
       "      <td>55</td>\n",
       "      <td>М</td>\n",
       "      <td>Ст. Менеджер</td>\n",
       "      <td>Да</td>\n",
       "      <td>Менеджер</td>\n",
       "      <td>Ст.</td>\n",
       "    </tr>\n",
       "    <tr>\n",
       "      <th>1</th>\n",
       "      <td>28</td>\n",
       "      <td>Ж</td>\n",
       "      <td>Мл. Менеджер</td>\n",
       "      <td>Нет</td>\n",
       "      <td>Менеджер</td>\n",
       "      <td>Мл.</td>\n",
       "    </tr>\n",
       "    <tr>\n",
       "      <th>2</th>\n",
       "      <td>27</td>\n",
       "      <td>М</td>\n",
       "      <td>Мл. Рабочий</td>\n",
       "      <td>Да</td>\n",
       "      <td>Рабочий</td>\n",
       "      <td>Мл.</td>\n",
       "    </tr>\n",
       "    <tr>\n",
       "      <th>3</th>\n",
       "      <td>36</td>\n",
       "      <td>М</td>\n",
       "      <td>Ст. Рабочий</td>\n",
       "      <td>Да</td>\n",
       "      <td>Рабочий</td>\n",
       "      <td>Ст.</td>\n",
       "    </tr>\n",
       "    <tr>\n",
       "      <th>4</th>\n",
       "      <td>50</td>\n",
       "      <td>Ж</td>\n",
       "      <td>Мл. Менеджер</td>\n",
       "      <td>Да</td>\n",
       "      <td>Менеджер</td>\n",
       "      <td>Мл.</td>\n",
       "    </tr>\n",
       "  </tbody>\n",
       "</table>\n",
       "</div>"
      ],
      "text/plain": [
       "   Возраст Пол     Должность Курение Должность_общая Должность_стмл\n",
       "0       55   М  Ст. Менеджер      Да        Менеджер            Ст.\n",
       "1       28   Ж  Мл. Менеджер     Нет        Менеджер            Мл.\n",
       "2       27   М   Мл. Рабочий      Да         Рабочий            Мл.\n",
       "3       36   М   Ст. Рабочий      Да         Рабочий            Ст.\n",
       "4       50   Ж  Мл. Менеджер      Да        Менеджер            Мл."
      ]
     },
     "execution_count": 8,
     "metadata": {},
     "output_type": "execute_result"
    }
   ],
   "source": [
    "df['Должность_стмл'] = df['Должность'].str.split(expand=True)[0]\n",
    "df.head()"
   ]
  },
  {
   "cell_type": "code",
   "execution_count": 9,
   "metadata": {},
   "outputs": [
    {
     "data": {
      "text/html": [
       "<div>\n",
       "<style scoped>\n",
       "    .dataframe tbody tr th:only-of-type {\n",
       "        vertical-align: middle;\n",
       "    }\n",
       "\n",
       "    .dataframe tbody tr th {\n",
       "        vertical-align: top;\n",
       "    }\n",
       "\n",
       "    .dataframe thead th {\n",
       "        text-align: right;\n",
       "    }\n",
       "</style>\n",
       "<table border=\"1\" class=\"dataframe\">\n",
       "  <thead>\n",
       "    <tr style=\"text-align: right;\">\n",
       "      <th>Курение</th>\n",
       "      <th>Да</th>\n",
       "      <th>Нет</th>\n",
       "    </tr>\n",
       "    <tr>\n",
       "      <th>Должность_стмл</th>\n",
       "      <th></th>\n",
       "      <th></th>\n",
       "    </tr>\n",
       "  </thead>\n",
       "  <tbody>\n",
       "    <tr>\n",
       "      <th>Мл.</th>\n",
       "      <td>7</td>\n",
       "      <td>7</td>\n",
       "    </tr>\n",
       "    <tr>\n",
       "      <th>Ст.</th>\n",
       "      <td>9</td>\n",
       "      <td>8</td>\n",
       "    </tr>\n",
       "  </tbody>\n",
       "</table>\n",
       "</div>"
      ],
      "text/plain": [
       "Курение         Да  Нет\n",
       "Должность_стмл         \n",
       "Мл.              7    7\n",
       "Ст.              9    8"
      ]
     },
     "execution_count": 9,
     "metadata": {},
     "output_type": "execute_result"
    }
   ],
   "source": [
    "df_smoke = pd.crosstab(df['Должность_стмл'], df['Курение'])\n",
    "df_smoke"
   ]
  },
  {
   "cell_type": "markdown",
   "metadata": {},
   "source": [
    "## Графики"
   ]
  },
  {
   "cell_type": "code",
   "execution_count": 10,
   "metadata": {},
   "outputs": [
    {
     "data": {
      "text/plain": [
       "<AxesSubplot:>"
      ]
     },
     "execution_count": 10,
     "metadata": {},
     "output_type": "execute_result"
    },
    {
     "data": {
      "image/png": "[encoded data removed]",
      "text/plain": [
       "<Figure size 432x288 with 1 Axes>"
      ]
     },
     "metadata": {},
     "output_type": "display_data"
    }
   ],
   "source": [
    "sns.boxplot(x=df['Возраст'].values, y=df['Должность'].values)"
   ]
  },
  {
   "cell_type": "code",
   "execution_count": 11,
   "metadata": {},
   "outputs": [
    {
     "data": {
      "text/plain": [
       "<AxesSubplot:ylabel='count'>"
      ]
     },
     "execution_count": 11,
     "metadata": {},
     "output_type": "execute_result"
    },
    {
     "data": {
      "image/png": "[encoded data removed]",
      "text/plain": [
       "<Figure size 432x288 with 1 Axes>"
      ]
     },
     "metadata": {},
     "output_type": "display_data"
    }
   ],
   "source": [
    "sns.countplot(x=df['Должность'].values)"
   ]
  },
  {
   "cell_type": "code",
   "execution_count": 12,
   "metadata": {},
   "outputs": [
    {
     "data": {
      "text/plain": [
       "<AxesSubplot:xlabel='Возраст', ylabel='Count'>"
      ]
     },
     "execution_count": 12,
     "metadata": {},
     "output_type": "execute_result"
    },
    {
     "data": {
      "image/png": "[encoded data removed]",
      "text/plain": [
       "<Figure size 432x288 with 1 Axes>"
      ]
     },
     "metadata": {},
     "output_type": "display_data"
    }
   ],
   "source": [
    "sns.histplot(x=df['Возраст'], kde=True)"
   ]
  },
  {
   "cell_type": "markdown",
   "metadata": {},
   "source": [
    "## Cut qcut "
   ]
  },
  {
   "cell_type": "code",
   "execution_count": 13,
   "metadata": {},
   "outputs": [
    {
     "data": {
      "text/plain": [
       "<AxesSubplot:xlabel='Возраст_cat', ylabel='count'>"
      ]
     },
     "execution_count": 13,
     "metadata": {},
     "output_type": "execute_result"
    },
    {
     "data": {
      "image/png": "[encoded data removed]",
      "text/plain": [
       "<Figure size 432x288 with 1 Axes>"
      ]
     },
     "metadata": {},
     "output_type": "display_data"
    }
   ],
   "source": [
    "# Equal-width\n",
    "df['Возраст_cat'] = pd.cut(df['Возраст'], bins=3)\n",
    "sns.countplot(x=df['Возраст_cat'])"
   ]
  },
  {
   "cell_type": "code",
   "execution_count": 14,
   "metadata": {},
   "outputs": [
    {
     "data": {
      "text/plain": [
       "<AxesSubplot:xlabel='Возраст_qcat', ylabel='count'>"
      ]
     },
     "execution_count": 14,
     "metadata": {},
     "output_type": "execute_result"
    },
    {
     "data": {
      "image/png": "[encoded data removed]",
      "text/plain": [
       "<Figure size 432x288 with 1 Axes>"
      ]
     },
     "metadata": {},
     "output_type": "display_data"
    }
   ],
   "source": [
    "# Equal-height\n",
    "df['Возраст_qcat'] = pd.qcut(df['Возраст'], 3)\n",
    "sns.countplot(x=df['Возраст_qcat'])"
   ]
  },
  {
   "cell_type": "markdown",
   "metadata": {},
   "source": [
    "## Критерий хи-квадрат \n",
    "Предназначен для проверки гипотезы H0: X и Y независимы против альтернатив H_а об их зависимости"
   ]
  },
  {
   "cell_type": "code",
   "execution_count": 15,
   "metadata": {},
   "outputs": [
    {
     "data": {
      "text/plain": [
       "array([[25,  5,  2],\n",
       "       [30, 11,  5],\n",
       "       [35, 12, 10]])"
      ]
     },
     "execution_count": 15,
     "metadata": {},
     "output_type": "execute_result"
    }
   ],
   "source": [
    "a = np.array([\n",
    "    [25, 5, 2],\n",
    "    [30, 11, 5],\n",
    "    [35, 12, 10]\n",
    "])\n",
    "\n",
    "\n",
    "\n",
    "n = a.sum()\n",
    "m = len(a)\n",
    "k = len(a[0])\n",
    "a"
   ]
  },
  {
   "cell_type": "code",
   "execution_count": 16,
   "metadata": {},
   "outputs": [
    {
     "name": "stdout",
     "output_type": "stream",
     "text": [
      "3.7515811888256447 статистика хи-квадрат\n",
      "0.4406682436539594 p-значение\n",
      "4 количество степеней свободы\n",
      "[[21.33333333  6.63703704  4.02962963]\n",
      " [30.66666667  9.54074074  5.79259259]\n",
      " [38.         11.82222222  7.17777778]] матрица ожидаемых частот\n"
     ]
    }
   ],
   "source": [
    "#хи-квадрат из scipy\n",
    "s, p, d, mf = stats.chi2_contingency(a, correction=False)\n",
    "print(s, \"статистика хи-квадрат\")\n",
    "print(p, \"p-значение\")\n",
    "print(d, \"количество степеней свободы\")\n",
    "print(mf, \"матрица ожидаемых частот\")"
   ]
  },
  {
   "cell_type": "code",
   "execution_count": 17,
   "metadata": {},
   "outputs": [],
   "source": [
    "#Ручная реализация критерия хи-квадрат\n",
    "\n",
    "#print(chi2, \"хи-квадрат\")\n",
    "\n",
    "#p_value = 1 - stats.chi2.cdf(chi2, df=(m-1)*(k-1))\n",
    "#print(p_value, \"p-значение\")"
   ]
  },
  {
   "cell_type": "code",
   "execution_count": 18,
   "metadata": {},
   "outputs": [
    {
     "name": "stdout",
     "output_type": "stream",
     "text": [
      "3.7515811888256447 0.4406682436539594\n"
     ]
    }
   ],
   "source": [
    "print(s,p)\n",
    "# print(chi2, p_value)"
   ]
  },
  {
   "cell_type": "markdown",
   "metadata": {},
   "source": [
    "## Мера связи Пирсона и Крамера"
   ]
  },
  {
   "cell_type": "code",
   "execution_count": 19,
   "metadata": {},
   "outputs": [],
   "source": [
    "#Коэффициент взаимной сопряженности (коэффициент Пирсона)\n",
    "#P = \n",
    "\n",
    "#Коэффициент Крамера\n",
    "#C = \n",
    "#print(P,C)"
   ]
  },
  {
   "cell_type": "markdown",
   "metadata": {},
   "source": [
    "## Пример (численные значения)"
   ]
  },
  {
   "cell_type": "code",
   "execution_count": 20,
   "metadata": {},
   "outputs": [
    {
     "data": {
      "text/plain": [
       "array([63, 27, 27, 53, 47, 22, 46, 22, 23, 67, 56, 62, 36, 21, 56, 28, 67,\n",
       "       67, 68, 50, 41, 46, 41, 58, 57, 49, 36, 65, 44, 21, 30, 40, 62, 29,\n",
       "       53, 43, 68, 32, 55, 29, 69, 69, 21, 36, 65, 27, 60, 35, 69, 65, 56,\n",
       "       32, 37, 44, 67, 47, 38, 23, 56, 44, 52, 68, 36, 56, 41, 62, 44, 51,\n",
       "       34, 53, 47, 30, 45, 51, 21, 52, 62, 32, 67, 47, 63, 43, 66, 37, 29,\n",
       "       43, 36, 64, 53, 39, 33, 51, 30, 59, 31, 32, 40, 34, 31, 60])"
      ]
     },
     "execution_count": 20,
     "metadata": {},
     "output_type": "execute_result"
    },
    {
     "data": {
      "image/png": "[encoded data removed]",
      "text/plain": [
       "<Figure size 432x288 with 1 Axes>"
      ]
     },
     "metadata": {},
     "output_type": "display_data"
    }
   ],
   "source": [
    "age = np.random.randint(20, 70, 100)\n",
    "sns.histplot(age, kde=True)\n",
    "age"
   ]
  },
  {
   "cell_type": "code",
   "execution_count": 21,
   "metadata": {},
   "outputs": [
    {
     "data": {
      "text/plain": [
       "<AxesSubplot:ylabel='Count'>"
      ]
     },
     "execution_count": 21,
     "metadata": {},
     "output_type": "execute_result"
    },
    {
     "data": {
      "image/png": "[encoded data removed]",
      "text/plain": [
       "<Figure size 432x288 with 1 Axes>"
      ]
     },
     "metadata": {},
     "output_type": "display_data"
    }
   ],
   "source": [
    "salary = 150_000 - 150*(age - 45)**2 + np.random.normal(0, 10000, size=age.size)\n",
    "sns.histplot(salary, kde=True)"
   ]
  },
  {
   "cell_type": "code",
   "execution_count": 22,
   "metadata": {},
   "outputs": [
    {
     "data": {
      "text/plain": [
       "<AxesSubplot:>"
      ]
     },
     "execution_count": 22,
     "metadata": {},
     "output_type": "execute_result"
    },
    {
     "data": {
      "image/png": "[encoded data removed]",
      "text/plain": [
       "<Figure size 432x288 with 1 Axes>"
      ]
     },
     "metadata": {},
     "output_type": "display_data"
    }
   ],
   "source": [
    "sns.scatterplot(x=age, y=salary)"
   ]
  },
  {
   "cell_type": "code",
   "execution_count": 23,
   "metadata": {},
   "outputs": [
    {
     "data": {
      "text/plain": [
       "SpearmanrResult(correlation=-0.13952345233603744, pvalue=0.166213048276727)"
      ]
     },
     "execution_count": 23,
     "metadata": {},
     "output_type": "execute_result"
    }
   ],
   "source": [
    "stats.spearmanr(age, salary)"
   ]
  },
  {
   "cell_type": "code",
   "execution_count": 24,
   "metadata": {},
   "outputs": [],
   "source": [
    "age_cat = pd.qcut(age, 8)\n",
    "sal_cat = pd.qcut(salary, 6)"
   ]
  },
  {
   "cell_type": "code",
   "execution_count": 25,
   "metadata": {},
   "outputs": [
    {
     "data": {
      "text/plain": [
       "[(58.25, 65.0], (20.999, 29.0], (20.999, 29.0], (52.0, 58.25], (45.5, 52.0], ..., (29.0, 33.75], (33.75, 40.0], (33.75, 40.0], (29.0, 33.75], (58.25, 65.0]]\n",
       "Length: 100\n",
       "Categories (8, interval[float64]): [(20.999, 29.0] < (29.0, 33.75] < (33.75, 40.0] < (40.0, 45.5] < (45.5, 52.0] < (52.0, 58.25] < (58.25, 65.0] < (65.0, 69.0]]"
      ]
     },
     "execution_count": 25,
     "metadata": {},
     "output_type": "execute_result"
    }
   ],
   "source": [
    "age_cat"
   ]
  },
  {
   "cell_type": "code",
   "execution_count": 26,
   "metadata": {},
   "outputs": [
    {
     "data": {
      "text/plain": [
       "[(79370.737, 106605.803], (79370.737, 106605.803], (79370.737, 106605.803], (126779.89, 138606.392], (145744.026, 163127.308], ..., (138606.392, 145744.026], (126779.89, 138606.392], (106605.803, 126779.89], (106605.803, 126779.89], (106605.803, 126779.89]]\n",
       "Length: 100\n",
       "Categories (6, interval[float64]): [(49812.65900000001, 79370.737] < (79370.737, 106605.803] < (106605.803, 126779.89] < (126779.89, 138606.392] < (138606.392, 145744.026] < (145744.026, 163127.308]]"
      ]
     },
     "execution_count": 26,
     "metadata": {},
     "output_type": "execute_result"
    }
   ],
   "source": [
    "sal_cat"
   ]
  },
  {
   "cell_type": "code",
   "execution_count": 27,
   "metadata": {},
   "outputs": [
    {
     "data": {
      "text/plain": [
       "<AxesSubplot:ylabel='count'>"
      ]
     },
     "execution_count": 27,
     "metadata": {},
     "output_type": "execute_result"
    },
    {
     "data": {
      "image/png": "[encoded data removed]",
      "text/plain": [
       "<Figure size 432x288 with 1 Axes>"
      ]
     },
     "metadata": {},
     "output_type": "display_data"
    }
   ],
   "source": [
    "sns.countplot(x=age_cat)"
   ]
  },
  {
   "cell_type": "code",
   "execution_count": 28,
   "metadata": {},
   "outputs": [
    {
     "data": {
      "text/plain": [
       "<AxesSubplot:ylabel='count'>"
      ]
     },
     "execution_count": 28,
     "metadata": {},
     "output_type": "execute_result"
    },
    {
     "data": {
      "image/png": "[encoded data removed]",
      "text/plain": [
       "<Figure size 432x288 with 1 Axes>"
      ]
     },
     "metadata": {},
     "output_type": "display_data"
    }
   ],
   "source": [
    "sns.countplot(x=sal_cat)"
   ]
  },
  {
   "cell_type": "code",
   "execution_count": 29,
   "metadata": {},
   "outputs": [
    {
     "data": {
      "text/html": [
       "<div>\n",
       "<style scoped>\n",
       "    .dataframe tbody tr th:only-of-type {\n",
       "        vertical-align: middle;\n",
       "    }\n",
       "\n",
       "    .dataframe tbody tr th {\n",
       "        vertical-align: top;\n",
       "    }\n",
       "\n",
       "    .dataframe thead th {\n",
       "        text-align: right;\n",
       "    }\n",
       "</style>\n",
       "<table border=\"1\" class=\"dataframe\">\n",
       "  <thead>\n",
       "    <tr style=\"text-align: right;\">\n",
       "      <th></th>\n",
       "      <th>Age</th>\n",
       "      <th>Salary</th>\n",
       "    </tr>\n",
       "  </thead>\n",
       "  <tbody>\n",
       "    <tr>\n",
       "      <th>0</th>\n",
       "      <td>(58.25, 65.0]</td>\n",
       "      <td>(79370.737, 106605.803]</td>\n",
       "    </tr>\n",
       "    <tr>\n",
       "      <th>1</th>\n",
       "      <td>(20.999, 29.0]</td>\n",
       "      <td>(79370.737, 106605.803]</td>\n",
       "    </tr>\n",
       "    <tr>\n",
       "      <th>2</th>\n",
       "      <td>(20.999, 29.0]</td>\n",
       "      <td>(79370.737, 106605.803]</td>\n",
       "    </tr>\n",
       "    <tr>\n",
       "      <th>3</th>\n",
       "      <td>(52.0, 58.25]</td>\n",
       "      <td>(126779.89, 138606.392]</td>\n",
       "    </tr>\n",
       "    <tr>\n",
       "      <th>4</th>\n",
       "      <td>(45.5, 52.0]</td>\n",
       "      <td>(145744.026, 163127.308]</td>\n",
       "    </tr>\n",
       "  </tbody>\n",
       "</table>\n",
       "</div>"
      ],
      "text/plain": [
       "              Age                    Salary\n",
       "0   (58.25, 65.0]   (79370.737, 106605.803]\n",
       "1  (20.999, 29.0]   (79370.737, 106605.803]\n",
       "2  (20.999, 29.0]   (79370.737, 106605.803]\n",
       "3   (52.0, 58.25]   (126779.89, 138606.392]\n",
       "4    (45.5, 52.0]  (145744.026, 163127.308]"
      ]
     },
     "execution_count": 29,
     "metadata": {},
     "output_type": "execute_result"
    }
   ],
   "source": [
    "df=  pd.DataFrame(np.vstack([age_cat, sal_cat]).T, columns=['Age', 'Salary'])\n",
    "df.head()"
   ]
  },
  {
   "cell_type": "code",
   "execution_count": 30,
   "metadata": {},
   "outputs": [
    {
     "data": {
      "text/plain": [
       "(144.9585830835831,\n",
       " 2.474719297899067e-15,\n",
       " 35,\n",
       " array([[2.55, 2.55, 2.4 , 2.55, 2.4 , 2.55],\n",
       "        [1.7 , 1.7 , 1.6 , 1.7 , 1.6 , 1.7 ],\n",
       "        [2.38, 2.38, 2.24, 2.38, 2.24, 2.38],\n",
       "        [1.87, 1.87, 1.76, 1.87, 1.76, 1.87],\n",
       "        [2.21, 2.21, 2.08, 2.21, 2.08, 2.21],\n",
       "        [2.04, 2.04, 1.92, 2.04, 1.92, 2.04],\n",
       "        [2.21, 2.21, 2.08, 2.21, 2.08, 2.21],\n",
       "        [2.04, 2.04, 1.92, 2.04, 1.92, 2.04]]))"
      ]
     },
     "execution_count": 30,
     "metadata": {},
     "output_type": "execute_result"
    }
   ],
   "source": [
    "stats.chi2_contingency(pd.crosstab(df['Age'], df['Salary']))"
   ]
  }
 ],
 "metadata": {
  "kernelspec": {
   "display_name": "Python 3",
   "language": "python",
   "name": "python3"
  },
  "language_info": {
   "codemirror_mode": {
    "name": "ipython",
    "version": 3
   },
   "file_extension": ".py",
   "mimetype": "text/x-python",
   "name": "python",
   "nbconvert_exporter": "python",
   "pygments_lexer": "ipython3",
   "version": "3.8.2"
  }
 },
 "nbformat": 4,
 "nbformat_minor": 5
}
