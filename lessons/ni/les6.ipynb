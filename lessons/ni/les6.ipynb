{
 "cells": [
  {
   "cell_type": "code",
   "execution_count": 1,
   "metadata": {},
   "outputs": [],
   "source": [
    "import numpy as np\n",
    "import pandas as pd\n",
    "from scipy import stats\n",
    "import matplotlib.pyplot as plt\n",
    "%matplotlib inline\n",
    "import seaborn as sns; sns.set(style='whitegrid')"
   ]
  },
  {
   "cell_type": "markdown",
   "metadata": {},
   "source": [
    "## Crosstab"
   ]
  },
  {
   "cell_type": "code",
   "execution_count": 40,
   "metadata": {},
   "outputs": [
    {
     "data": {
      "text/html": [
       "<div>\n",
       "<style scoped>\n",
       "    .dataframe tbody tr th:only-of-type {\n",
       "        vertical-align: middle;\n",
       "    }\n",
       "\n",
       "    .dataframe tbody tr th {\n",
       "        vertical-align: top;\n",
       "    }\n",
       "\n",
       "    .dataframe thead th {\n",
       "        text-align: right;\n",
       "    }\n",
       "</style>\n",
       "<table border=\"1\" class=\"dataframe\">\n",
       "  <thead>\n",
       "    <tr style=\"text-align: right;\">\n",
       "      <th></th>\n",
       "      <th>Возраст</th>\n",
       "      <th>Пол</th>\n",
       "      <th>Должность</th>\n",
       "      <th>Курение</th>\n",
       "    </tr>\n",
       "  </thead>\n",
       "  <tbody>\n",
       "    <tr>\n",
       "      <th>0</th>\n",
       "      <td>55</td>\n",
       "      <td>М</td>\n",
       "      <td>Ст. Менеджер</td>\n",
       "      <td>Да</td>\n",
       "    </tr>\n",
       "    <tr>\n",
       "      <th>1</th>\n",
       "      <td>28</td>\n",
       "      <td>Ж</td>\n",
       "      <td>Мл. Менеджер</td>\n",
       "      <td>Нет</td>\n",
       "    </tr>\n",
       "    <tr>\n",
       "      <th>2</th>\n",
       "      <td>27</td>\n",
       "      <td>М</td>\n",
       "      <td>Мл. Рабочий</td>\n",
       "      <td>Да</td>\n",
       "    </tr>\n",
       "    <tr>\n",
       "      <th>3</th>\n",
       "      <td>36</td>\n",
       "      <td>М</td>\n",
       "      <td>Ст. Рабочий</td>\n",
       "      <td>Да</td>\n",
       "    </tr>\n",
       "    <tr>\n",
       "      <th>4</th>\n",
       "      <td>50</td>\n",
       "      <td>Ж</td>\n",
       "      <td>Мл. Менеджер</td>\n",
       "      <td>Да</td>\n",
       "    </tr>\n",
       "  </tbody>\n",
       "</table>\n",
       "</div>"
      ],
      "text/plain": [
       "   Возраст Пол     Должность Курение\n",
       "0       55   М  Ст. Менеджер      Да\n",
       "1       28   Ж  Мл. Менеджер     Нет\n",
       "2       27   М   Мл. Рабочий      Да\n",
       "3       36   М   Ст. Рабочий      Да\n",
       "4       50   Ж  Мл. Менеджер      Да"
      ]
     },
     "execution_count": 40,
     "metadata": {},
     "output_type": "execute_result"
    }
   ],
   "source": [
    "df = pd.read_csv('../data/smoking.csv', delimiter=';')\n",
    "df.head(5)"
   ]
  },
  {
   "cell_type": "code",
   "execution_count": 3,
   "metadata": {},
   "outputs": [
    {
     "name": "stdout",
     "output_type": "stream",
     "text": [
      "<class 'pandas.core.frame.DataFrame'>\n",
      "RangeIndex: 31 entries, 0 to 30\n",
      "Data columns (total 4 columns):\n",
      " #   Column     Non-Null Count  Dtype \n",
      "---  ------     --------------  ----- \n",
      " 0   Возраст    31 non-null     int64 \n",
      " 1   Пол        31 non-null     object\n",
      " 2   Должность  31 non-null     object\n",
      " 3   Курение    31 non-null     object\n",
      "dtypes: int64(1), object(3)\n",
      "memory usage: 1.1+ KB\n"
     ]
    }
   ],
   "source": [
    "df.info()"
   ]
  },
  {
   "cell_type": "markdown",
   "metadata": {},
   "source": [
    "#### Таблица сопряженности признаков \"Пол\" \"Курение\""
   ]
  },
  {
   "cell_type": "code",
   "execution_count": 4,
   "metadata": {},
   "outputs": [
    {
     "data": {
      "text/html": [
       "<div>\n",
       "<style scoped>\n",
       "    .dataframe tbody tr th:only-of-type {\n",
       "        vertical-align: middle;\n",
       "    }\n",
       "\n",
       "    .dataframe tbody tr th {\n",
       "        vertical-align: top;\n",
       "    }\n",
       "\n",
       "    .dataframe thead th {\n",
       "        text-align: right;\n",
       "    }\n",
       "</style>\n",
       "<table border=\"1\" class=\"dataframe\">\n",
       "  <thead>\n",
       "    <tr style=\"text-align: right;\">\n",
       "      <th>Курение</th>\n",
       "      <th>Да</th>\n",
       "      <th>Нет</th>\n",
       "    </tr>\n",
       "    <tr>\n",
       "      <th>Пол</th>\n",
       "      <th></th>\n",
       "      <th></th>\n",
       "    </tr>\n",
       "  </thead>\n",
       "  <tbody>\n",
       "    <tr>\n",
       "      <th>Ж</th>\n",
       "      <td>3</td>\n",
       "      <td>11</td>\n",
       "    </tr>\n",
       "    <tr>\n",
       "      <th>М</th>\n",
       "      <td>13</td>\n",
       "      <td>4</td>\n",
       "    </tr>\n",
       "  </tbody>\n",
       "</table>\n",
       "</div>"
      ],
      "text/plain": [
       "Курение  Да  Нет\n",
       "Пол             \n",
       "Ж         3   11\n",
       "М        13    4"
      ]
     },
     "execution_count": 4,
     "metadata": {},
     "output_type": "execute_result"
    }
   ],
   "source": [
    "df_sex_smoke = pd.crosstab(df['Пол'], df['Курение'])\n",
    "df_sex_smoke"
   ]
  },
  {
   "cell_type": "markdown",
   "metadata": {},
   "source": [
    "#### Таблица сопряженности признаков \"Должность\" \"Курение\""
   ]
  },
  {
   "cell_type": "code",
   "execution_count": 5,
   "metadata": {},
   "outputs": [
    {
     "data": {
      "text/html": [
       "<div>\n",
       "<style scoped>\n",
       "    .dataframe tbody tr th:only-of-type {\n",
       "        vertical-align: middle;\n",
       "    }\n",
       "\n",
       "    .dataframe tbody tr th {\n",
       "        vertical-align: top;\n",
       "    }\n",
       "\n",
       "    .dataframe thead th {\n",
       "        text-align: right;\n",
       "    }\n",
       "</style>\n",
       "<table border=\"1\" class=\"dataframe\">\n",
       "  <thead>\n",
       "    <tr style=\"text-align: right;\">\n",
       "      <th>Курение</th>\n",
       "      <th>Да</th>\n",
       "      <th>Нет</th>\n",
       "    </tr>\n",
       "    <tr>\n",
       "      <th>Должность</th>\n",
       "      <th></th>\n",
       "      <th></th>\n",
       "    </tr>\n",
       "  </thead>\n",
       "  <tbody>\n",
       "    <tr>\n",
       "      <th>Мл. Менеджер</th>\n",
       "      <td>4</td>\n",
       "      <td>3</td>\n",
       "    </tr>\n",
       "    <tr>\n",
       "      <th>Мл. Рабочий</th>\n",
       "      <td>3</td>\n",
       "      <td>4</td>\n",
       "    </tr>\n",
       "    <tr>\n",
       "      <th>Ст. Менеджер</th>\n",
       "      <td>4</td>\n",
       "      <td>1</td>\n",
       "    </tr>\n",
       "    <tr>\n",
       "      <th>Ст. Рабочий</th>\n",
       "      <td>5</td>\n",
       "      <td>7</td>\n",
       "    </tr>\n",
       "  </tbody>\n",
       "</table>\n",
       "</div>"
      ],
      "text/plain": [
       "Курение       Да  Нет\n",
       "Должность            \n",
       "Мл. Менеджер   4    3\n",
       "Мл. Рабочий    3    4\n",
       "Ст. Менеджер   4    1\n",
       "Ст. Рабочий    5    7"
      ]
     },
     "execution_count": 5,
     "metadata": {},
     "output_type": "execute_result"
    }
   ],
   "source": [
    "df_position_smoke = pd.crosstab(df['Должность'], df['Курение'])\n",
    "df_position_smoke"
   ]
  },
  {
   "cell_type": "markdown",
   "metadata": {},
   "source": [
    "#### Добавим более обобщенную колонку должностей"
   ]
  },
  {
   "cell_type": "code",
   "execution_count": 6,
   "metadata": {},
   "outputs": [
    {
     "data": {
      "text/html": [
       "<div>\n",
       "<style scoped>\n",
       "    .dataframe tbody tr th:only-of-type {\n",
       "        vertical-align: middle;\n",
       "    }\n",
       "\n",
       "    .dataframe tbody tr th {\n",
       "        vertical-align: top;\n",
       "    }\n",
       "\n",
       "    .dataframe thead th {\n",
       "        text-align: right;\n",
       "    }\n",
       "</style>\n",
       "<table border=\"1\" class=\"dataframe\">\n",
       "  <thead>\n",
       "    <tr style=\"text-align: right;\">\n",
       "      <th></th>\n",
       "      <th>Возраст</th>\n",
       "      <th>Пол</th>\n",
       "      <th>Должность</th>\n",
       "      <th>Курение</th>\n",
       "      <th>Должность_общая</th>\n",
       "    </tr>\n",
       "  </thead>\n",
       "  <tbody>\n",
       "    <tr>\n",
       "      <th>0</th>\n",
       "      <td>55</td>\n",
       "      <td>М</td>\n",
       "      <td>Ст. Менеджер</td>\n",
       "      <td>Да</td>\n",
       "      <td>Менеджер</td>\n",
       "    </tr>\n",
       "    <tr>\n",
       "      <th>1</th>\n",
       "      <td>28</td>\n",
       "      <td>Ж</td>\n",
       "      <td>Мл. Менеджер</td>\n",
       "      <td>Нет</td>\n",
       "      <td>Менеджер</td>\n",
       "    </tr>\n",
       "    <tr>\n",
       "      <th>2</th>\n",
       "      <td>27</td>\n",
       "      <td>М</td>\n",
       "      <td>Мл. Рабочий</td>\n",
       "      <td>Да</td>\n",
       "      <td>Рабочий</td>\n",
       "    </tr>\n",
       "    <tr>\n",
       "      <th>3</th>\n",
       "      <td>36</td>\n",
       "      <td>М</td>\n",
       "      <td>Ст. Рабочий</td>\n",
       "      <td>Да</td>\n",
       "      <td>Рабочий</td>\n",
       "    </tr>\n",
       "    <tr>\n",
       "      <th>4</th>\n",
       "      <td>50</td>\n",
       "      <td>Ж</td>\n",
       "      <td>Мл. Менеджер</td>\n",
       "      <td>Да</td>\n",
       "      <td>Менеджер</td>\n",
       "    </tr>\n",
       "  </tbody>\n",
       "</table>\n",
       "</div>"
      ],
      "text/plain": [
       "   Возраст Пол     Должность Курение Должность_общая\n",
       "0       55   М  Ст. Менеджер      Да        Менеджер\n",
       "1       28   Ж  Мл. Менеджер     Нет        Менеджер\n",
       "2       27   М   Мл. Рабочий      Да         Рабочий\n",
       "3       36   М   Ст. Рабочий      Да         Рабочий\n",
       "4       50   Ж  Мл. Менеджер      Да        Менеджер"
      ]
     },
     "execution_count": 6,
     "metadata": {},
     "output_type": "execute_result"
    }
   ],
   "source": [
    "df['Должность_общая'] = df['Должность'].str.split(expand=True)[1]\n",
    "df.head()"
   ]
  },
  {
   "cell_type": "markdown",
   "metadata": {},
   "source": [
    "#### Таблица сопряженности признаков \"Должность_общая\" \"Курение\""
   ]
  },
  {
   "cell_type": "code",
   "execution_count": 7,
   "metadata": {},
   "outputs": [
    {
     "data": {
      "text/html": [
       "<div>\n",
       "<style scoped>\n",
       "    .dataframe tbody tr th:only-of-type {\n",
       "        vertical-align: middle;\n",
       "    }\n",
       "\n",
       "    .dataframe tbody tr th {\n",
       "        vertical-align: top;\n",
       "    }\n",
       "\n",
       "    .dataframe thead th {\n",
       "        text-align: right;\n",
       "    }\n",
       "</style>\n",
       "<table border=\"1\" class=\"dataframe\">\n",
       "  <thead>\n",
       "    <tr style=\"text-align: right;\">\n",
       "      <th>Курение</th>\n",
       "      <th>Да</th>\n",
       "      <th>Нет</th>\n",
       "    </tr>\n",
       "    <tr>\n",
       "      <th>Должность_общая</th>\n",
       "      <th></th>\n",
       "      <th></th>\n",
       "    </tr>\n",
       "  </thead>\n",
       "  <tbody>\n",
       "    <tr>\n",
       "      <th>Менеджер</th>\n",
       "      <td>8</td>\n",
       "      <td>4</td>\n",
       "    </tr>\n",
       "    <tr>\n",
       "      <th>Рабочий</th>\n",
       "      <td>8</td>\n",
       "      <td>11</td>\n",
       "    </tr>\n",
       "  </tbody>\n",
       "</table>\n",
       "</div>"
      ],
      "text/plain": [
       "Курение          Да  Нет\n",
       "Должность_общая         \n",
       "Менеджер          8    4\n",
       "Рабочий           8   11"
      ]
     },
     "execution_count": 7,
     "metadata": {},
     "output_type": "execute_result"
    }
   ],
   "source": [
    "df_smoke = pd.crosstab(df['Должность_общая'], df['Курение'])\n",
    "df_smoke"
   ]
  },
  {
   "cell_type": "markdown",
   "metadata": {},
   "source": [
    "#### Еще один вариант"
   ]
  },
  {
   "cell_type": "code",
   "execution_count": 8,
   "metadata": {},
   "outputs": [
    {
     "data": {
      "text/html": [
       "<div>\n",
       "<style scoped>\n",
       "    .dataframe tbody tr th:only-of-type {\n",
       "        vertical-align: middle;\n",
       "    }\n",
       "\n",
       "    .dataframe tbody tr th {\n",
       "        vertical-align: top;\n",
       "    }\n",
       "\n",
       "    .dataframe thead th {\n",
       "        text-align: right;\n",
       "    }\n",
       "</style>\n",
       "<table border=\"1\" class=\"dataframe\">\n",
       "  <thead>\n",
       "    <tr style=\"text-align: right;\">\n",
       "      <th></th>\n",
       "      <th>Возраст</th>\n",
       "      <th>Пол</th>\n",
       "      <th>Должность</th>\n",
       "      <th>Курение</th>\n",
       "      <th>Должность_общая</th>\n",
       "      <th>Должность_стмл</th>\n",
       "    </tr>\n",
       "  </thead>\n",
       "  <tbody>\n",
       "    <tr>\n",
       "      <th>0</th>\n",
       "      <td>55</td>\n",
       "      <td>М</td>\n",
       "      <td>Ст. Менеджер</td>\n",
       "      <td>Да</td>\n",
       "      <td>Менеджер</td>\n",
       "      <td>Ст.</td>\n",
       "    </tr>\n",
       "    <tr>\n",
       "      <th>1</th>\n",
       "      <td>28</td>\n",
       "      <td>Ж</td>\n",
       "      <td>Мл. Менеджер</td>\n",
       "      <td>Нет</td>\n",
       "      <td>Менеджер</td>\n",
       "      <td>Мл.</td>\n",
       "    </tr>\n",
       "    <tr>\n",
       "      <th>2</th>\n",
       "      <td>27</td>\n",
       "      <td>М</td>\n",
       "      <td>Мл. Рабочий</td>\n",
       "      <td>Да</td>\n",
       "      <td>Рабочий</td>\n",
       "      <td>Мл.</td>\n",
       "    </tr>\n",
       "    <tr>\n",
       "      <th>3</th>\n",
       "      <td>36</td>\n",
       "      <td>М</td>\n",
       "      <td>Ст. Рабочий</td>\n",
       "      <td>Да</td>\n",
       "      <td>Рабочий</td>\n",
       "      <td>Ст.</td>\n",
       "    </tr>\n",
       "    <tr>\n",
       "      <th>4</th>\n",
       "      <td>50</td>\n",
       "      <td>Ж</td>\n",
       "      <td>Мл. Менеджер</td>\n",
       "      <td>Да</td>\n",
       "      <td>Менеджер</td>\n",
       "      <td>Мл.</td>\n",
       "    </tr>\n",
       "  </tbody>\n",
       "</table>\n",
       "</div>"
      ],
      "text/plain": [
       "   Возраст Пол     Должность Курение Должность_общая Должность_стмл\n",
       "0       55   М  Ст. Менеджер      Да        Менеджер            Ст.\n",
       "1       28   Ж  Мл. Менеджер     Нет        Менеджер            Мл.\n",
       "2       27   М   Мл. Рабочий      Да         Рабочий            Мл.\n",
       "3       36   М   Ст. Рабочий      Да         Рабочий            Ст.\n",
       "4       50   Ж  Мл. Менеджер      Да        Менеджер            Мл."
      ]
     },
     "execution_count": 8,
     "metadata": {},
     "output_type": "execute_result"
    }
   ],
   "source": [
    "df['Должность_стмл'] = df['Должность'].str.split(expand=True)[0]\n",
    "df.head()"
   ]
  },
  {
   "cell_type": "code",
   "execution_count": 9,
   "metadata": {},
   "outputs": [
    {
     "data": {
      "text/html": [
       "<div>\n",
       "<style scoped>\n",
       "    .dataframe tbody tr th:only-of-type {\n",
       "        vertical-align: middle;\n",
       "    }\n",
       "\n",
       "    .dataframe tbody tr th {\n",
       "        vertical-align: top;\n",
       "    }\n",
       "\n",
       "    .dataframe thead th {\n",
       "        text-align: right;\n",
       "    }\n",
       "</style>\n",
       "<table border=\"1\" class=\"dataframe\">\n",
       "  <thead>\n",
       "    <tr style=\"text-align: right;\">\n",
       "      <th>Курение</th>\n",
       "      <th>Да</th>\n",
       "      <th>Нет</th>\n",
       "    </tr>\n",
       "    <tr>\n",
       "      <th>Должность_стмл</th>\n",
       "      <th></th>\n",
       "      <th></th>\n",
       "    </tr>\n",
       "  </thead>\n",
       "  <tbody>\n",
       "    <tr>\n",
       "      <th>Мл.</th>\n",
       "      <td>7</td>\n",
       "      <td>7</td>\n",
       "    </tr>\n",
       "    <tr>\n",
       "      <th>Ст.</th>\n",
       "      <td>9</td>\n",
       "      <td>8</td>\n",
       "    </tr>\n",
       "  </tbody>\n",
       "</table>\n",
       "</div>"
      ],
      "text/plain": [
       "Курение         Да  Нет\n",
       "Должность_стмл         \n",
       "Мл.              7    7\n",
       "Ст.              9    8"
      ]
     },
     "execution_count": 9,
     "metadata": {},
     "output_type": "execute_result"
    }
   ],
   "source": [
    "df_smoke = pd.crosstab(df['Должность_стмл'], df['Курение'])\n",
    "df_smoke"
   ]
  },
  {
   "cell_type": "markdown",
   "metadata": {},
   "source": [
    "## Графики"
   ]
  },
  {
   "cell_type": "code",
   "execution_count": 10,
   "metadata": {},
   "outputs": [
    {
     "data": {
      "text/plain": [
       "<AxesSubplot:xlabel='Возраст', ylabel='Count'>"
      ]
     },
     "execution_count": 10,
     "metadata": {},
     "output_type": "execute_result"
    },
    {
     "data": {
      "image/png": "[encoded data removed]",
      "text/plain": [
       "<Figure size 432x288 with 1 Axes>"
      ]
     },
     "metadata": {},
     "output_type": "display_data"
    }
   ],
   "source": [
    "sns.histplot(x=df['Возраст'], kde=True)"
   ]
  },
  {
   "cell_type": "code",
   "execution_count": 11,
   "metadata": {},
   "outputs": [
    {
     "data": {
      "text/plain": [
       "<AxesSubplot:xlabel='Должность', ylabel='Count'>"
      ]
     },
     "execution_count": 11,
     "metadata": {},
     "output_type": "execute_result"
    },
    {
     "data": {
      "image/png": "[encoded data removed]",
      "text/plain": [
       "<Figure size 432x288 with 1 Axes>"
      ]
     },
     "metadata": {},
     "output_type": "display_data"
    }
   ],
   "source": [
    "sns.histplot(x=df['Должность'], kde=True)"
   ]
  },
  {
   "cell_type": "code",
   "execution_count": 12,
   "metadata": {},
   "outputs": [
    {
     "data": {
      "text/plain": [
       "<AxesSubplot:>"
      ]
     },
     "execution_count": 12,
     "metadata": {},
     "output_type": "execute_result"
    },
    {
     "data": {
      "image/png": "[encoded data removed]",
      "text/plain": [
       "<Figure size 432x288 with 1 Axes>"
      ]
     },
     "metadata": {},
     "output_type": "display_data"
    }
   ],
   "source": [
    "sns.boxplot(x=df['Возраст'].values, y=df['Должность'].values)"
   ]
  },
  {
   "cell_type": "code",
   "execution_count": 13,
   "metadata": {},
   "outputs": [
    {
     "data": {
      "text/plain": [
       "<AxesSubplot:ylabel='count'>"
      ]
     },
     "execution_count": 13,
     "metadata": {},
     "output_type": "execute_result"
    },
    {
     "data": {
      "image/png": "[encoded data removed]",
      "text/plain": [
       "<Figure size 432x288 with 1 Axes>"
      ]
     },
     "metadata": {},
     "output_type": "display_data"
    }
   ],
   "source": [
    "sns.countplot(x=df['Должность'].values)"
   ]
  },
  {
   "cell_type": "code",
   "execution_count": 41,
   "metadata": {},
   "outputs": [
    {
     "data": {
      "text/plain": [
       "<AxesSubplot:xlabel='Должность', ylabel='Курение'>"
      ]
     },
     "execution_count": 41,
     "metadata": {},
     "output_type": "execute_result"
    },
    {
     "data": {
      "image/png": "[encoded data removed]",
      "text/plain": [
       "<Figure size 432x288 with 1 Axes>"
      ]
     },
     "metadata": {},
     "output_type": "display_data"
    }
   ],
   "source": [
    "sns.scatterplot(x=df['Должность'], y=df['Курение'])"
   ]
  },
  {
   "cell_type": "markdown",
   "metadata": {},
   "source": [
    "## Cut qcut "
   ]
  },
  {
   "cell_type": "code",
   "execution_count": 20,
   "metadata": {},
   "outputs": [
    {
     "data": {
      "text/plain": [
       "<AxesSubplot:xlabel='Возраст_cat', ylabel='count'>"
      ]
     },
     "execution_count": 20,
     "metadata": {},
     "output_type": "execute_result"
    },
    {
     "data": {
      "image/png": "[encoded data removed]",
      "text/plain": [
       "<Figure size 432x288 with 1 Axes>"
      ]
     },
     "metadata": {},
     "output_type": "display_data"
    }
   ],
   "source": [
    "# Equal-width\n",
    "df['Возраст_cat'] = pd.cut(df['Возраст'], bins=5)\n",
    "sns.countplot(x=df['Возраст_cat'])"
   ]
  },
  {
   "cell_type": "code",
   "execution_count": 21,
   "metadata": {},
   "outputs": [
    {
     "data": {
      "text/plain": [
       "<AxesSubplot:xlabel='Возраст_qcat', ylabel='count'>"
      ]
     },
     "execution_count": 21,
     "metadata": {},
     "output_type": "execute_result"
    },
    {
     "data": {
      "image/png": "[encoded data removed]",
      "text/plain": [
       "<Figure size 432x288 with 1 Axes>"
      ]
     },
     "metadata": {},
     "output_type": "display_data"
    }
   ],
   "source": [
    "# Equal-height\n",
    "df['Возраст_qcat'] = pd.qcut(df['Возраст'], 5)\n",
    "sns.countplot(x=df['Возраст_qcat'])"
   ]
  },
  {
   "cell_type": "markdown",
   "metadata": {},
   "source": [
    "## Критерий хи-квадрат \n",
    "Предназначен для проверки гипотезы H0: X и Y независимы против альтернатив H_а об их зависимости"
   ]
  },
  {
   "cell_type": "code",
   "execution_count": 111,
   "metadata": {},
   "outputs": [
    {
     "data": {
      "text/plain": [
       "array([[25,  5,  2],\n",
       "       [30, 11,  5],\n",
       "       [35, 12, 10]])"
      ]
     },
     "execution_count": 111,
     "metadata": {},
     "output_type": "execute_result"
    }
   ],
   "source": [
    "a = np.array([\n",
    "    [25, 5, 2],\n",
    "    [30, 11, 5],\n",
    "    [35, 12, 10]\n",
    "])\n",
    "\n",
    "\n",
    "\n",
    "n = a.sum()\n",
    "m = len(a)\n",
    "k = len(a[0])\n",
    "a"
   ]
  },
  {
   "cell_type": "code",
   "execution_count": 112,
   "metadata": {},
   "outputs": [
    {
     "name": "stdout",
     "output_type": "stream",
     "text": [
      "3.7515811888256447 статистика хи-квадрат\n",
      "0.4406682436539594 p-значение\n",
      "4 количество степеней свободы\n",
      "[[21.33333333  6.63703704  4.02962963]\n",
      " [30.66666667  9.54074074  5.79259259]\n",
      " [38.         11.82222222  7.17777778]] матрица ожидаемых частот\n"
     ]
    }
   ],
   "source": [
    "#хи-квадрат из scipy\n",
    "s, p, d, mf = stats.chi2_contingency(a, correction=False)\n",
    "print(s, \"статистика хи-квадрат\")\n",
    "print(p, \"p-значение\")\n",
    "print(d, \"количество степеней свободы\")\n",
    "print(mf, \"матрица ожидаемых частот\")"
   ]
  },
  {
   "cell_type": "code",
   "execution_count": 113,
   "metadata": {},
   "outputs": [
    {
     "name": "stdout",
     "output_type": "stream",
     "text": [
      "3.751581188825644 хи-квадрат\n",
      "0.4406682436539596 p-значение\n"
     ]
    }
   ],
   "source": [
    "#Ручная реализация критерия хи-квадрат\n",
    "\n",
    "t_sum = 0\n",
    "m = len(a)\n",
    "k = len(a[0])\n",
    "for i in range(m):\n",
    "    for j in range(k):\n",
    "        nij = a[i][j]\n",
    "        ni = a[i,:].sum()\n",
    "        nj = a[:, j].sum()\n",
    "        \n",
    "        t_sum += (nij - ni*nj/n)**2/(ni*nj)\n",
    "\n",
    "\n",
    "chi2 = n * t_sum\n",
    "print(chi2, \"хи-квадрат\")\n",
    "\n",
    "p_value = 1 - stats.chi2.cdf(chi2, df=(m-1)*(k-1))\n",
    "print(p_value, \"p-значение\")"
   ]
  },
  {
   "cell_type": "code",
   "execution_count": 114,
   "metadata": {},
   "outputs": [
    {
     "name": "stdout",
     "output_type": "stream",
     "text": [
      "3.7515811888256447 0.4406682436539594\n",
      "3.751581188825644 0.4406682436539596\n"
     ]
    }
   ],
   "source": [
    "print(s,p)\n",
    "print(chi2, p_value)"
   ]
  },
  {
   "cell_type": "markdown",
   "metadata": {},
   "source": [
    "## Мера связи Пирсона и Крамера"
   ]
  },
  {
   "cell_type": "code",
   "execution_count": 115,
   "metadata": {},
   "outputs": [
    {
     "name": "stdout",
     "output_type": "stream",
     "text": [
      "0.16443270616691025 0.11787597356458475\n"
     ]
    }
   ],
   "source": [
    "#Коэффициент взаимной сопряженности (коэффициент Пирсона)\n",
    "P = np.sqrt(chi2/(chi2+n))\n",
    "\n",
    "#Коэффициент Крамера\n",
    "C = np.sqrt(chi2/(n*min(m-1,k-1)))\n",
    "print(P,C)"
   ]
  },
  {
   "cell_type": "markdown",
   "metadata": {},
   "source": [
    "## Пример (численные значения)"
   ]
  },
  {
   "cell_type": "code",
   "execution_count": 26,
   "metadata": {},
   "outputs": [
    {
     "data": {
      "text/plain": [
       "array([39, 50, 37, 22, 67, 67, 52, 64, 58, 31, 29, 37, 21, 29, 29, 52, 27,\n",
       "       42, 68, 63, 48, 41, 64, 23, 29, 43, 60, 22, 62, 43, 57, 65, 43, 61,\n",
       "       51, 68, 41, 55, 68, 64, 59, 59, 61, 21, 56, 54, 46, 45, 46, 34, 36,\n",
       "       35, 43, 64, 63, 57, 55, 24, 48, 32, 26, 56, 31, 35, 47, 40, 48, 51,\n",
       "       62, 48, 27, 66, 61, 39, 33, 59, 46, 25, 35, 47, 22, 65, 55, 55, 34,\n",
       "       47, 42, 25, 36, 20, 34, 55, 64, 52, 61, 39, 66, 53, 44, 58])"
      ]
     },
     "execution_count": 26,
     "metadata": {},
     "output_type": "execute_result"
    },
    {
     "data": {
      "image/png": "[encoded data removed]",
      "text/plain": [
       "<Figure size 432x288 with 1 Axes>"
      ]
     },
     "metadata": {},
     "output_type": "display_data"
    }
   ],
   "source": [
    "age = np.random.randint(20, 70, 100)\n",
    "sns.histplot(age, kde=True)\n",
    "age"
   ]
  },
  {
   "cell_type": "code",
   "execution_count": 27,
   "metadata": {},
   "outputs": [
    {
     "data": {
      "text/plain": [
       "<AxesSubplot:ylabel='Count'>"
      ]
     },
     "execution_count": 27,
     "metadata": {},
     "output_type": "execute_result"
    },
    {
     "data": {
      "image/png": "[encoded data removed]",
      "text/plain": [
       "<Figure size 432x288 with 1 Axes>"
      ]
     },
     "metadata": {},
     "output_type": "display_data"
    }
   ],
   "source": [
    "salary = 150_000 - 150*(age - 45)**2 + np.random.normal(0, 10000, size=age.size)\n",
    "sns.histplot(salary, kde=True)"
   ]
  },
  {
   "cell_type": "code",
   "execution_count": 28,
   "metadata": {},
   "outputs": [
    {
     "data": {
      "text/plain": [
       "<AxesSubplot:>"
      ]
     },
     "execution_count": 28,
     "metadata": {},
     "output_type": "execute_result"
    },
    {
     "data": {
      "image/png": "[encoded data removed]",
      "text/plain": [
       "<Figure size 432x288 with 1 Axes>"
      ]
     },
     "metadata": {},
     "output_type": "display_data"
    }
   ],
   "source": [
    "sns.scatterplot(x=age, y=salary)"
   ]
  },
  {
   "cell_type": "code",
   "execution_count": 29,
   "metadata": {},
   "outputs": [
    {
     "data": {
      "text/plain": [
       "SpearmanrResult(correlation=-0.07449117702983336, pvalue=0.46138351786506837)"
      ]
     },
     "execution_count": 29,
     "metadata": {},
     "output_type": "execute_result"
    }
   ],
   "source": [
    "stats.spearmanr(age, salary)"
   ]
  },
  {
   "cell_type": "code",
   "execution_count": 30,
   "metadata": {},
   "outputs": [],
   "source": [
    "age_cat = pd.qcut(age, 5)\n",
    "sal_cat = pd.qcut(salary, 5)"
   ]
  },
  {
   "cell_type": "code",
   "execution_count": 31,
   "metadata": {},
   "outputs": [
    {
     "data": {
      "text/plain": [
       "[(32.8, 43.0], (43.0, 52.0], (32.8, 43.0], (19.999, 32.8], (61.0, 68.0], ..., (32.8, 43.0], (61.0, 68.0], (52.0, 61.0], (43.0, 52.0], (52.0, 61.0]]\n",
       "Length: 100\n",
       "Categories (5, interval[float64]): [(19.999, 32.8] < (32.8, 43.0] < (43.0, 52.0] < (52.0, 61.0] < (61.0, 68.0]]"
      ]
     },
     "execution_count": 31,
     "metadata": {},
     "output_type": "execute_result"
    }
   ],
   "source": [
    "age_cat"
   ]
  },
  {
   "cell_type": "code",
   "execution_count": 32,
   "metadata": {},
   "outputs": [
    {
     "data": {
      "text/plain": [
       "[(116985.481, 132069.266], (132069.266, 141158.77], (141158.77, 165749.222], (40821.161, 96064.522], (40821.161, 96064.522], ..., (132069.266, 141158.77], (96064.522, 116985.481], (141158.77, 165749.222], (132069.266, 141158.77], (116985.481, 132069.266]]\n",
       "Length: 100\n",
       "Categories (5, interval[float64]): [(40821.161, 96064.522] < (96064.522, 116985.481] < (116985.481, 132069.266] < (132069.266, 141158.77] < (141158.77, 165749.222]]"
      ]
     },
     "execution_count": 32,
     "metadata": {},
     "output_type": "execute_result"
    }
   ],
   "source": [
    "sal_cat"
   ]
  },
  {
   "cell_type": "code",
   "execution_count": 33,
   "metadata": {},
   "outputs": [
    {
     "data": {
      "text/plain": [
       "<AxesSubplot:ylabel='count'>"
      ]
     },
     "execution_count": 33,
     "metadata": {},
     "output_type": "execute_result"
    },
    {
     "data": {
      "image/png": "[encoded data removed]",
      "text/plain": [
       "<Figure size 432x288 with 1 Axes>"
      ]
     },
     "metadata": {},
     "output_type": "display_data"
    }
   ],
   "source": [
    "sns.countplot(x=age_cat)"
   ]
  },
  {
   "cell_type": "code",
   "execution_count": 34,
   "metadata": {},
   "outputs": [
    {
     "data": {
      "text/plain": [
       "<AxesSubplot:ylabel='count'>"
      ]
     },
     "execution_count": 34,
     "metadata": {},
     "output_type": "execute_result"
    },
    {
     "data": {
      "image/png": "[encoded data removed]",
      "text/plain": [
       "<Figure size 432x288 with 1 Axes>"
      ]
     },
     "metadata": {},
     "output_type": "display_data"
    }
   ],
   "source": [
    "sns.countplot(x=sal_cat)"
   ]
  },
  {
   "cell_type": "code",
   "execution_count": 35,
   "metadata": {},
   "outputs": [
    {
     "data": {
      "text/html": [
       "<div>\n",
       "<style scoped>\n",
       "    .dataframe tbody tr th:only-of-type {\n",
       "        vertical-align: middle;\n",
       "    }\n",
       "\n",
       "    .dataframe tbody tr th {\n",
       "        vertical-align: top;\n",
       "    }\n",
       "\n",
       "    .dataframe thead th {\n",
       "        text-align: right;\n",
       "    }\n",
       "</style>\n",
       "<table border=\"1\" class=\"dataframe\">\n",
       "  <thead>\n",
       "    <tr style=\"text-align: right;\">\n",
       "      <th></th>\n",
       "      <th>Age</th>\n",
       "      <th>Salary</th>\n",
       "    </tr>\n",
       "  </thead>\n",
       "  <tbody>\n",
       "    <tr>\n",
       "      <th>0</th>\n",
       "      <td>(32.8, 43.0]</td>\n",
       "      <td>(116985.481, 132069.266]</td>\n",
       "    </tr>\n",
       "    <tr>\n",
       "      <th>1</th>\n",
       "      <td>(43.0, 52.0]</td>\n",
       "      <td>(132069.266, 141158.77]</td>\n",
       "    </tr>\n",
       "    <tr>\n",
       "      <th>2</th>\n",
       "      <td>(32.8, 43.0]</td>\n",
       "      <td>(141158.77, 165749.222]</td>\n",
       "    </tr>\n",
       "    <tr>\n",
       "      <th>3</th>\n",
       "      <td>(19.999, 32.8]</td>\n",
       "      <td>(40821.161, 96064.522]</td>\n",
       "    </tr>\n",
       "    <tr>\n",
       "      <th>4</th>\n",
       "      <td>(61.0, 68.0]</td>\n",
       "      <td>(40821.161, 96064.522]</td>\n",
       "    </tr>\n",
       "  </tbody>\n",
       "</table>\n",
       "</div>"
      ],
      "text/plain": [
       "              Age                    Salary\n",
       "0    (32.8, 43.0]  (116985.481, 132069.266]\n",
       "1    (43.0, 52.0]   (132069.266, 141158.77]\n",
       "2    (32.8, 43.0]   (141158.77, 165749.222]\n",
       "3  (19.999, 32.8]    (40821.161, 96064.522]\n",
       "4    (61.0, 68.0]    (40821.161, 96064.522]"
      ]
     },
     "execution_count": 35,
     "metadata": {},
     "output_type": "execute_result"
    }
   ],
   "source": [
    "df =  pd.DataFrame(np.vstack([age_cat, sal_cat]).T, columns=['Age', 'Salary'])\n",
    "df.head()"
   ]
  },
  {
   "cell_type": "code",
   "execution_count": 38,
   "metadata": {},
   "outputs": [
    {
     "data": {
      "text/html": [
       "<div>\n",
       "<style scoped>\n",
       "    .dataframe tbody tr th:only-of-type {\n",
       "        vertical-align: middle;\n",
       "    }\n",
       "\n",
       "    .dataframe tbody tr th {\n",
       "        vertical-align: top;\n",
       "    }\n",
       "\n",
       "    .dataframe thead th {\n",
       "        text-align: right;\n",
       "    }\n",
       "</style>\n",
       "<table border=\"1\" class=\"dataframe\">\n",
       "  <thead>\n",
       "    <tr style=\"text-align: right;\">\n",
       "      <th>Salary</th>\n",
       "      <th>(40821.161, 96064.522]</th>\n",
       "      <th>(96064.522, 116985.481]</th>\n",
       "      <th>(116985.481, 132069.266]</th>\n",
       "      <th>(132069.266, 141158.77]</th>\n",
       "      <th>(141158.77, 165749.222]</th>\n",
       "    </tr>\n",
       "    <tr>\n",
       "      <th>Age</th>\n",
       "      <th></th>\n",
       "      <th></th>\n",
       "      <th></th>\n",
       "      <th></th>\n",
       "      <th></th>\n",
       "    </tr>\n",
       "  </thead>\n",
       "  <tbody>\n",
       "    <tr>\n",
       "      <th>(19.999, 32.8]</th>\n",
       "      <td>11</td>\n",
       "      <td>7</td>\n",
       "      <td>2</td>\n",
       "      <td>0</td>\n",
       "      <td>0</td>\n",
       "    </tr>\n",
       "    <tr>\n",
       "      <th>(32.8, 43.0]</th>\n",
       "      <td>0</td>\n",
       "      <td>0</td>\n",
       "      <td>6</td>\n",
       "      <td>6</td>\n",
       "      <td>11</td>\n",
       "    </tr>\n",
       "    <tr>\n",
       "      <th>(43.0, 52.0]</th>\n",
       "      <td>0</td>\n",
       "      <td>0</td>\n",
       "      <td>2</td>\n",
       "      <td>9</td>\n",
       "      <td>7</td>\n",
       "    </tr>\n",
       "    <tr>\n",
       "      <th>(52.0, 61.0]</th>\n",
       "      <td>0</td>\n",
       "      <td>6</td>\n",
       "      <td>8</td>\n",
       "      <td>5</td>\n",
       "      <td>2</td>\n",
       "    </tr>\n",
       "    <tr>\n",
       "      <th>(61.0, 68.0]</th>\n",
       "      <td>9</td>\n",
       "      <td>7</td>\n",
       "      <td>2</td>\n",
       "      <td>0</td>\n",
       "      <td>0</td>\n",
       "    </tr>\n",
       "  </tbody>\n",
       "</table>\n",
       "</div>"
      ],
      "text/plain": [
       "Salary          (40821.161, 96064.522]  (96064.522, 116985.481]  \\\n",
       "Age                                                               \n",
       "(19.999, 32.8]                      11                        7   \n",
       "(32.8, 43.0]                         0                        0   \n",
       "(43.0, 52.0]                         0                        0   \n",
       "(52.0, 61.0]                         0                        6   \n",
       "(61.0, 68.0]                         9                        7   \n",
       "\n",
       "Salary          (116985.481, 132069.266]  (132069.266, 141158.77]  \\\n",
       "Age                                                                 \n",
       "(19.999, 32.8]                         2                        0   \n",
       "(32.8, 43.0]                           6                        6   \n",
       "(43.0, 52.0]                           2                        9   \n",
       "(52.0, 61.0]                           8                        5   \n",
       "(61.0, 68.0]                           2                        0   \n",
       "\n",
       "Salary          (141158.77, 165749.222]  \n",
       "Age                                      \n",
       "(19.999, 32.8]                        0  \n",
       "(32.8, 43.0]                         11  \n",
       "(43.0, 52.0]                          7  \n",
       "(52.0, 61.0]                          2  \n",
       "(61.0, 68.0]                          0  "
      ]
     },
     "execution_count": 38,
     "metadata": {},
     "output_type": "execute_result"
    }
   ],
   "source": [
    "pd.crosstab(df['Age'], df['Salary'])"
   ]
  },
  {
   "cell_type": "code",
   "execution_count": 39,
   "metadata": {},
   "outputs": [
    {
     "data": {
      "text/plain": [
       "(90.61525189786059,\n",
       " 1.92686788798715e-12,\n",
       " 16,\n",
       " array([[4. , 4. , 4. , 4. , 4. ],\n",
       "        [4.6, 4.6, 4.6, 4.6, 4.6],\n",
       "        [3.6, 3.6, 3.6, 3.6, 3.6],\n",
       "        [4.2, 4.2, 4.2, 4.2, 4.2],\n",
       "        [3.6, 3.6, 3.6, 3.6, 3.6]]))"
      ]
     },
     "execution_count": 39,
     "metadata": {},
     "output_type": "execute_result"
    }
   ],
   "source": [
    "stats.chi2_contingency(pd.crosstab(df['Age'], df['Salary']))"
   ]
  },
  {
   "cell_type": "markdown",
   "metadata": {},
   "source": [
    "### Задача хи-1"
   ]
  },
  {
   "cell_type": "code",
   "execution_count": 43,
   "metadata": {},
   "outputs": [],
   "source": [
    "matrix = [[165,185],\n",
    "         [168, 92],\n",
    "         [115, 105],\n",
    "         [32, 38]\n",
    "        ]"
   ]
  },
  {
   "cell_type": "code",
   "execution_count": 48,
   "metadata": {},
   "outputs": [
    {
     "name": "stdout",
     "output_type": "stream",
     "text": [
      "20.417818788354502 0.00013904727089156523\n"
     ]
    }
   ],
   "source": [
    "s, p, _, _ = stats.chi2_contingency(matrix, correction=False)\n",
    "print(s,p)"
   ]
  },
  {
   "cell_type": "code",
   "execution_count": 47,
   "metadata": {},
   "outputs": [
    {
     "name": "stdout",
     "output_type": "stream",
     "text": [
      "Отвергаем H0 в пользу альтернативы, то есть имеется зависимость между признаками\n"
     ]
    }
   ],
   "source": [
    "if p>0.05:\n",
    "    print('Принимаем H0, то есть признаки независимы')\n",
    "else:\n",
    "    print('Отвергаем H0 в пользу альтернативы, то есть имеется зависимость между признаками')"
   ]
  },
  {
   "cell_type": "markdown",
   "metadata": {},
   "source": [
    "### Задача хи-2 "
   ]
  },
  {
   "cell_type": "code",
   "execution_count": 49,
   "metadata": {},
   "outputs": [],
   "source": [
    "matrix2 = [[1768, 806, 236],\n",
    "           [946, 1387, 800],\n",
    "           [115, 438, 304]\n",
    "          ]"
   ]
  },
  {
   "cell_type": "code",
   "execution_count": 51,
   "metadata": {},
   "outputs": [
    {
     "name": "stdout",
     "output_type": "stream",
     "text": [
      "1045.0606153542653 6.122271387910211e-225\n"
     ]
    }
   ],
   "source": [
    "s, p, _, _ = stats.chi2_contingency(matrix2, correction=False)\n",
    "print(s,p)"
   ]
  },
  {
   "cell_type": "code",
   "execution_count": 52,
   "metadata": {},
   "outputs": [
    {
     "name": "stdout",
     "output_type": "stream",
     "text": [
      "Отвергаем H0 в пользу альтернативы, то есть имеется зависимость между признаками\n"
     ]
    }
   ],
   "source": [
    "if p>0.05:\n",
    "    print('Принимаем H0, то есть признаки независимы')\n",
    "else:\n",
    "    print('Отвергаем H0 в пользу альтернативы, то есть имеется зависимость между признаками')"
   ]
  },
  {
   "cell_type": "markdown",
   "metadata": {},
   "source": [
    "### Задача хи-4 "
   ]
  },
  {
   "cell_type": "code",
   "execution_count": 54,
   "metadata": {},
   "outputs": [],
   "source": [
    "matrix3 = [[83, 154],\n",
    "           [278, 354],\n",
    "           [470, 299],\n",
    "           [204, 76],\n",
    "           [46, 20],\n",
    "           [13, 3]\n",
    "          ]"
   ]
  },
  {
   "cell_type": "code",
   "execution_count": 55,
   "metadata": {},
   "outputs": [
    {
     "name": "stdout",
     "output_type": "stream",
     "text": [
      "126.88989921885339 1.0874132666163569e-25\n"
     ]
    }
   ],
   "source": [
    "s, p, _, _ = stats.chi2_contingency(matrix3, correction=False)\n",
    "print(s,p)"
   ]
  },
  {
   "cell_type": "code",
   "execution_count": 56,
   "metadata": {},
   "outputs": [
    {
     "name": "stdout",
     "output_type": "stream",
     "text": [
      "Отвергаем H0 в пользу альтернативы, то есть имеется зависимость между признаками\n"
     ]
    }
   ],
   "source": [
    "if p>0.05:\n",
    "    print('Принимаем H0, то есть признаки независимы')\n",
    "else:\n",
    "    print('Отвергаем H0 в пользу альтернативы, то есть имеется зависимость между признаками')"
   ]
  },
  {
   "cell_type": "markdown",
   "metadata": {},
   "source": [
    "###  Задача хи-5"
   ]
  },
  {
   "cell_type": "code",
   "execution_count": 58,
   "metadata": {},
   "outputs": [
    {
     "data": {
      "text/html": [
       "<div>\n",
       "<style scoped>\n",
       "    .dataframe tbody tr th:only-of-type {\n",
       "        vertical-align: middle;\n",
       "    }\n",
       "\n",
       "    .dataframe tbody tr th {\n",
       "        vertical-align: top;\n",
       "    }\n",
       "\n",
       "    .dataframe thead th {\n",
       "        text-align: right;\n",
       "    }\n",
       "</style>\n",
       "<table border=\"1\" class=\"dataframe\">\n",
       "  <thead>\n",
       "    <tr style=\"text-align: right;\">\n",
       "      <th></th>\n",
       "      <th>Возраст</th>\n",
       "      <th>Вес</th>\n",
       "    </tr>\n",
       "  </thead>\n",
       "  <tbody>\n",
       "    <tr>\n",
       "      <th>0</th>\n",
       "      <td>20</td>\n",
       "      <td>74.1</td>\n",
       "    </tr>\n",
       "    <tr>\n",
       "      <th>1</th>\n",
       "      <td>22</td>\n",
       "      <td>79.2</td>\n",
       "    </tr>\n",
       "    <tr>\n",
       "      <th>2</th>\n",
       "      <td>25</td>\n",
       "      <td>77.5</td>\n",
       "    </tr>\n",
       "    <tr>\n",
       "      <th>3</th>\n",
       "      <td>26</td>\n",
       "      <td>75.6</td>\n",
       "    </tr>\n",
       "    <tr>\n",
       "      <th>4</th>\n",
       "      <td>29</td>\n",
       "      <td>81.1</td>\n",
       "    </tr>\n",
       "  </tbody>\n",
       "</table>\n",
       "</div>"
      ],
      "text/plain": [
       "   Возраст   Вес\n",
       "0       20  74.1\n",
       "1       22  79.2\n",
       "2       25  77.5\n",
       "3       26  75.6\n",
       "4       29  81.1"
      ]
     },
     "execution_count": 58,
     "metadata": {},
     "output_type": "execute_result"
    }
   ],
   "source": [
    "df1 = pd.DataFrame(data={'Возраст':[20, 22, 25, 26, 29, 31, 33, 36, 39, 40, 41, 42, 45, 47, 51, 53, 55, 58, 59, 60, 61, 63, 66, 68, 69, 70],\n",
    "                         'Вес': [74.1, 79.2, 77.5, 75.6, 81.1, 78.2, 82.4, 84.2, 79.1, 83.1, 85.3, 88.9, 87.4, 81.9, 80, 85, 83.6, 81.4, 80.5, 80, 78.6, 77.1, 80.3, 79, 79.6, 78.2]\n",
    "                        })\n",
    "df1.head(5)"
   ]
  },
  {
   "cell_type": "code",
   "execution_count": 121,
   "metadata": {},
   "outputs": [
    {
     "data": {
      "text/plain": [
       "<AxesSubplot:xlabel='Возраст_cat', ylabel='count'>"
      ]
     },
     "execution_count": 121,
     "metadata": {},
     "output_type": "execute_result"
    },
    {
     "data": {
      "image/png": "[encoded data removed]",
      "text/plain": [
       "<Figure size 432x288 with 1 Axes>"
      ]
     },
     "metadata": {},
     "output_type": "display_data"
    }
   ],
   "source": [
    "df1['Возраст_cat'] = pd.cut(df1['Возраст'], 4)\n",
    "df1.head(5)\n",
    "sns.countplot(x = df1['Возраст_cat'])"
   ]
  },
  {
   "cell_type": "code",
   "execution_count": 126,
   "metadata": {},
   "outputs": [
    {
     "data": {
      "text/plain": [
       "<AxesSubplot:xlabel='Вес_cat', ylabel='count'>"
      ]
     },
     "execution_count": 126,
     "metadata": {},
     "output_type": "execute_result"
    },
    {
     "data": {
      "image/png": "[encoded data removed]",
      "text/plain": [
       "<Figure size 432x288 with 1 Axes>"
      ]
     },
     "metadata": {},
     "output_type": "display_data"
    }
   ],
   "source": [
    "df1['Вес_cat'] = pd.cut(df1['Вес'], 4)\n",
    "sns.countplot(x = df1['Вес_cat'])"
   ]
  },
  {
   "cell_type": "code",
   "execution_count": 127,
   "metadata": {},
   "outputs": [
    {
     "data": {
      "text/html": [
       "<div>\n",
       "<style scoped>\n",
       "    .dataframe tbody tr th:only-of-type {\n",
       "        vertical-align: middle;\n",
       "    }\n",
       "\n",
       "    .dataframe tbody tr th {\n",
       "        vertical-align: top;\n",
       "    }\n",
       "\n",
       "    .dataframe thead th {\n",
       "        text-align: right;\n",
       "    }\n",
       "</style>\n",
       "<table border=\"1\" class=\"dataframe\">\n",
       "  <thead>\n",
       "    <tr style=\"text-align: right;\">\n",
       "      <th>Возраст_cat</th>\n",
       "      <th>(19.95, 32.5]</th>\n",
       "      <th>(32.5, 45.0]</th>\n",
       "      <th>(45.0, 57.5]</th>\n",
       "      <th>(57.5, 70.0]</th>\n",
       "    </tr>\n",
       "    <tr>\n",
       "      <th>Вес_cat</th>\n",
       "      <th></th>\n",
       "      <th></th>\n",
       "      <th></th>\n",
       "      <th></th>\n",
       "    </tr>\n",
       "  </thead>\n",
       "  <tbody>\n",
       "    <tr>\n",
       "      <th>(74.085, 77.8]</th>\n",
       "      <td>3</td>\n",
       "      <td>0</td>\n",
       "      <td>0</td>\n",
       "      <td>1</td>\n",
       "    </tr>\n",
       "    <tr>\n",
       "      <th>(77.8, 81.5]</th>\n",
       "      <td>3</td>\n",
       "      <td>1</td>\n",
       "      <td>1</td>\n",
       "      <td>8</td>\n",
       "    </tr>\n",
       "    <tr>\n",
       "      <th>(81.5, 85.2]</th>\n",
       "      <td>0</td>\n",
       "      <td>3</td>\n",
       "      <td>3</td>\n",
       "      <td>0</td>\n",
       "    </tr>\n",
       "    <tr>\n",
       "      <th>(85.2, 88.9]</th>\n",
       "      <td>0</td>\n",
       "      <td>3</td>\n",
       "      <td>0</td>\n",
       "      <td>0</td>\n",
       "    </tr>\n",
       "  </tbody>\n",
       "</table>\n",
       "</div>"
      ],
      "text/plain": [
       "Возраст_cat     (19.95, 32.5]  (32.5, 45.0]  (45.0, 57.5]  (57.5, 70.0]\n",
       "Вес_cat                                                                \n",
       "(74.085, 77.8]              3             0             0             1\n",
       "(77.8, 81.5]                3             1             1             8\n",
       "(81.5, 85.2]                0             3             3             0\n",
       "(85.2, 88.9]                0             3             0             0"
      ]
     },
     "execution_count": 127,
     "metadata": {},
     "output_type": "execute_result"
    }
   ],
   "source": [
    "cross = pd.crosstab(df1['Вес_cat'], df1['Возраст_cat'])\n",
    "cross"
   ]
  },
  {
   "cell_type": "code",
   "execution_count": 128,
   "metadata": {},
   "outputs": [
    {
     "data": {
      "text/plain": [
       "array([[3, 0, 0, 1],\n",
       "       [3, 1, 1, 8],\n",
       "       [0, 3, 3, 0],\n",
       "       [0, 3, 0, 0]])"
      ]
     },
     "execution_count": 128,
     "metadata": {},
     "output_type": "execute_result"
    }
   ],
   "source": [
    "cross.values"
   ]
  },
  {
   "cell_type": "code",
   "execution_count": 129,
   "metadata": {},
   "outputs": [
    {
     "name": "stdout",
     "output_type": "stream",
     "text": [
      "28.944444444444443 0.0006621715710685211\n"
     ]
    }
   ],
   "source": [
    "s, p, _, _ = stats.chi2_contingency(cross.values, correction=False)\n",
    "print(s,p)"
   ]
  }
 ],
 "metadata": {
  "kernelspec": {
   "display_name": "Python 3",
   "language": "python",
   "name": "python3"
  },
  "language_info": {
   "codemirror_mode": {
    "name": "ipython",
    "version": 3
   },
   "file_extension": ".py",
   "mimetype": "text/x-python",
   "name": "python",
   "nbconvert_exporter": "python",
   "pygments_lexer": "ipython3",
   "version": "3.8.2"
  }
 },
 "nbformat": 4,
 "nbformat_minor": 5
}
