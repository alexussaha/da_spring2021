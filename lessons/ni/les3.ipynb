{
 "cells": [
  {
   "cell_type": "code",
   "execution_count": 3,
   "metadata": {},
   "outputs": [],
   "source": [
    "import pandas as pd\n",
    "import numpy as np\n",
    "import scipy as sp\n",
    "\n",
    "from scipy import stats\n",
    "\n",
    "def get_earnings(f_size):\n",
    "    r = min(2, f_size)\n",
    "    rest = f_size - r\n",
    "    return r * 800 + np.random.normal(0, 100, 1)[0] + rest * 250"
   ]
  },
  {
   "cell_type": "markdown",
   "metadata": {},
   "source": [
    "<h2>Отношение R</h2>\n",
    "<h4>Сгенерируем данные выборки для примера</h4>\n",
    "Пусть N = 1000, n = 100"
   ]
  },
  {
   "cell_type": "code",
   "execution_count": 4,
   "metadata": {},
   "outputs": [
    {
     "data": {
      "text/plain": [
       "array([4, 1, 3, 5, 3, 1, 5, 1, 3, 1, 1, 3, 3, 3, 1, 1, 1, 3, 1, 4, 3, 2,\n",
       "       2, 3, 4, 3, 3, 3, 3, 2, 3, 2, 1, 2, 4, 2, 2, 6, 1, 1, 2, 4, 4, 1,\n",
       "       3, 3, 2, 2, 1, 1, 1, 2, 4, 2, 2, 2, 2, 3, 1, 1, 3, 1, 4, 4, 4, 4,\n",
       "       2, 2, 1, 3, 3, 2, 4, 1, 1, 3, 2, 3, 3, 1, 1, 2, 2, 2, 1, 2, 2, 4,\n",
       "       3, 3, 2, 3, 1, 4, 2, 3, 4, 2, 2, 3])"
      ]
     },
     "execution_count": 4,
     "metadata": {},
     "output_type": "execute_result"
    }
   ],
   "source": [
    "fams = sp.random.poisson(1.5, 100) + 1\n",
    "fams"
   ]
  },
  {
   "cell_type": "code",
   "execution_count": 5,
   "metadata": {},
   "outputs": [
    {
     "data": {
      "text/html": [
       "<div>\n",
       "<style scoped>\n",
       "    .dataframe tbody tr th:only-of-type {\n",
       "        vertical-align: middle;\n",
       "    }\n",
       "\n",
       "    .dataframe tbody tr th {\n",
       "        vertical-align: top;\n",
       "    }\n",
       "\n",
       "    .dataframe thead th {\n",
       "        text-align: right;\n",
       "    }\n",
       "</style>\n",
       "<table border=\"1\" class=\"dataframe\">\n",
       "  <thead>\n",
       "    <tr style=\"text-align: right;\">\n",
       "      <th></th>\n",
       "      <th>family_size</th>\n",
       "      <th>total_income</th>\n",
       "    </tr>\n",
       "  </thead>\n",
       "  <tbody>\n",
       "    <tr>\n",
       "      <th>0</th>\n",
       "      <td>4</td>\n",
       "      <td>2128.903264</td>\n",
       "    </tr>\n",
       "    <tr>\n",
       "      <th>1</th>\n",
       "      <td>1</td>\n",
       "      <td>805.089514</td>\n",
       "    </tr>\n",
       "    <tr>\n",
       "      <th>2</th>\n",
       "      <td>3</td>\n",
       "      <td>1653.050740</td>\n",
       "    </tr>\n",
       "    <tr>\n",
       "      <th>3</th>\n",
       "      <td>5</td>\n",
       "      <td>2424.817631</td>\n",
       "    </tr>\n",
       "    <tr>\n",
       "      <th>4</th>\n",
       "      <td>3</td>\n",
       "      <td>1894.210987</td>\n",
       "    </tr>\n",
       "    <tr>\n",
       "      <th>...</th>\n",
       "      <td>...</td>\n",
       "      <td>...</td>\n",
       "    </tr>\n",
       "    <tr>\n",
       "      <th>95</th>\n",
       "      <td>3</td>\n",
       "      <td>2034.599235</td>\n",
       "    </tr>\n",
       "    <tr>\n",
       "      <th>96</th>\n",
       "      <td>4</td>\n",
       "      <td>2189.017396</td>\n",
       "    </tr>\n",
       "    <tr>\n",
       "      <th>97</th>\n",
       "      <td>2</td>\n",
       "      <td>1642.255980</td>\n",
       "    </tr>\n",
       "    <tr>\n",
       "      <th>98</th>\n",
       "      <td>2</td>\n",
       "      <td>1649.762056</td>\n",
       "    </tr>\n",
       "    <tr>\n",
       "      <th>99</th>\n",
       "      <td>3</td>\n",
       "      <td>1988.684479</td>\n",
       "    </tr>\n",
       "  </tbody>\n",
       "</table>\n",
       "<p>100 rows × 2 columns</p>\n",
       "</div>"
      ],
      "text/plain": [
       "    family_size  total_income\n",
       "0             4   2128.903264\n",
       "1             1    805.089514\n",
       "2             3   1653.050740\n",
       "3             5   2424.817631\n",
       "4             3   1894.210987\n",
       "..          ...           ...\n",
       "95            3   2034.599235\n",
       "96            4   2189.017396\n",
       "97            2   1642.255980\n",
       "98            2   1649.762056\n",
       "99            3   1988.684479\n",
       "\n",
       "[100 rows x 2 columns]"
      ]
     },
     "execution_count": 5,
     "metadata": {},
     "output_type": "execute_result"
    }
   ],
   "source": [
    "df = pd.DataFrame([(f, get_earnings(f)) for f in fams], columns=['family_size', 'total_income'])\n",
    "df"
   ]
  },
  {
   "cell_type": "markdown",
   "metadata": {},
   "source": [
    "<h4>Найдем отношение R: общий заработок / количество человек в семье</h4>"
   ]
  },
  {
   "cell_type": "code",
   "execution_count": 6,
   "metadata": {},
   "outputs": [
    {
     "data": {
      "text/plain": [
       "640.5458431653183"
      ]
     },
     "execution_count": 6,
     "metadata": {},
     "output_type": "execute_result"
    }
   ],
   "source": [
    "R = df['total_income'].sum()/df['family_size'].sum()\n",
    "R"
   ]
  },
  {
   "cell_type": "markdown",
   "metadata": {},
   "source": [
    "Определим основные переменные"
   ]
  },
  {
   "cell_type": "code",
   "execution_count": 7,
   "metadata": {},
   "outputs": [
    {
     "data": {
      "text/plain": [
       "(1000, 100, 0.1)"
      ]
     },
     "execution_count": 7,
     "metadata": {},
     "output_type": "execute_result"
    }
   ],
   "source": [
    "N=1000\n",
    "n=len(df)\n",
    "f=n/N\n",
    "N, n, f"
   ]
  },
  {
   "cell_type": "code",
   "execution_count": 8,
   "metadata": {},
   "outputs": [],
   "source": [
    "x = df['family_size'].values\n",
    "y = df['total_income'].values"
   ]
  },
  {
   "cell_type": "code",
   "execution_count": 9,
   "metadata": {},
   "outputs": [
    {
     "data": {
      "text/plain": [
       "array([4, 1, 3, 5, 3, 1, 5, 1, 3, 1, 1, 3, 3, 3, 1, 1, 1, 3, 1, 4, 3, 2,\n",
       "       2, 3, 4, 3, 3, 3, 3, 2, 3, 2, 1, 2, 4, 2, 2, 6, 1, 1, 2, 4, 4, 1,\n",
       "       3, 3, 2, 2, 1, 1, 1, 2, 4, 2, 2, 2, 2, 3, 1, 1, 3, 1, 4, 4, 4, 4,\n",
       "       2, 2, 1, 3, 3, 2, 4, 1, 1, 3, 2, 3, 3, 1, 1, 2, 2, 2, 1, 2, 2, 4,\n",
       "       3, 3, 2, 3, 1, 4, 2, 3, 4, 2, 2, 3])"
      ]
     },
     "execution_count": 9,
     "metadata": {},
     "output_type": "execute_result"
    }
   ],
   "source": [
    "x"
   ]
  },
  {
   "cell_type": "code",
   "execution_count": 10,
   "metadata": {},
   "outputs": [
    {
     "data": {
      "text/plain": [
       "array([2128.90326401,  805.08951364, 1653.05073965, 2424.81763113,\n",
       "       1894.21098687,  832.74601171, 2388.90854537,  843.79139591,\n",
       "       1810.08086132,  875.08883058,  764.65583262, 1901.38563139,\n",
       "       1690.44461052, 1708.71591809,  758.35278526,  900.20349051,\n",
       "        802.50116397, 1921.94118813,  880.1112167 , 2025.68586245,\n",
       "       1668.21331455, 1757.17940164, 1571.81451383, 1828.09409555,\n",
       "       1965.25487564, 1908.09397015, 1766.45958602, 1738.25645727,\n",
       "       1734.02321742, 1630.95389839, 1845.20820055, 1563.77273658,\n",
       "        951.4757296 , 1615.22102908, 2083.21658076, 1466.77855279,\n",
       "       1509.10971713, 2569.52078176,  754.91215159,  866.27933486,\n",
       "       1722.74080602, 2061.61002455, 2211.0226249 ,  902.7112208 ,\n",
       "       1996.21820375, 1898.31548858, 1610.88841209, 1392.87298234,\n",
       "        871.07507433,  728.11080509,  888.60023441, 1605.72333987,\n",
       "       2035.93735078, 1508.29770097, 1536.44311327, 1500.53028442,\n",
       "       1630.62806713, 1881.18269714,  753.24120328,  631.30497096,\n",
       "       1901.22543076,  869.91351788, 2044.44514506, 2012.57626782,\n",
       "       2091.62219726, 2207.05466575, 1775.39290574, 1701.01560926,\n",
       "        758.48547816, 1679.28693081, 1764.65671506, 1589.16382146,\n",
       "       2007.17821679,  840.65778042,  543.8777398 , 1802.12443469,\n",
       "       1436.69718624, 1752.24119806, 1802.70253819,  852.88368922,\n",
       "        764.90777073, 1535.78690791, 1576.2364047 , 1537.59601438,\n",
       "        661.72527047, 1712.16066196, 1558.79373703, 2172.34999936,\n",
       "       1984.64441733, 1742.08844304, 1558.48880151, 1822.10537665,\n",
       "        771.44327464, 2069.38087823, 1434.88724435, 2034.59923472,\n",
       "       2189.01739641, 1642.25598029, 1649.76205568, 1988.68447853])"
      ]
     },
     "execution_count": 10,
     "metadata": {},
     "output_type": "execute_result"
    }
   ],
   "source": [
    "y"
   ]
  },
  {
   "cell_type": "markdown",
   "metadata": {},
   "source": [
    "Выборочная оценка R (в данном случае равна R)"
   ]
  },
  {
   "cell_type": "code",
   "execution_count": 11,
   "metadata": {},
   "outputs": [
    {
     "data": {
      "text/plain": [
       "(640.5458431653183, 640.5458431653183)"
      ]
     },
     "execution_count": 11,
     "metadata": {},
     "output_type": "execute_result"
    }
   ],
   "source": [
    "R_o = y.mean()/x.mean()\n",
    "R_o, R"
   ]
  },
  {
   "cell_type": "markdown",
   "metadata": {},
   "source": [
    "<h4>Посчитаем стандартную ошибку отношения R</h4>\n",
    "Сперва дисперсия s2"
   ]
  },
  {
   "cell_type": "code",
   "execution_count": 12,
   "metadata": {},
   "outputs": [
    {
     "data": {
      "text/plain": [
       "107449.10659735673"
      ]
     },
     "execution_count": 12,
     "metadata": {},
     "output_type": "execute_result"
    }
   ],
   "source": [
    "s2 = ((y*y).sum() - 2*R*(x*y).sum() + (R**2)*(x*x).sum()) / (n-1)\n",
    "s2"
   ]
  },
  {
   "cell_type": "code",
   "execution_count": 13,
   "metadata": {},
   "outputs": [
    {
     "data": {
      "text/plain": [
       "327.7943053156304"
      ]
     },
     "execution_count": 13,
     "metadata": {},
     "output_type": "execute_result"
    }
   ],
   "source": [
    "std = np.sqrt(s2)\n",
    "std"
   ]
  },
  {
   "cell_type": "markdown",
   "metadata": {},
   "source": [
    "Теперь стандартную ошибку s (с учетом поправки на конечность совокупности)"
   ]
  },
  {
   "cell_type": "code",
   "execution_count": 15,
   "metadata": {},
   "outputs": [
    {
     "data": {
      "text/plain": [
       "12.850123249959063"
      ]
     },
     "execution_count": 15,
     "metadata": {},
     "output_type": "execute_result"
    }
   ],
   "source": [
    "s = std * (np.sqrt(1-f))/(np.sqrt(n)*x.mean())\n",
    "s"
   ]
  },
  {
   "cell_type": "markdown",
   "metadata": {},
   "source": [
    "<b>95% Доверительный интервал</b> для отношения <br>\n",
    "для больших n можно использовать нормальную аппроксимацию следующим образом:"
   ]
  },
  {
   "cell_type": "code",
   "execution_count": 16,
   "metadata": {},
   "outputs": [
    {
     "data": {
      "text/plain": [
       "(615.3600643984977, 665.7316219321389)"
      ]
     },
     "execution_count": 16,
     "metadata": {},
     "output_type": "execute_result"
    }
   ],
   "source": [
    "perc = 0.95\n",
    "alpha = 1 - perc\n",
    "t = sp.stats.norm.ppf(1-alpha/2)\n",
    "\n",
    "Rl = R_o - t*s\n",
    "Rr = R_o + t*s\n",
    "Rl,Rr"
   ]
  },
  {
   "cell_type": "markdown",
   "metadata": {},
   "source": [
    "<h2>Доли p</h2><br>\n",
    "Для предыдущего примера посчитаем <b>долю</b> семей, которые состоят из <b>более двух чловек</b>"
   ]
  },
  {
   "cell_type": "code",
   "execution_count": 17,
   "metadata": {},
   "outputs": [
    {
     "data": {
      "text/html": [
       "<div>\n",
       "<style scoped>\n",
       "    .dataframe tbody tr th:only-of-type {\n",
       "        vertical-align: middle;\n",
       "    }\n",
       "\n",
       "    .dataframe tbody tr th {\n",
       "        vertical-align: top;\n",
       "    }\n",
       "\n",
       "    .dataframe thead th {\n",
       "        text-align: right;\n",
       "    }\n",
       "</style>\n",
       "<table border=\"1\" class=\"dataframe\">\n",
       "  <thead>\n",
       "    <tr style=\"text-align: right;\">\n",
       "      <th></th>\n",
       "      <th>family_size</th>\n",
       "      <th>total_income</th>\n",
       "    </tr>\n",
       "  </thead>\n",
       "  <tbody>\n",
       "    <tr>\n",
       "      <th>0</th>\n",
       "      <td>4</td>\n",
       "      <td>2128.903264</td>\n",
       "    </tr>\n",
       "    <tr>\n",
       "      <th>2</th>\n",
       "      <td>3</td>\n",
       "      <td>1653.050740</td>\n",
       "    </tr>\n",
       "    <tr>\n",
       "      <th>3</th>\n",
       "      <td>5</td>\n",
       "      <td>2424.817631</td>\n",
       "    </tr>\n",
       "    <tr>\n",
       "      <th>4</th>\n",
       "      <td>3</td>\n",
       "      <td>1894.210987</td>\n",
       "    </tr>\n",
       "    <tr>\n",
       "      <th>6</th>\n",
       "      <td>5</td>\n",
       "      <td>2388.908545</td>\n",
       "    </tr>\n",
       "    <tr>\n",
       "      <th>8</th>\n",
       "      <td>3</td>\n",
       "      <td>1810.080861</td>\n",
       "    </tr>\n",
       "    <tr>\n",
       "      <th>11</th>\n",
       "      <td>3</td>\n",
       "      <td>1901.385631</td>\n",
       "    </tr>\n",
       "    <tr>\n",
       "      <th>12</th>\n",
       "      <td>3</td>\n",
       "      <td>1690.444611</td>\n",
       "    </tr>\n",
       "    <tr>\n",
       "      <th>13</th>\n",
       "      <td>3</td>\n",
       "      <td>1708.715918</td>\n",
       "    </tr>\n",
       "    <tr>\n",
       "      <th>17</th>\n",
       "      <td>3</td>\n",
       "      <td>1921.941188</td>\n",
       "    </tr>\n",
       "    <tr>\n",
       "      <th>19</th>\n",
       "      <td>4</td>\n",
       "      <td>2025.685862</td>\n",
       "    </tr>\n",
       "    <tr>\n",
       "      <th>20</th>\n",
       "      <td>3</td>\n",
       "      <td>1668.213315</td>\n",
       "    </tr>\n",
       "    <tr>\n",
       "      <th>23</th>\n",
       "      <td>3</td>\n",
       "      <td>1828.094096</td>\n",
       "    </tr>\n",
       "    <tr>\n",
       "      <th>24</th>\n",
       "      <td>4</td>\n",
       "      <td>1965.254876</td>\n",
       "    </tr>\n",
       "    <tr>\n",
       "      <th>25</th>\n",
       "      <td>3</td>\n",
       "      <td>1908.093970</td>\n",
       "    </tr>\n",
       "    <tr>\n",
       "      <th>26</th>\n",
       "      <td>3</td>\n",
       "      <td>1766.459586</td>\n",
       "    </tr>\n",
       "    <tr>\n",
       "      <th>27</th>\n",
       "      <td>3</td>\n",
       "      <td>1738.256457</td>\n",
       "    </tr>\n",
       "    <tr>\n",
       "      <th>28</th>\n",
       "      <td>3</td>\n",
       "      <td>1734.023217</td>\n",
       "    </tr>\n",
       "    <tr>\n",
       "      <th>30</th>\n",
       "      <td>3</td>\n",
       "      <td>1845.208201</td>\n",
       "    </tr>\n",
       "    <tr>\n",
       "      <th>34</th>\n",
       "      <td>4</td>\n",
       "      <td>2083.216581</td>\n",
       "    </tr>\n",
       "    <tr>\n",
       "      <th>37</th>\n",
       "      <td>6</td>\n",
       "      <td>2569.520782</td>\n",
       "    </tr>\n",
       "    <tr>\n",
       "      <th>41</th>\n",
       "      <td>4</td>\n",
       "      <td>2061.610025</td>\n",
       "    </tr>\n",
       "    <tr>\n",
       "      <th>42</th>\n",
       "      <td>4</td>\n",
       "      <td>2211.022625</td>\n",
       "    </tr>\n",
       "    <tr>\n",
       "      <th>44</th>\n",
       "      <td>3</td>\n",
       "      <td>1996.218204</td>\n",
       "    </tr>\n",
       "    <tr>\n",
       "      <th>45</th>\n",
       "      <td>3</td>\n",
       "      <td>1898.315489</td>\n",
       "    </tr>\n",
       "    <tr>\n",
       "      <th>52</th>\n",
       "      <td>4</td>\n",
       "      <td>2035.937351</td>\n",
       "    </tr>\n",
       "    <tr>\n",
       "      <th>57</th>\n",
       "      <td>3</td>\n",
       "      <td>1881.182697</td>\n",
       "    </tr>\n",
       "    <tr>\n",
       "      <th>60</th>\n",
       "      <td>3</td>\n",
       "      <td>1901.225431</td>\n",
       "    </tr>\n",
       "    <tr>\n",
       "      <th>62</th>\n",
       "      <td>4</td>\n",
       "      <td>2044.445145</td>\n",
       "    </tr>\n",
       "    <tr>\n",
       "      <th>63</th>\n",
       "      <td>4</td>\n",
       "      <td>2012.576268</td>\n",
       "    </tr>\n",
       "    <tr>\n",
       "      <th>64</th>\n",
       "      <td>4</td>\n",
       "      <td>2091.622197</td>\n",
       "    </tr>\n",
       "    <tr>\n",
       "      <th>65</th>\n",
       "      <td>4</td>\n",
       "      <td>2207.054666</td>\n",
       "    </tr>\n",
       "    <tr>\n",
       "      <th>69</th>\n",
       "      <td>3</td>\n",
       "      <td>1679.286931</td>\n",
       "    </tr>\n",
       "    <tr>\n",
       "      <th>70</th>\n",
       "      <td>3</td>\n",
       "      <td>1764.656715</td>\n",
       "    </tr>\n",
       "    <tr>\n",
       "      <th>72</th>\n",
       "      <td>4</td>\n",
       "      <td>2007.178217</td>\n",
       "    </tr>\n",
       "    <tr>\n",
       "      <th>75</th>\n",
       "      <td>3</td>\n",
       "      <td>1802.124435</td>\n",
       "    </tr>\n",
       "    <tr>\n",
       "      <th>77</th>\n",
       "      <td>3</td>\n",
       "      <td>1752.241198</td>\n",
       "    </tr>\n",
       "    <tr>\n",
       "      <th>78</th>\n",
       "      <td>3</td>\n",
       "      <td>1802.702538</td>\n",
       "    </tr>\n",
       "    <tr>\n",
       "      <th>87</th>\n",
       "      <td>4</td>\n",
       "      <td>2172.349999</td>\n",
       "    </tr>\n",
       "    <tr>\n",
       "      <th>88</th>\n",
       "      <td>3</td>\n",
       "      <td>1984.644417</td>\n",
       "    </tr>\n",
       "    <tr>\n",
       "      <th>89</th>\n",
       "      <td>3</td>\n",
       "      <td>1742.088443</td>\n",
       "    </tr>\n",
       "    <tr>\n",
       "      <th>91</th>\n",
       "      <td>3</td>\n",
       "      <td>1822.105377</td>\n",
       "    </tr>\n",
       "    <tr>\n",
       "      <th>93</th>\n",
       "      <td>4</td>\n",
       "      <td>2069.380878</td>\n",
       "    </tr>\n",
       "    <tr>\n",
       "      <th>95</th>\n",
       "      <td>3</td>\n",
       "      <td>2034.599235</td>\n",
       "    </tr>\n",
       "    <tr>\n",
       "      <th>96</th>\n",
       "      <td>4</td>\n",
       "      <td>2189.017396</td>\n",
       "    </tr>\n",
       "    <tr>\n",
       "      <th>99</th>\n",
       "      <td>3</td>\n",
       "      <td>1988.684479</td>\n",
       "    </tr>\n",
       "  </tbody>\n",
       "</table>\n",
       "</div>"
      ],
      "text/plain": [
       "    family_size  total_income\n",
       "0             4   2128.903264\n",
       "2             3   1653.050740\n",
       "3             5   2424.817631\n",
       "4             3   1894.210987\n",
       "6             5   2388.908545\n",
       "8             3   1810.080861\n",
       "11            3   1901.385631\n",
       "12            3   1690.444611\n",
       "13            3   1708.715918\n",
       "17            3   1921.941188\n",
       "19            4   2025.685862\n",
       "20            3   1668.213315\n",
       "23            3   1828.094096\n",
       "24            4   1965.254876\n",
       "25            3   1908.093970\n",
       "26            3   1766.459586\n",
       "27            3   1738.256457\n",
       "28            3   1734.023217\n",
       "30            3   1845.208201\n",
       "34            4   2083.216581\n",
       "37            6   2569.520782\n",
       "41            4   2061.610025\n",
       "42            4   2211.022625\n",
       "44            3   1996.218204\n",
       "45            3   1898.315489\n",
       "52            4   2035.937351\n",
       "57            3   1881.182697\n",
       "60            3   1901.225431\n",
       "62            4   2044.445145\n",
       "63            4   2012.576268\n",
       "64            4   2091.622197\n",
       "65            4   2207.054666\n",
       "69            3   1679.286931\n",
       "70            3   1764.656715\n",
       "72            4   2007.178217\n",
       "75            3   1802.124435\n",
       "77            3   1752.241198\n",
       "78            3   1802.702538\n",
       "87            4   2172.349999\n",
       "88            3   1984.644417\n",
       "89            3   1742.088443\n",
       "91            3   1822.105377\n",
       "93            4   2069.380878\n",
       "95            3   2034.599235\n",
       "96            4   2189.017396\n",
       "99            3   1988.684479"
      ]
     },
     "execution_count": 17,
     "metadata": {},
     "output_type": "execute_result"
    }
   ],
   "source": [
    "df1 = df[df['family_size']>2]\n",
    "df1"
   ]
  },
  {
   "cell_type": "markdown",
   "metadata": {},
   "source": [
    "Вычислим долю p, а также q = 1 - p"
   ]
  },
  {
   "cell_type": "code",
   "execution_count": 18,
   "metadata": {},
   "outputs": [
    {
     "data": {
      "text/plain": [
       "(0.46, 0.54)"
      ]
     },
     "execution_count": 18,
     "metadata": {},
     "output_type": "execute_result"
    }
   ],
   "source": [
    "a = len(df1)\n",
    "p = a/n\n",
    "q = 1 - p\n",
    "p,q"
   ]
  },
  {
   "cell_type": "markdown",
   "metadata": {},
   "source": [
    "Посчитаем 95% <b>доверительный интервал</b> для доли p <br>"
   ]
  },
  {
   "cell_type": "code",
   "execution_count": 19,
   "metadata": {},
   "outputs": [
    {
     "data": {
      "text/plain": [
       "1.959963984540054"
      ]
     },
     "execution_count": 19,
     "metadata": {},
     "output_type": "execute_result"
    }
   ],
   "source": [
    "perc = 0.95\n",
    "alpha = 1 - perc\n",
    "t = sp.stats.norm.ppf(1-alpha/2)\n",
    "t"
   ]
  },
  {
   "cell_type": "code",
   "execution_count": 20,
   "metadata": {},
   "outputs": [
    {
     "data": {
      "text/plain": [
       "(0.36186186353493194, 0.5581381364650682)"
      ]
     },
     "execution_count": 20,
     "metadata": {},
     "output_type": "execute_result"
    }
   ],
   "source": [
    "ci_R = p + (t*np.sqrt(1-f)*np.sqrt((p*q)/(n-1)) + 1/(2*n))\n",
    "ci_L = p - (t*np.sqrt(1-f)*np.sqrt((p*q)/(n-1)) + 1/(2*n))\n",
    "ci_L, ci_R"
   ]
  },
  {
   "cell_type": "markdown",
   "metadata": {},
   "source": [
    "Если хотим получить оценку количества элементов в генеральной совокупности, домножаем на N"
   ]
  },
  {
   "cell_type": "code",
   "execution_count": 47,
   "metadata": {},
   "outputs": [
    {
     "data": {
      "text/plain": [
       "(313.08853624147014, 506.9114637585298)"
      ]
     },
     "execution_count": 47,
     "metadata": {},
     "output_type": "execute_result"
    }
   ],
   "source": [
    "N*ci_L, N*ci_R"
   ]
  },
  {
   "cell_type": "markdown",
   "metadata": {},
   "source": [
    "Эти значения показывают, что в генеральной совокупности размера N=1000 количество семей из <b>болле двух человек</b> с 95% вероятностью будет равно значению из данного интервала"
   ]
  },
  {
   "cell_type": "code",
   "execution_count": 33,
   "metadata": {},
   "outputs": [
    {
     "data": {
      "text/html": [
       "<div>\n",
       "<style scoped>\n",
       "    .dataframe tbody tr th:only-of-type {\n",
       "        vertical-align: middle;\n",
       "    }\n",
       "\n",
       "    .dataframe tbody tr th {\n",
       "        vertical-align: top;\n",
       "    }\n",
       "\n",
       "    .dataframe thead th {\n",
       "        text-align: right;\n",
       "    }\n",
       "</style>\n",
       "<table border=\"1\" class=\"dataframe\">\n",
       "  <thead>\n",
       "    <tr style=\"text-align: right;\">\n",
       "      <th></th>\n",
       "      <th>col1</th>\n",
       "      <th>col2</th>\n",
       "      <th>col3</th>\n",
       "      <th>col4</th>\n",
       "    </tr>\n",
       "  </thead>\n",
       "  <tbody>\n",
       "    <tr>\n",
       "      <th>0</th>\n",
       "      <td>52</td>\n",
       "      <td>30</td>\n",
       "      <td>1</td>\n",
       "      <td>2</td>\n",
       "    </tr>\n",
       "    <tr>\n",
       "      <th>1</th>\n",
       "      <td>36</td>\n",
       "      <td>19</td>\n",
       "      <td>1</td>\n",
       "      <td>1</td>\n",
       "    </tr>\n",
       "    <tr>\n",
       "      <th>2</th>\n",
       "      <td>56</td>\n",
       "      <td>30</td>\n",
       "      <td>4</td>\n",
       "      <td>2</td>\n",
       "    </tr>\n",
       "    <tr>\n",
       "      <th>3</th>\n",
       "      <td>74</td>\n",
       "      <td>40</td>\n",
       "      <td>1</td>\n",
       "      <td>3</td>\n",
       "    </tr>\n",
       "    <tr>\n",
       "      <th>4</th>\n",
       "      <td>42</td>\n",
       "      <td>19</td>\n",
       "      <td>1</td>\n",
       "      <td>2</td>\n",
       "    </tr>\n",
       "    <tr>\n",
       "      <th>...</th>\n",
       "      <td>...</td>\n",
       "      <td>...</td>\n",
       "      <td>...</td>\n",
       "      <td>...</td>\n",
       "    </tr>\n",
       "    <tr>\n",
       "      <th>6157</th>\n",
       "      <td>49</td>\n",
       "      <td>29</td>\n",
       "      <td>1</td>\n",
       "      <td>2</td>\n",
       "    </tr>\n",
       "    <tr>\n",
       "      <th>6158</th>\n",
       "      <td>35</td>\n",
       "      <td>14</td>\n",
       "      <td>1</td>\n",
       "      <td>1</td>\n",
       "    </tr>\n",
       "    <tr>\n",
       "      <th>6159</th>\n",
       "      <td>29</td>\n",
       "      <td>27</td>\n",
       "      <td>1</td>\n",
       "      <td>1</td>\n",
       "    </tr>\n",
       "    <tr>\n",
       "      <th>6160</th>\n",
       "      <td>38</td>\n",
       "      <td>21</td>\n",
       "      <td>1</td>\n",
       "      <td>1</td>\n",
       "    </tr>\n",
       "    <tr>\n",
       "      <th>6161</th>\n",
       "      <td>61</td>\n",
       "      <td>31</td>\n",
       "      <td>1</td>\n",
       "      <td>2</td>\n",
       "    </tr>\n",
       "  </tbody>\n",
       "</table>\n",
       "<p>6162 rows × 4 columns</p>\n",
       "</div>"
      ],
      "text/plain": [
       "      col1  col2  col3  col4\n",
       "0       52    30     1     2\n",
       "1       36    19     1     1\n",
       "2       56    30     4     2\n",
       "3       74    40     1     3\n",
       "4       42    19     1     2\n",
       "...    ...   ...   ...   ...\n",
       "6157    49    29     1     2\n",
       "6158    35    14     1     1\n",
       "6159    29    27     1     1\n",
       "6160    38    21     1     1\n",
       "6161    61    31     1     2\n",
       "\n",
       "[6162 rows x 4 columns]"
      ]
     },
     "execution_count": 33,
     "metadata": {},
     "output_type": "execute_result"
    }
   ],
   "source": [
    "df2 = pd.read_csv('data/les3_data_example.csv')\n",
    "df2"
   ]
  },
  {
   "cell_type": "code",
   "execution_count": 43,
   "metadata": {},
   "outputs": [],
   "source": [
    "N=10000\n",
    "n=len(df2)\n",
    "f = n/N"
   ]
  },
  {
   "cell_type": "markdown",
   "metadata": {},
   "source": [
    "<h3>Найти:</h3>\n",
    "    отношение R (col2/col4)<br>\n",
    "    стандартную ошибку отношения<br>\n",
    "    долю p для col3=1<br>\n",
    "    95% ДИ для p<br>"
   ]
  },
  {
   "cell_type": "code",
   "execution_count": 37,
   "metadata": {},
   "outputs": [],
   "source": [
    "y = df2['col2'].values\n",
    "x = df2['col4'].values\n",
    "\n",
    "R = y.mean() / x.mean()"
   ]
  },
  {
   "cell_type": "code",
   "execution_count": 38,
   "metadata": {},
   "outputs": [
    {
     "data": {
      "text/plain": [
       "257.9565536282697"
      ]
     },
     "execution_count": 38,
     "metadata": {},
     "output_type": "execute_result"
    }
   ],
   "source": [
    "s2 = ((y*y).sum() - 2*R*(x*y).sum() + (R**2)*(x*x).sum()) / (n-1)\n",
    "s2"
   ]
  },
  {
   "cell_type": "code",
   "execution_count": 40,
   "metadata": {},
   "outputs": [
    {
     "data": {
      "text/plain": [
       "16.061025920789422"
      ]
     },
     "execution_count": 40,
     "metadata": {},
     "output_type": "execute_result"
    }
   ],
   "source": [
    "std = np.sqrt(s2)\n",
    "std"
   ]
  },
  {
   "cell_type": "code",
   "execution_count": 44,
   "metadata": {},
   "outputs": [
    {
     "data": {
      "text/plain": [
       "0.06558602646554632"
      ]
     },
     "execution_count": 44,
     "metadata": {},
     "output_type": "execute_result"
    }
   ],
   "source": [
    "s = std * (np.sqrt(1-f))/(np.sqrt(n)*x.mean())\n",
    "s"
   ]
  },
  {
   "cell_type": "code",
   "execution_count": 45,
   "metadata": {},
   "outputs": [
    {
     "data": {
      "text/html": [
       "<div>\n",
       "<style scoped>\n",
       "    .dataframe tbody tr th:only-of-type {\n",
       "        vertical-align: middle;\n",
       "    }\n",
       "\n",
       "    .dataframe tbody tr th {\n",
       "        vertical-align: top;\n",
       "    }\n",
       "\n",
       "    .dataframe thead th {\n",
       "        text-align: right;\n",
       "    }\n",
       "</style>\n",
       "<table border=\"1\" class=\"dataframe\">\n",
       "  <thead>\n",
       "    <tr style=\"text-align: right;\">\n",
       "      <th></th>\n",
       "      <th>col1</th>\n",
       "      <th>col2</th>\n",
       "      <th>col3</th>\n",
       "      <th>col4</th>\n",
       "    </tr>\n",
       "  </thead>\n",
       "  <tbody>\n",
       "    <tr>\n",
       "      <th>0</th>\n",
       "      <td>52</td>\n",
       "      <td>30</td>\n",
       "      <td>1</td>\n",
       "      <td>2</td>\n",
       "    </tr>\n",
       "    <tr>\n",
       "      <th>1</th>\n",
       "      <td>36</td>\n",
       "      <td>19</td>\n",
       "      <td>1</td>\n",
       "      <td>1</td>\n",
       "    </tr>\n",
       "    <tr>\n",
       "      <th>3</th>\n",
       "      <td>74</td>\n",
       "      <td>40</td>\n",
       "      <td>1</td>\n",
       "      <td>3</td>\n",
       "    </tr>\n",
       "    <tr>\n",
       "      <th>4</th>\n",
       "      <td>42</td>\n",
       "      <td>19</td>\n",
       "      <td>1</td>\n",
       "      <td>2</td>\n",
       "    </tr>\n",
       "    <tr>\n",
       "      <th>5</th>\n",
       "      <td>32</td>\n",
       "      <td>18</td>\n",
       "      <td>1</td>\n",
       "      <td>1</td>\n",
       "    </tr>\n",
       "    <tr>\n",
       "      <th>...</th>\n",
       "      <td>...</td>\n",
       "      <td>...</td>\n",
       "      <td>...</td>\n",
       "      <td>...</td>\n",
       "    </tr>\n",
       "    <tr>\n",
       "      <th>6157</th>\n",
       "      <td>49</td>\n",
       "      <td>29</td>\n",
       "      <td>1</td>\n",
       "      <td>2</td>\n",
       "    </tr>\n",
       "    <tr>\n",
       "      <th>6158</th>\n",
       "      <td>35</td>\n",
       "      <td>14</td>\n",
       "      <td>1</td>\n",
       "      <td>1</td>\n",
       "    </tr>\n",
       "    <tr>\n",
       "      <th>6159</th>\n",
       "      <td>29</td>\n",
       "      <td>27</td>\n",
       "      <td>1</td>\n",
       "      <td>1</td>\n",
       "    </tr>\n",
       "    <tr>\n",
       "      <th>6160</th>\n",
       "      <td>38</td>\n",
       "      <td>21</td>\n",
       "      <td>1</td>\n",
       "      <td>1</td>\n",
       "    </tr>\n",
       "    <tr>\n",
       "      <th>6161</th>\n",
       "      <td>61</td>\n",
       "      <td>31</td>\n",
       "      <td>1</td>\n",
       "      <td>2</td>\n",
       "    </tr>\n",
       "  </tbody>\n",
       "</table>\n",
       "<p>3904 rows × 4 columns</p>\n",
       "</div>"
      ],
      "text/plain": [
       "      col1  col2  col3  col4\n",
       "0       52    30     1     2\n",
       "1       36    19     1     1\n",
       "3       74    40     1     3\n",
       "4       42    19     1     2\n",
       "5       32    18     1     1\n",
       "...    ...   ...   ...   ...\n",
       "6157    49    29     1     2\n",
       "6158    35    14     1     1\n",
       "6159    29    27     1     1\n",
       "6160    38    21     1     1\n",
       "6161    61    31     1     2\n",
       "\n",
       "[3904 rows x 4 columns]"
      ]
     },
     "execution_count": 45,
     "metadata": {},
     "output_type": "execute_result"
    }
   ],
   "source": [
    "df3 = df2[df2['col3']==1]\n",
    "df3"
   ]
  },
  {
   "cell_type": "code",
   "execution_count": 46,
   "metadata": {},
   "outputs": [
    {
     "data": {
      "text/plain": [
       "(0.6335605322947095, 0.36643946770529046)"
      ]
     },
     "execution_count": 46,
     "metadata": {},
     "output_type": "execute_result"
    }
   ],
   "source": [
    "a = len(df3)\n",
    "p = a/n\n",
    "q = 1 - p\n",
    "p,q"
   ]
  },
  {
   "cell_type": "code",
   "execution_count": 47,
   "metadata": {},
   "outputs": [
    {
     "data": {
      "text/plain": [
       "1.959963984540054"
      ]
     },
     "execution_count": 47,
     "metadata": {},
     "output_type": "execute_result"
    }
   ],
   "source": [
    "perc = 0.95\n",
    "alpha = 1 - perc\n",
    "t = sp.stats.norm.ppf(1-alpha/2)\n",
    "t"
   ]
  },
  {
   "cell_type": "code",
   "execution_count": 48,
   "metadata": {},
   "outputs": [
    {
     "data": {
      "text/plain": [
       "(0.6260257199797205, 0.6410953446096986)"
      ]
     },
     "execution_count": 48,
     "metadata": {},
     "output_type": "execute_result"
    }
   ],
   "source": [
    "ci_R = p + (t*np.sqrt(1-f)*np.sqrt((p*q)/(n-1)) + 1/(2*n))\n",
    "ci_L = p - (t*np.sqrt(1-f)*np.sqrt((p*q)/(n-1)) + 1/(2*n))\n",
    "ci_L, ci_R"
   ]
  },
  {
   "cell_type": "markdown",
   "metadata": {},
   "source": [
    "<h2>Задача отношения-R-1</h2>"
   ]
  },
  {
   "cell_type": "code",
   "execution_count": 51,
   "metadata": {},
   "outputs": [],
   "source": [
    "def calc_ci(N, n, y_sum, x_sum, y2_sum, x2_sum, yx_sum):\n",
    "    f = n/N\n",
    "    x_mean = x_sum/n\n",
    "    y_mean = y_sum/n\n",
    "    R = y_mean / x_mean\n",
    "    \n",
    "    print(\"R: \", R)\n",
    "    s2 = (y2_sum - 2*R*yx_sum + (R**2)*x2_sum) / (n-1)\n",
    "    print(\"s2: \", s2)\n",
    "    std = np.sqrt(s2)\n",
    "    s = std * (np.sqrt(1-f))/(np.sqrt(n)*x_mean)\n",
    "    print(\"s:\", s)\n",
    "    \n",
    "    perc = 0.90\n",
    "    alpha = 1 - perc\n",
    "    t = sp.stats.norm.ppf(1-alpha/2)\n",
    "\n",
    "    Rl = R - t*s\n",
    "    Rr = R + t*s\n",
    "    print(Rl,Rr)\n",
    "    return R, s2, s, Rl, Rr"
   ]
  },
  {
   "cell_type": "code",
   "execution_count": 52,
   "metadata": {},
   "outputs": [],
   "source": [
    "N = 468\n",
    "n = 100\n",
    "n_gos = 54\n",
    "n_priv = 46"
   ]
  },
  {
   "cell_type": "code",
   "execution_count": 53,
   "metadata": {},
   "outputs": [
    {
     "name": "stdout",
     "output_type": "stream",
     "text": [
      "R:  15.455039525691701\n",
      "s2:  55880.5157168438\n",
      "s: 0.8072235406671366\n",
      "14.127274957064753 16.78280409431865\n"
     ]
    },
    {
     "data": {
      "text/plain": [
       "(15.455039525691701,\n",
       " 55880.5157168438,\n",
       " 0.8072235406671366,\n",
       " 14.127274957064753,\n",
       " 16.78280409431865)"
      ]
     },
     "execution_count": 53,
     "metadata": {},
     "output_type": "execute_result"
    }
   ],
   "source": [
    "calc_ci(\n",
    "    N=N,\n",
    "    n=n_gos,\n",
    "    y_sum=31281,\n",
    "    x_sum=2024,\n",
    "    y2_sum=29881219,\n",
    "    x2_sum=111090,\n",
    "    yx_sum=1729349\n",
    "    )"
   ]
  },
  {
   "cell_type": "code",
   "execution_count": 54,
   "metadata": {},
   "outputs": [
    {
     "name": "stdout",
     "output_type": "stream",
     "text": [
      "R:  12.750697674418603\n",
      "s2:  16869.66024841774\n",
      "s: 0.7781385270756288\n",
      "11.47077369588758 14.030621652949627\n"
     ]
    }
   ],
   "source": [
    "R, s2, s, Rl, Rr = calc_ci(\n",
    "    N=N,\n",
    "    n=n_priv,\n",
    "    y_sum=13707,\n",
    "    x_sum=1075,\n",
    "    y2_sum=6366785,\n",
    "    x2_sum=33119,\n",
    "    yx_sum=431041\n",
    "    )"
   ]
  },
  {
   "cell_type": "code",
   "execution_count": 64,
   "metadata": {},
   "outputs": [],
   "source": [
    "N = 251\n",
    "n = n_gos\n",
    "y_summ = 2024\n",
    "y_summ_2 = 111090\n",
    "perc = 0.90\n",
    "f = n / N"
   ]
  },
  {
   "cell_type": "code",
   "execution_count": 58,
   "metadata": {},
   "outputs": [
    {
     "data": {
      "text/plain": [
       "(37.48148148148148, 9407.851851851852)"
      ]
     },
     "execution_count": 58,
     "metadata": {},
     "output_type": "execute_result"
    }
   ],
   "source": [
    "y_mean = y_summ/n\n",
    "Y_summ = y_mean*N\n",
    "y_mean, Y_summ"
   ]
  },
  {
   "cell_type": "code",
   "execution_count": 60,
   "metadata": {},
   "outputs": [
    {
     "data": {
      "text/plain": [
       "664.6694619147448"
      ]
     },
     "execution_count": 60,
     "metadata": {},
     "output_type": "execute_result"
    }
   ],
   "source": [
    "var = (y_summ_2 - np.power(y_summ,2)/n) / (n-1)\n",
    "var"
   ]
  },
  {
   "cell_type": "code",
   "execution_count": 61,
   "metadata": {},
   "outputs": [
    {
     "data": {
      "text/plain": [
       "25.781184261293056"
      ]
     },
     "execution_count": 61,
     "metadata": {},
     "output_type": "execute_result"
    }
   ],
   "source": [
    "std = np.sqrt(var)\n",
    "std"
   ]
  },
  {
   "cell_type": "code",
   "execution_count": 62,
   "metadata": {},
   "outputs": [
    {
     "data": {
      "text/plain": [
       "3.108151900008348"
      ]
     },
     "execution_count": 62,
     "metadata": {},
     "output_type": "execute_result"
    }
   ],
   "source": [
    "std_mean_error = (std * np.sqrt(1-f)) / np.sqrt(n)\n",
    "std_mean_error"
   ]
  },
  {
   "cell_type": "code",
   "execution_count": 65,
   "metadata": {},
   "outputs": [
    {
     "data": {
      "text/plain": [
       "1.6448536269514722"
      ]
     },
     "execution_count": 65,
     "metadata": {},
     "output_type": "execute_result"
    }
   ],
   "source": [
    "alpha = 1 - perc\n",
    "t = sp.stats.norm.ppf(1-alpha/2)\n",
    "t"
   ]
  },
  {
   "cell_type": "code",
   "execution_count": 66,
   "metadata": {},
   "outputs": [
    {
     "data": {
      "text/plain": [
       "(32.36902655563664, 42.593936407326325)"
      ]
     },
     "execution_count": 66,
     "metadata": {},
     "output_type": "execute_result"
    }
   ],
   "source": [
    "Y_mean_left =y_mean - t * std_mean_error\n",
    "Y_mean_right =y_mean + t * std_mean_error\n",
    "Y_mean_left, Y_mean_right"
   ]
  },
  {
   "cell_type": "code",
   "execution_count": 67,
   "metadata": {},
   "outputs": [
    {
     "data": {
      "text/plain": [
       "(8124.625665464796, 10691.078038238908)"
      ]
     },
     "execution_count": 67,
     "metadata": {},
     "output_type": "execute_result"
    }
   ],
   "source": [
    "N*Y_mean_left, N*Y_mean_right"
   ]
  },
  {
   "cell_type": "markdown",
   "metadata": {},
   "source": [
    "<h2>Задача Доли-p-1</h2>"
   ]
  },
  {
   "cell_type": "code",
   "execution_count": 68,
   "metadata": {},
   "outputs": [
    {
     "data": {
      "text/plain": [
       "(0.6, 0.4)"
      ]
     },
     "execution_count": 68,
     "metadata": {},
     "output_type": "execute_result"
    }
   ],
   "source": [
    "N=2000\n",
    "n=200\n",
    "f = n/N\n",
    "a = 120\n",
    "p = a/n\n",
    "q = 1 - p\n",
    "p,q"
   ]
  },
  {
   "cell_type": "code",
   "execution_count": 69,
   "metadata": {},
   "outputs": [
    {
     "data": {
      "text/plain": [
       "1.959963984540054"
      ]
     },
     "execution_count": 69,
     "metadata": {},
     "output_type": "execute_result"
    }
   ],
   "source": [
    "perc = 0.95\n",
    "alpha = 1 - perc\n",
    "t = sp.stats.norm.ppf(1-alpha/2)\n",
    "t"
   ]
  },
  {
   "cell_type": "code",
   "execution_count": 71,
   "metadata": {},
   "outputs": [
    {
     "data": {
      "text/plain": [
       "(1065.8547539462252, 1334.1452460537748)"
      ]
     },
     "execution_count": 71,
     "metadata": {},
     "output_type": "execute_result"
    }
   ],
   "source": [
    "ci_R = p + (t*np.sqrt(1-f)*np.sqrt((p*q)/(n-1)) + 1/(2*n))\n",
    "ci_L = p - (t*np.sqrt(1-f)*np.sqrt((p*q)/(n-1)) + 1/(2*n))\n",
    "N*ci_L, N*ci_R"
   ]
  },
  {
   "cell_type": "code",
   "execution_count": 72,
   "metadata": {},
   "outputs": [
    {
     "data": {
      "text/plain": [
       "(445.9996457867481, 694.0003542132517)"
      ]
     },
     "execution_count": 72,
     "metadata": {},
     "output_type": "execute_result"
    }
   ],
   "source": [
    "a = 57\n",
    "p = a/n\n",
    "q = 1 - p\n",
    "p,q\n",
    "ci_R = p + (t*np.sqrt(1-f)*np.sqrt((p*q)/(n-1)) + 1/(2*n))\n",
    "ci_L = p - (t*np.sqrt(1-f)*np.sqrt((p*q)/(n-1)) + 1/(2*n))\n",
    "N*ci_L, N*ci_R"
   ]
  },
  {
   "cell_type": "code",
   "execution_count": 73,
   "metadata": {},
   "outputs": [
    {
     "data": {
      "text/plain": [
       "(140.90051066084806, 319.099489339152)"
      ]
     },
     "execution_count": 73,
     "metadata": {},
     "output_type": "execute_result"
    }
   ],
   "source": [
    "a = 23\n",
    "p = a/n\n",
    "q = 1 - p\n",
    "p,q\n",
    "ci_R = p + (t*np.sqrt(1-f)*np.sqrt((p*q)/(n-1)) + 1/(2*n))\n",
    "ci_L = p - (t*np.sqrt(1-f)*np.sqrt((p*q)/(n-1)) + 1/(2*n))\n",
    "N*ci_L, N*ci_R"
   ]
  },
  {
   "cell_type": "code",
   "execution_count": null,
   "metadata": {},
   "outputs": [],
   "source": []
  }
 ],
 "metadata": {
  "kernelspec": {
   "display_name": "Python 3",
   "language": "python",
   "name": "python3"
  },
  "language_info": {
   "codemirror_mode": {
    "name": "ipython",
    "version": 3
   },
   "file_extension": ".py",
   "mimetype": "text/x-python",
   "name": "python",
   "nbconvert_exporter": "python",
   "pygments_lexer": "ipython3",
   "version": "3.8.2"
  }
 },
 "nbformat": 4,
 "nbformat_minor": 4
}
