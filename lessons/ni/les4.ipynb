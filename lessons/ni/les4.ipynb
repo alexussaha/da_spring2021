{
 "cells": [
  {
   "cell_type": "code",
   "execution_count": 1,
   "metadata": {},
   "outputs": [],
   "source": [
    "import numpy as np\n",
    "import scipy as sp\n",
    "import scipy.stats as stats\n",
    "import numpy as np\n",
    "import matplotlib as mpl\n",
    "import matplotlib.pyplot as plt\n",
    "%matplotlib inline\n",
    "import seaborn as sns; sns.set()"
   ]
  },
  {
   "cell_type": "markdown",
   "metadata": {},
   "source": [
    "<h2>Критерий Шапиро-Уилка</h2>\n",
    "Используется для проверки гипотезы H0: \"случайная величина X распределена нормально\". <br><br>\n",
    "Создадим 2 выборки"
   ]
  },
  {
   "cell_type": "code",
   "execution_count": 2,
   "metadata": {},
   "outputs": [],
   "source": [
    "norm1 = sp.random.normal(1000, 100, size=1000).astype(int) # нормально распределенная выборка\n",
    "exp1 = sp.random.exponential(1000,size=1000).astype(int) # экспоненциально распределенная выборка"
   ]
  },
  {
   "cell_type": "code",
   "execution_count": 3,
   "metadata": {},
   "outputs": [
    {
     "data": {
      "text/plain": [
       "<AxesSubplot:ylabel='Count'>"
      ]
     },
     "execution_count": 3,
     "metadata": {},
     "output_type": "execute_result"
    },
    {
     "data": {
      "image/png": "[encoded data removed]",
      "text/plain": [
       "<Figure size 432x288 with 1 Axes>"
      ]
     },
     "metadata": {},
     "output_type": "display_data"
    }
   ],
   "source": [
    "sns.histplot(norm1, kde=True)"
   ]
  },
  {
   "cell_type": "code",
   "execution_count": 4,
   "metadata": {},
   "outputs": [
    {
     "data": {
      "text/plain": [
       "<AxesSubplot:ylabel='Count'>"
      ]
     },
     "execution_count": 4,
     "metadata": {},
     "output_type": "execute_result"
    },
    {
     "data": {
      "image/png": "[encoded data removed]",
      "text/plain": [
       "<Figure size 432x288 with 1 Axes>"
      ]
     },
     "metadata": {},
     "output_type": "display_data"
    }
   ],
   "source": [
    "sns.histplot(exp1, kde=True)"
   ]
  },
  {
   "cell_type": "markdown",
   "metadata": {},
   "source": [
    "Для проверки данного критерия будем использовать модуль stats библиотеки scipy"
   ]
  },
  {
   "cell_type": "code",
   "execution_count": 5,
   "metadata": {},
   "outputs": [
    {
     "name": "stdout",
     "output_type": "stream",
     "text": [
      "ShapiroResult(statistic=0.9985722899436951, pvalue=0.6024512052536011)\n",
      "ShapiroResult(statistic=0.8150427341461182, pvalue=2.3120504512735867e-32)\n"
     ]
    }
   ],
   "source": [
    "print(stats.shapiro(norm1))\n",
    "print(stats.shapiro(exp1))"
   ]
  },
  {
   "cell_type": "markdown",
   "metadata": {},
   "source": [
    "Здесь нас интересует параметр pvalue. Определяем, является ли выборка нормально распределенной следующим образом:"
   ]
  },
  {
   "cell_type": "code",
   "execution_count": 6,
   "metadata": {},
   "outputs": [
    {
     "name": "stdout",
     "output_type": "stream",
     "text": [
      "Выборка norm1 выглядит нормально распределенной (не отвергаем H0)\n"
     ]
    }
   ],
   "source": [
    "alpha = 0.05 # уровень значимости\n",
    "s1, p1 = stats.shapiro(norm1)\n",
    "if p1 > alpha:\n",
    "    print('Выборка norm1 выглядит нормально распределенной (не отвергаем H0)')\n",
    "else:\n",
    "    print('Выборка norm1 не выглядит нормально распределенной (отвергаем H0)')"
   ]
  },
  {
   "cell_type": "code",
   "execution_count": 7,
   "metadata": {},
   "outputs": [
    {
     "name": "stdout",
     "output_type": "stream",
     "text": [
      "Выборка exp1 не выглядит нормально распределенной (отвергаем H0)\n"
     ]
    }
   ],
   "source": [
    "s2, p2 = stats.shapiro(exp1)\n",
    "if p2 > alpha:\n",
    "    print('Выборка exp1 выглядит нормально распределенной (не отвергаем H0)')\n",
    "else:\n",
    "    print('Выборка exp1 не выглядит нормально распределенной (отвергаем H0)')"
   ]
  },
  {
   "cell_type": "markdown",
   "metadata": {},
   "source": [
    "<h2>Критерий Стьюдента</h2>\n",
    "Используется для проверки гипотезы об однородности вида <b>смещение</b><br>\n",
    " H0: <span style=\"text-decoration:overline\">m</span><sub>y</sub> \n",
    " - \n",
    " <span style=\"text-decoration:overline\">m</span><sub>x</sub> = 0<br>\n",
    "Для использования должны выполняться требования:\n",
    "<ul>\n",
    "    <li>Дисперсии выборок равны</li>\n",
    "    <li>Выборки нормально распределены</li>\n",
    "</ul>"
   ]
  },
  {
   "cell_type": "code",
   "execution_count": 8,
   "metadata": {},
   "outputs": [],
   "source": [
    "x = sp.random.normal(size=100)\n",
    "y = sp.random.normal(size=100)\n",
    "\n",
    "N = len(np.concatenate([x,y]))"
   ]
  },
  {
   "cell_type": "code",
   "execution_count": 9,
   "metadata": {},
   "outputs": [
    {
     "data": {
      "text/plain": [
       "0.9833508090055106"
      ]
     },
     "execution_count": 9,
     "metadata": {},
     "output_type": "execute_result"
    }
   ],
   "source": [
    "#Дисперсия объединенной выборки x+y\n",
    "S_2 = 1/(N-2) * (np.sum((x-x.mean())**2) + np.sum((y-y.mean())**2))\n",
    "S_2"
   ]
  },
  {
   "cell_type": "code",
   "execution_count": 10,
   "metadata": {},
   "outputs": [
    {
     "data": {
      "text/plain": [
       "0.9916404635781613"
      ]
     },
     "execution_count": 10,
     "metadata": {},
     "output_type": "execute_result"
    }
   ],
   "source": [
    "S = np.sqrt(S_2)\n",
    "S"
   ]
  },
  {
   "cell_type": "code",
   "execution_count": 11,
   "metadata": {},
   "outputs": [
    {
     "data": {
      "text/plain": [
       "0.45429363446673"
      ]
     },
     "execution_count": 11,
     "metadata": {},
     "output_type": "execute_result"
    }
   ],
   "source": [
    "#Статистика критерия Стьюдента\n",
    "T = (y.mean() - x.mean()) / (S*np.sqrt(1/len(x)+1/len(y)))\n",
    "T"
   ]
  },
  {
   "cell_type": "code",
   "execution_count": 12,
   "metadata": {},
   "outputs": [
    {
     "data": {
      "text/plain": [
       "0.6501151121916069"
      ]
     },
     "execution_count": 12,
     "metadata": {},
     "output_type": "execute_result"
    }
   ],
   "source": [
    "#p-value Критерия Стьюдента (для альтернативы H3: \"Средние не равны\")\n",
    "stats.t.cdf(-T if T>0 else T, N-2)*2"
   ]
  },
  {
   "cell_type": "code",
   "execution_count": 13,
   "metadata": {},
   "outputs": [
    {
     "data": {
      "text/plain": [
       "Ttest_indResult(statistic=0.4542936344667299, pvalue=0.6501151121916068)"
      ]
     },
     "execution_count": 13,
     "metadata": {},
     "output_type": "execute_result"
    }
   ],
   "source": [
    "stats.ttest_ind(y, x, equal_var=True)\n"
   ]
  },
  {
   "cell_type": "markdown",
   "metadata": {},
   "source": [
    "<h2>U-критерий Манна — Уитни</h2>\n",
    "<h3>(Mann–Whitney U-test, MWW)</h3>\n",
    "Используется для проверки гипотезы об однородности вида <b>смещение</b><br>\n",
    "Используется для выборок <b>не имеющих нормальное распределение</b>"
   ]
  },
  {
   "cell_type": "code",
   "execution_count": 14,
   "metadata": {},
   "outputs": [
    {
     "data": {
      "text/plain": [
       "(array([1123,  975, 1094, 1038, 1000, 1001,  975, 1049, 1051, 1081, 1080,\n",
       "        1109, 1051, 1028, 1095,  973,  928, 1142, 1046,  917]),\n",
       " array([1293,  924, 1049, 1173,  950, 1078, 1276, 1119, 1229, 1457, 1077,\n",
       "        1184,  983, 1069, 1084,  911, 1145, 1052, 1202, 1159,  969, 1160]))"
      ]
     },
     "execution_count": 14,
     "metadata": {},
     "output_type": "execute_result"
    }
   ],
   "source": [
    "x = np.random.normal(1000, 100, 20).astype(int)\n",
    "\n",
    "y = np.random.normal(1120, 120, 22).astype(int)\n",
    "x,y"
   ]
  },
  {
   "cell_type": "markdown",
   "metadata": {},
   "source": [
    "Будем использовать реализацию критерия в scipy"
   ]
  },
  {
   "cell_type": "code",
   "execution_count": 15,
   "metadata": {},
   "outputs": [
    {
     "data": {
      "text/plain": [
       "MannwhitneyuResult(statistic=134.5, pvalue=0.03227995854323281)"
      ]
     },
     "execution_count": 15,
     "metadata": {},
     "output_type": "execute_result"
    }
   ],
   "source": [
    "stats.mannwhitneyu(x, y, alternative='two-sided')"
   ]
  },
  {
   "cell_type": "markdown",
   "metadata": {},
   "source": [
    "Можно посчитать через нормальное распределение"
   ]
  },
  {
   "cell_type": "code",
   "execution_count": 16,
   "metadata": {},
   "outputs": [
    {
     "data": {
      "text/plain": [
       "(array([31. ,  8.5, 27. , 14. , 11. , 12. ,  8.5, 16.5, 18.5, 25. , 24. ,\n",
       "        29. , 18.5, 13. , 28. ,  7. ,  4. , 32. , 15. ,  2. ]),\n",
       " array([41. ,  3. , 16.5, 36. ,  5. , 23. , 40. , 30. , 39. , 42. , 22. ,\n",
       "        37. , 10. , 21. , 26. ,  1. , 33. , 20. , 38. , 34. ,  6. , 35. ]))"
      ]
     },
     "execution_count": 16,
     "metadata": {},
     "output_type": "execute_result"
    }
   ],
   "source": [
    "n1 = len(x)\n",
    "n2 = len(y)\n",
    "N = n1 + n2\n",
    "\n",
    "R = stats.rankdata(np.hstack([x, y]))\n",
    "R1 = R[:n1]\n",
    "R2 = R[n1:N]\n",
    "R1, R2"
   ]
  },
  {
   "cell_type": "code",
   "execution_count": 17,
   "metadata": {},
   "outputs": [
    {
     "data": {
      "text/plain": [
       "(440.0, 440)"
      ]
     },
     "execution_count": 17,
     "metadata": {},
     "output_type": "execute_result"
    }
   ],
   "source": [
    "U1 = n1 * n2 + n1 * (n1 + 1) / 2 - R1.sum()\n",
    "U2 = n1 * n2 + n2 * (n2 + 1) / 2 - R2.sum()\n",
    "U1 + U2, n1 * n2"
   ]
  },
  {
   "cell_type": "code",
   "execution_count": 18,
   "metadata": {},
   "outputs": [
    {
     "data": {
      "text/plain": [
       "(305.5, 134.5, 134.5)"
      ]
     },
     "execution_count": 18,
     "metadata": {},
     "output_type": "execute_result"
    }
   ],
   "source": [
    "#статистика критерия\n",
    "U = min(U1, U2)\n",
    "U1, U2, U"
   ]
  },
  {
   "cell_type": "code",
   "execution_count": 19,
   "metadata": {},
   "outputs": [
    {
     "data": {
      "text/plain": [
       "-2.15325850717732"
      ]
     },
     "execution_count": 19,
     "metadata": {},
     "output_type": "execute_result"
    }
   ],
   "source": [
    "MU = n1 * n2 / 2\n",
    "DU = n1 * n2 * (n1 + n2 + 1) / 12\n",
    "std_U = (U - MU) / np.sqrt(DU)\n",
    "std_U"
   ]
  },
  {
   "cell_type": "code",
   "execution_count": 20,
   "metadata": {},
   "outputs": [
    {
     "data": {
      "text/plain": [
       "0.031298367807306056"
      ]
     },
     "execution_count": 20,
     "metadata": {},
     "output_type": "execute_result"
    }
   ],
   "source": [
    "#p-value критерия\n",
    "stats.norm.cdf(std_U) * 2"
   ]
  },
  {
   "cell_type": "markdown",
   "metadata": {},
   "source": [
    "<h2>Критерий Фишера</h2>\n",
    "Используется для проверки гипотезы об однородности вида <b>растяжение/сжатие</b><br>\n",
    "H0: y.var/x.var=1<br>\n",
    "Используется для выборок <b>имеющих нормальное распределение</b>"
   ]
  },
  {
   "cell_type": "code",
   "execution_count": 21,
   "metadata": {},
   "outputs": [
    {
     "name": "stdout",
     "output_type": "stream",
     "text": [
      "0.7656706952171625 11.229762773275485\n",
      "10322.15147765575 10953.20254956759\n"
     ]
    }
   ],
   "source": [
    "x = np.random.normal(0, 100, size=100)\n",
    "y = np.random.normal(0, 100, size=100)\n",
    "\n",
    "n=y.size\n",
    "m=x.size\n",
    "\n",
    "print(y.mean(), x.mean())\n",
    "print(y.var(ddof=1), x.var(ddof=1))"
   ]
  },
  {
   "cell_type": "markdown",
   "metadata": {},
   "source": [
    "<h4>Для альтернативной гипотезы H3: \"дисперсии не равны\"</h4>"
   ]
  },
  {
   "cell_type": "code",
   "execution_count": 22,
   "metadata": {},
   "outputs": [
    {
     "data": {
      "text/plain": [
       "(1.0611356143414354, 0.7684178441100826)"
      ]
     },
     "execution_count": 22,
     "metadata": {},
     "output_type": "execute_result"
    }
   ],
   "source": [
    "xvar = x.var(ddof=1)\n",
    "yvar = y.var(ddof=1)\n",
    "if yvar > xvar:\n",
    "    #Статистика Критерия Фишера\n",
    "    T = yvar / xvar\n",
    "    #p-value Критерия Фишера\n",
    "    p_value = 1 - stats.f.cdf(T, n - 1, m - 1)\n",
    "else:\n",
    "    T = xvar / yvar\n",
    "    p_value = 1 - stats.f.cdf(T, m - 1, n - 1)\n",
    "# двусторонний критерий, поэтому 2*p_value\n",
    "T, 2*p_value"
   ]
  },
  {
   "cell_type": "markdown",
   "metadata": {},
   "source": [
    "#### Для альтернативной гипотезы H1: yvar/xvar<1"
   ]
  },
  {
   "cell_type": "code",
   "execution_count": 23,
   "metadata": {},
   "outputs": [
    {
     "name": "stdout",
     "output_type": "stream",
     "text": [
      "1.0611356143414354 0.3842089220550413\n"
     ]
    }
   ],
   "source": [
    "yvar = y.var(ddof=1)\n",
    "xvar = x.var(ddof=1)\n",
    "\n",
    "n = y.size\n",
    "m = x.size\n",
    "if yvar < xvar:\n",
    "    #Статистика Критерия Фишера\n",
    "    T = xvar / yvar\n",
    "    #p-value Критерия Фишера\n",
    "    p_value = 1 - stats.f.cdf(T, m - 1, n - 1)\n",
    "    print(T, p_value)\n",
    "else:\n",
    "    print('Принимаем H0')"
   ]
  },
  {
   "cell_type": "markdown",
   "metadata": {},
   "source": [
    "#### Для альтернативной гипотезы H2: yvar/xvar>1"
   ]
  },
  {
   "cell_type": "code",
   "execution_count": 24,
   "metadata": {},
   "outputs": [
    {
     "name": "stdout",
     "output_type": "stream",
     "text": [
      "Принимаем H0\n"
     ]
    }
   ],
   "source": [
    "yvar = y.var(ddof=1)\n",
    "xvar = x.var(ddof=1)\n",
    "\n",
    "n = y.size\n",
    "m = x.size\n",
    "if yvar > xvar:\n",
    "    #Статистика Критерия Фишера\n",
    "    T = yvar / xvar\n",
    "    #p-value Критерия Фишера\n",
    "    p_value = 1 - stats.f.cdf(T, n - 1, m - 1)\n",
    "    print(T, p_value)\n",
    "else:\n",
    "    print('Принимаем H0')"
   ]
  },
  {
   "cell_type": "markdown",
   "metadata": {},
   "source": [
    "<h2>Критерий Ансари-Бредли</h2>\n",
    "Используется для проверки гипотезы об однородности вида <b>растяжение/сжатие</b><br>\n",
    "Используется для выборок <b>не имеющих нормальное распределение</b>"
   ]
  },
  {
   "cell_type": "code",
   "execution_count": 25,
   "metadata": {},
   "outputs": [],
   "source": [
    "x = np.random.exponential(size=100)\n",
    "y = np.random.exponential(size=100)"
   ]
  },
  {
   "cell_type": "code",
   "execution_count": 26,
   "metadata": {},
   "outputs": [
    {
     "name": "stdout",
     "output_type": "stream",
     "text": [
      "200\n"
     ]
    },
    {
     "data": {
      "text/plain": [
       "5391.0"
      ]
     },
     "execution_count": 26,
     "metadata": {},
     "output_type": "execute_result"
    }
   ],
   "source": [
    "#Статистика Критерия Ансари-Бредли\n",
    "N = x.size + y.size\n",
    "print(N)\n",
    "A = 0\n",
    "for r in stats.rankdata(np.hstack([x, y]))[:x.size]:\n",
    "    A += (N + 1) / 2 - np.abs(r - (N + 1) / 2)\n",
    "A"
   ]
  },
  {
   "cell_type": "code",
   "execution_count": 27,
   "metadata": {},
   "outputs": [
    {
     "data": {
      "text/plain": [
       "1.6664537157685118"
      ]
     },
     "execution_count": 27,
     "metadata": {},
     "output_type": "execute_result"
    }
   ],
   "source": [
    "if N%2==0:\n",
    "    M = x.size * (N + 2) / 4\n",
    "    D = x.size * y.size * (N + 2) * (N - 2) / (48 * (N - 1))\n",
    "else:\n",
    "    M = x.size * (N + 1)**2 / (4 * N)\n",
    "    D = x.size * y.size * (N**2 + 3) * (N + 1) / (48 * N**2)\n",
    "\n",
    "#Стандартизованная статистика\n",
    "A_std = (A - M) / np.sqrt(D)\n",
    "A_std"
   ]
  },
  {
   "cell_type": "code",
   "execution_count": 28,
   "metadata": {},
   "outputs": [
    {
     "data": {
      "text/plain": [
       "0.09562307955679851"
      ]
     },
     "execution_count": 28,
     "metadata": {},
     "output_type": "execute_result"
    }
   ],
   "source": [
    "p_value = 2*(stats.norm.cdf(A_std if A_std<0 else -A_std))\n",
    "p_value"
   ]
  },
  {
   "cell_type": "code",
   "execution_count": 29,
   "metadata": {},
   "outputs": [
    {
     "data": {
      "text/plain": [
       "AnsariResult(statistic=5391.0, pvalue=0.09562307955679851)"
      ]
     },
     "execution_count": 29,
     "metadata": {},
     "output_type": "execute_result"
    }
   ],
   "source": [
    "stats.ansari(x,y)"
   ]
  },
  {
   "cell_type": "code",
   "execution_count": null,
   "metadata": {},
   "outputs": [],
   "source": []
  }
 ],
 "metadata": {
  "kernelspec": {
   "display_name": "Python 3",
   "language": "python",
   "name": "python3"
  },
  "language_info": {
   "codemirror_mode": {
    "name": "ipython",
    "version": 3
   },
   "file_extension": ".py",
   "mimetype": "text/x-python",
   "name": "python",
   "nbconvert_exporter": "python",
   "pygments_lexer": "ipython3",
   "version": "3.8.2"
  }
 },
 "nbformat": 4,
 "nbformat_minor": 4
}
