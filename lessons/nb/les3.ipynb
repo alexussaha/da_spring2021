{
 "cells": [
  {
   "cell_type": "code",
   "execution_count": 1,
   "metadata": {
    "ExecuteTime": {
     "end_time": "2021-02-22T15:20:26.436275Z",
     "start_time": "2021-02-22T15:20:25.574486Z"
    }
   },
   "outputs": [],
   "source": [
    "import numpy as np\n",
    "import pandas as pd"
   ]
  },
  {
   "cell_type": "code",
   "execution_count": 2,
   "metadata": {
    "ExecuteTime": {
     "end_time": "2021-02-22T15:23:56.121986Z",
     "start_time": "2021-02-22T15:23:56.054087Z"
    }
   },
   "outputs": [
    {
     "data": {
      "text/html": [
       "<div>\n",
       "<style scoped>\n",
       "    .dataframe tbody tr th:only-of-type {\n",
       "        vertical-align: middle;\n",
       "    }\n",
       "\n",
       "    .dataframe tbody tr th {\n",
       "        vertical-align: top;\n",
       "    }\n",
       "\n",
       "    .dataframe thead th {\n",
       "        text-align: right;\n",
       "    }\n",
       "</style>\n",
       "<table border=\"1\" class=\"dataframe\">\n",
       "  <thead>\n",
       "    <tr style=\"text-align: right;\">\n",
       "      <th></th>\n",
       "      <th>col1</th>\n",
       "      <th>col2</th>\n",
       "      <th>col3</th>\n",
       "      <th>col4</th>\n",
       "    </tr>\n",
       "  </thead>\n",
       "  <tbody>\n",
       "    <tr>\n",
       "      <th>0</th>\n",
       "      <td>52</td>\n",
       "      <td>30</td>\n",
       "      <td>1</td>\n",
       "      <td>2</td>\n",
       "    </tr>\n",
       "    <tr>\n",
       "      <th>1</th>\n",
       "      <td>36</td>\n",
       "      <td>19</td>\n",
       "      <td>1</td>\n",
       "      <td>1</td>\n",
       "    </tr>\n",
       "    <tr>\n",
       "      <th>2</th>\n",
       "      <td>56</td>\n",
       "      <td>30</td>\n",
       "      <td>4</td>\n",
       "      <td>2</td>\n",
       "    </tr>\n",
       "    <tr>\n",
       "      <th>3</th>\n",
       "      <td>74</td>\n",
       "      <td>40</td>\n",
       "      <td>1</td>\n",
       "      <td>3</td>\n",
       "    </tr>\n",
       "    <tr>\n",
       "      <th>4</th>\n",
       "      <td>42</td>\n",
       "      <td>19</td>\n",
       "      <td>1</td>\n",
       "      <td>2</td>\n",
       "    </tr>\n",
       "    <tr>\n",
       "      <th>...</th>\n",
       "      <td>...</td>\n",
       "      <td>...</td>\n",
       "      <td>...</td>\n",
       "      <td>...</td>\n",
       "    </tr>\n",
       "    <tr>\n",
       "      <th>6157</th>\n",
       "      <td>49</td>\n",
       "      <td>29</td>\n",
       "      <td>1</td>\n",
       "      <td>2</td>\n",
       "    </tr>\n",
       "    <tr>\n",
       "      <th>6158</th>\n",
       "      <td>35</td>\n",
       "      <td>14</td>\n",
       "      <td>1</td>\n",
       "      <td>1</td>\n",
       "    </tr>\n",
       "    <tr>\n",
       "      <th>6159</th>\n",
       "      <td>29</td>\n",
       "      <td>27</td>\n",
       "      <td>1</td>\n",
       "      <td>1</td>\n",
       "    </tr>\n",
       "    <tr>\n",
       "      <th>6160</th>\n",
       "      <td>38</td>\n",
       "      <td>21</td>\n",
       "      <td>1</td>\n",
       "      <td>1</td>\n",
       "    </tr>\n",
       "    <tr>\n",
       "      <th>6161</th>\n",
       "      <td>61</td>\n",
       "      <td>31</td>\n",
       "      <td>1</td>\n",
       "      <td>2</td>\n",
       "    </tr>\n",
       "  </tbody>\n",
       "</table>\n",
       "<p>6162 rows × 4 columns</p>\n",
       "</div>"
      ],
      "text/plain": [
       "      col1  col2  col3  col4\n",
       "0       52    30     1     2\n",
       "1       36    19     1     1\n",
       "2       56    30     4     2\n",
       "3       74    40     1     3\n",
       "4       42    19     1     2\n",
       "...    ...   ...   ...   ...\n",
       "6157    49    29     1     2\n",
       "6158    35    14     1     1\n",
       "6159    29    27     1     1\n",
       "6160    38    21     1     1\n",
       "6161    61    31     1     2\n",
       "\n",
       "[6162 rows x 4 columns]"
      ]
     },
     "execution_count": 2,
     "metadata": {},
     "output_type": "execute_result"
    }
   ],
   "source": [
    "# DataFrame = Таблица колонки / строки\n",
    "# Series = колонка\n",
    "df = pd.read_csv('../ni/data/les3_data_example.csv')\n",
    "df"
   ]
  },
  {
   "cell_type": "code",
   "execution_count": 3,
   "metadata": {
    "ExecuteTime": {
     "end_time": "2021-02-22T15:24:22.711421Z",
     "start_time": "2021-02-22T15:24:22.700336Z"
    }
   },
   "outputs": [
    {
     "data": {
      "text/html": [
       "<div>\n",
       "<style scoped>\n",
       "    .dataframe tbody tr th:only-of-type {\n",
       "        vertical-align: middle;\n",
       "    }\n",
       "\n",
       "    .dataframe tbody tr th {\n",
       "        vertical-align: top;\n",
       "    }\n",
       "\n",
       "    .dataframe thead th {\n",
       "        text-align: right;\n",
       "    }\n",
       "</style>\n",
       "<table border=\"1\" class=\"dataframe\">\n",
       "  <thead>\n",
       "    <tr style=\"text-align: right;\">\n",
       "      <th></th>\n",
       "      <th>col1</th>\n",
       "      <th>col2</th>\n",
       "      <th>col3</th>\n",
       "      <th>col4</th>\n",
       "    </tr>\n",
       "  </thead>\n",
       "  <tbody>\n",
       "    <tr>\n",
       "      <th>0</th>\n",
       "      <td>52</td>\n",
       "      <td>30</td>\n",
       "      <td>1</td>\n",
       "      <td>2</td>\n",
       "    </tr>\n",
       "    <tr>\n",
       "      <th>1</th>\n",
       "      <td>36</td>\n",
       "      <td>19</td>\n",
       "      <td>1</td>\n",
       "      <td>1</td>\n",
       "    </tr>\n",
       "    <tr>\n",
       "      <th>2</th>\n",
       "      <td>56</td>\n",
       "      <td>30</td>\n",
       "      <td>4</td>\n",
       "      <td>2</td>\n",
       "    </tr>\n",
       "    <tr>\n",
       "      <th>3</th>\n",
       "      <td>74</td>\n",
       "      <td>40</td>\n",
       "      <td>1</td>\n",
       "      <td>3</td>\n",
       "    </tr>\n",
       "    <tr>\n",
       "      <th>4</th>\n",
       "      <td>42</td>\n",
       "      <td>19</td>\n",
       "      <td>1</td>\n",
       "      <td>2</td>\n",
       "    </tr>\n",
       "  </tbody>\n",
       "</table>\n",
       "</div>"
      ],
      "text/plain": [
       "   col1  col2  col3  col4\n",
       "0    52    30     1     2\n",
       "1    36    19     1     1\n",
       "2    56    30     4     2\n",
       "3    74    40     1     3\n",
       "4    42    19     1     2"
      ]
     },
     "execution_count": 3,
     "metadata": {},
     "output_type": "execute_result"
    }
   ],
   "source": [
    "df.head()"
   ]
  },
  {
   "cell_type": "code",
   "execution_count": 4,
   "metadata": {
    "ExecuteTime": {
     "end_time": "2021-02-22T15:24:34.850695Z",
     "start_time": "2021-02-22T15:24:34.839724Z"
    }
   },
   "outputs": [
    {
     "data": {
      "text/html": [
       "<div>\n",
       "<style scoped>\n",
       "    .dataframe tbody tr th:only-of-type {\n",
       "        vertical-align: middle;\n",
       "    }\n",
       "\n",
       "    .dataframe tbody tr th {\n",
       "        vertical-align: top;\n",
       "    }\n",
       "\n",
       "    .dataframe thead th {\n",
       "        text-align: right;\n",
       "    }\n",
       "</style>\n",
       "<table border=\"1\" class=\"dataframe\">\n",
       "  <thead>\n",
       "    <tr style=\"text-align: right;\">\n",
       "      <th></th>\n",
       "      <th>col1</th>\n",
       "      <th>col2</th>\n",
       "      <th>col3</th>\n",
       "      <th>col4</th>\n",
       "    </tr>\n",
       "  </thead>\n",
       "  <tbody>\n",
       "    <tr>\n",
       "      <th>6157</th>\n",
       "      <td>49</td>\n",
       "      <td>29</td>\n",
       "      <td>1</td>\n",
       "      <td>2</td>\n",
       "    </tr>\n",
       "    <tr>\n",
       "      <th>6158</th>\n",
       "      <td>35</td>\n",
       "      <td>14</td>\n",
       "      <td>1</td>\n",
       "      <td>1</td>\n",
       "    </tr>\n",
       "    <tr>\n",
       "      <th>6159</th>\n",
       "      <td>29</td>\n",
       "      <td>27</td>\n",
       "      <td>1</td>\n",
       "      <td>1</td>\n",
       "    </tr>\n",
       "    <tr>\n",
       "      <th>6160</th>\n",
       "      <td>38</td>\n",
       "      <td>21</td>\n",
       "      <td>1</td>\n",
       "      <td>1</td>\n",
       "    </tr>\n",
       "    <tr>\n",
       "      <th>6161</th>\n",
       "      <td>61</td>\n",
       "      <td>31</td>\n",
       "      <td>1</td>\n",
       "      <td>2</td>\n",
       "    </tr>\n",
       "  </tbody>\n",
       "</table>\n",
       "</div>"
      ],
      "text/plain": [
       "      col1  col2  col3  col4\n",
       "6157    49    29     1     2\n",
       "6158    35    14     1     1\n",
       "6159    29    27     1     1\n",
       "6160    38    21     1     1\n",
       "6161    61    31     1     2"
      ]
     },
     "execution_count": 4,
     "metadata": {},
     "output_type": "execute_result"
    }
   ],
   "source": [
    "df.tail()"
   ]
  },
  {
   "cell_type": "code",
   "execution_count": 5,
   "metadata": {
    "ExecuteTime": {
     "end_time": "2021-02-22T15:24:56.573550Z",
     "start_time": "2021-02-22T15:24:56.527673Z"
    }
   },
   "outputs": [
    {
     "data": {
      "text/html": [
       "<div>\n",
       "<style scoped>\n",
       "    .dataframe tbody tr th:only-of-type {\n",
       "        vertical-align: middle;\n",
       "    }\n",
       "\n",
       "    .dataframe tbody tr th {\n",
       "        vertical-align: top;\n",
       "    }\n",
       "\n",
       "    .dataframe thead th {\n",
       "        text-align: right;\n",
       "    }\n",
       "</style>\n",
       "<table border=\"1\" class=\"dataframe\">\n",
       "  <thead>\n",
       "    <tr style=\"text-align: right;\">\n",
       "      <th></th>\n",
       "      <th>col1</th>\n",
       "      <th>col2</th>\n",
       "      <th>col3</th>\n",
       "      <th>col4</th>\n",
       "    </tr>\n",
       "  </thead>\n",
       "  <tbody>\n",
       "    <tr>\n",
       "      <th>count</th>\n",
       "      <td>6162.000000</td>\n",
       "      <td>6162.000000</td>\n",
       "      <td>6162.000000</td>\n",
       "      <td>6162.000000</td>\n",
       "    </tr>\n",
       "    <tr>\n",
       "      <th>mean</th>\n",
       "      <td>53.029049</td>\n",
       "      <td>34.603376</td>\n",
       "      <td>1.911879</td>\n",
       "      <td>1.932652</td>\n",
       "    </tr>\n",
       "    <tr>\n",
       "      <th>std</th>\n",
       "      <td>21.170242</td>\n",
       "      <td>19.265622</td>\n",
       "      <td>1.515550</td>\n",
       "      <td>0.815673</td>\n",
       "    </tr>\n",
       "    <tr>\n",
       "      <th>min</th>\n",
       "      <td>1.000000</td>\n",
       "      <td>1.000000</td>\n",
       "      <td>1.000000</td>\n",
       "      <td>1.000000</td>\n",
       "    </tr>\n",
       "    <tr>\n",
       "      <th>25%</th>\n",
       "      <td>38.000000</td>\n",
       "      <td>20.000000</td>\n",
       "      <td>1.000000</td>\n",
       "      <td>1.000000</td>\n",
       "    </tr>\n",
       "    <tr>\n",
       "      <th>50%</th>\n",
       "      <td>48.000000</td>\n",
       "      <td>30.000000</td>\n",
       "      <td>1.000000</td>\n",
       "      <td>2.000000</td>\n",
       "    </tr>\n",
       "    <tr>\n",
       "      <th>75%</th>\n",
       "      <td>62.000000</td>\n",
       "      <td>43.000000</td>\n",
       "      <td>2.000000</td>\n",
       "      <td>3.000000</td>\n",
       "    </tr>\n",
       "    <tr>\n",
       "      <th>max</th>\n",
       "      <td>637.000000</td>\n",
       "      <td>637.000000</td>\n",
       "      <td>6.000000</td>\n",
       "      <td>4.000000</td>\n",
       "    </tr>\n",
       "  </tbody>\n",
       "</table>\n",
       "</div>"
      ],
      "text/plain": [
       "              col1         col2         col3         col4\n",
       "count  6162.000000  6162.000000  6162.000000  6162.000000\n",
       "mean     53.029049    34.603376     1.911879     1.932652\n",
       "std      21.170242    19.265622     1.515550     0.815673\n",
       "min       1.000000     1.000000     1.000000     1.000000\n",
       "25%      38.000000    20.000000     1.000000     1.000000\n",
       "50%      48.000000    30.000000     1.000000     2.000000\n",
       "75%      62.000000    43.000000     2.000000     3.000000\n",
       "max     637.000000   637.000000     6.000000     4.000000"
      ]
     },
     "execution_count": 5,
     "metadata": {},
     "output_type": "execute_result"
    }
   ],
   "source": [
    "df.describe()"
   ]
  },
  {
   "cell_type": "code",
   "execution_count": 7,
   "metadata": {
    "ExecuteTime": {
     "end_time": "2021-02-22T15:27:01.016836Z",
     "start_time": "2021-02-22T15:27:01.009847Z"
    }
   },
   "outputs": [
    {
     "data": {
      "text/plain": [
       "array([52, 36, 56, ..., 29, 38, 61], dtype=int64)"
      ]
     },
     "execution_count": 7,
     "metadata": {},
     "output_type": "execute_result"
    }
   ],
   "source": [
    "x = df['col1'].values\n",
    "x"
   ]
  },
  {
   "cell_type": "code",
   "execution_count": 9,
   "metadata": {
    "ExecuteTime": {
     "end_time": "2021-02-22T15:30:03.603765Z",
     "start_time": "2021-02-22T15:30:03.590795Z"
    }
   },
   "outputs": [
    {
     "data": {
      "text/html": [
       "<div>\n",
       "<style scoped>\n",
       "    .dataframe tbody tr th:only-of-type {\n",
       "        vertical-align: middle;\n",
       "    }\n",
       "\n",
       "    .dataframe tbody tr th {\n",
       "        vertical-align: top;\n",
       "    }\n",
       "\n",
       "    .dataframe thead th {\n",
       "        text-align: right;\n",
       "    }\n",
       "</style>\n",
       "<table border=\"1\" class=\"dataframe\">\n",
       "  <thead>\n",
       "    <tr style=\"text-align: right;\">\n",
       "      <th></th>\n",
       "      <th>a</th>\n",
       "      <th>qwerty</th>\n",
       "      <th>phi</th>\n",
       "      <th>values smth</th>\n",
       "    </tr>\n",
       "  </thead>\n",
       "  <tbody>\n",
       "    <tr>\n",
       "      <th>0</th>\n",
       "      <td>23</td>\n",
       "      <td>12345</td>\n",
       "      <td>3.14</td>\n",
       "      <td>120</td>\n",
       "    </tr>\n",
       "    <tr>\n",
       "      <th>1</th>\n",
       "      <td>12</td>\n",
       "      <td>12</td>\n",
       "      <td>23.00</td>\n",
       "      <td>324</td>\n",
       "    </tr>\n",
       "    <tr>\n",
       "      <th>2</th>\n",
       "      <td>23</td>\n",
       "      <td>32</td>\n",
       "      <td>123.00</td>\n",
       "      <td>3</td>\n",
       "    </tr>\n",
       "  </tbody>\n",
       "</table>\n",
       "</div>"
      ],
      "text/plain": [
       "    a  qwerty     phi  values smth\n",
       "0  23   12345    3.14          120\n",
       "1  12      12   23.00          324\n",
       "2  23      32  123.00            3"
      ]
     },
     "execution_count": 9,
     "metadata": {},
     "output_type": "execute_result"
    }
   ],
   "source": [
    "dict_ = {\n",
    "    'a' : [23, 12, 23],\n",
    "    'qwerty' : [12345, 12, 32],\n",
    "    'phi' : [3.14, 23, 123], \n",
    "    'values smth': [120, 324, 3],\n",
    "}\n",
    "\n",
    "df1 = pd.DataFrame(dict_)\n",
    "df1"
   ]
  },
  {
   "cell_type": "code",
   "execution_count": 10,
   "metadata": {
    "ExecuteTime": {
     "end_time": "2021-02-22T15:30:15.644306Z",
     "start_time": "2021-02-22T15:30:15.606365Z"
    }
   },
   "outputs": [
    {
     "data": {
      "text/html": [
       "<div>\n",
       "<style scoped>\n",
       "    .dataframe tbody tr th:only-of-type {\n",
       "        vertical-align: middle;\n",
       "    }\n",
       "\n",
       "    .dataframe tbody tr th {\n",
       "        vertical-align: top;\n",
       "    }\n",
       "\n",
       "    .dataframe thead th {\n",
       "        text-align: right;\n",
       "    }\n",
       "</style>\n",
       "<table border=\"1\" class=\"dataframe\">\n",
       "  <thead>\n",
       "    <tr style=\"text-align: right;\">\n",
       "      <th></th>\n",
       "      <th>a</th>\n",
       "      <th>qwerty</th>\n",
       "      <th>phi</th>\n",
       "      <th>values smth</th>\n",
       "    </tr>\n",
       "  </thead>\n",
       "  <tbody>\n",
       "    <tr>\n",
       "      <th>count</th>\n",
       "      <td>3.000000</td>\n",
       "      <td>3.000000</td>\n",
       "      <td>3.000000</td>\n",
       "      <td>3.00000</td>\n",
       "    </tr>\n",
       "    <tr>\n",
       "      <th>mean</th>\n",
       "      <td>19.333333</td>\n",
       "      <td>4129.666667</td>\n",
       "      <td>49.713333</td>\n",
       "      <td>149.00000</td>\n",
       "    </tr>\n",
       "    <tr>\n",
       "      <th>std</th>\n",
       "      <td>6.350853</td>\n",
       "      <td>7114.694395</td>\n",
       "      <td>64.240225</td>\n",
       "      <td>162.45307</td>\n",
       "    </tr>\n",
       "    <tr>\n",
       "      <th>min</th>\n",
       "      <td>12.000000</td>\n",
       "      <td>12.000000</td>\n",
       "      <td>3.140000</td>\n",
       "      <td>3.00000</td>\n",
       "    </tr>\n",
       "    <tr>\n",
       "      <th>25%</th>\n",
       "      <td>17.500000</td>\n",
       "      <td>22.000000</td>\n",
       "      <td>13.070000</td>\n",
       "      <td>61.50000</td>\n",
       "    </tr>\n",
       "    <tr>\n",
       "      <th>50%</th>\n",
       "      <td>23.000000</td>\n",
       "      <td>32.000000</td>\n",
       "      <td>23.000000</td>\n",
       "      <td>120.00000</td>\n",
       "    </tr>\n",
       "    <tr>\n",
       "      <th>75%</th>\n",
       "      <td>23.000000</td>\n",
       "      <td>6188.500000</td>\n",
       "      <td>73.000000</td>\n",
       "      <td>222.00000</td>\n",
       "    </tr>\n",
       "    <tr>\n",
       "      <th>max</th>\n",
       "      <td>23.000000</td>\n",
       "      <td>12345.000000</td>\n",
       "      <td>123.000000</td>\n",
       "      <td>324.00000</td>\n",
       "    </tr>\n",
       "  </tbody>\n",
       "</table>\n",
       "</div>"
      ],
      "text/plain": [
       "               a        qwerty         phi  values smth\n",
       "count   3.000000      3.000000    3.000000      3.00000\n",
       "mean   19.333333   4129.666667   49.713333    149.00000\n",
       "std     6.350853   7114.694395   64.240225    162.45307\n",
       "min    12.000000     12.000000    3.140000      3.00000\n",
       "25%    17.500000     22.000000   13.070000     61.50000\n",
       "50%    23.000000     32.000000   23.000000    120.00000\n",
       "75%    23.000000   6188.500000   73.000000    222.00000\n",
       "max    23.000000  12345.000000  123.000000    324.00000"
      ]
     },
     "execution_count": 10,
     "metadata": {},
     "output_type": "execute_result"
    }
   ],
   "source": [
    "df1.describe()"
   ]
  },
  {
   "cell_type": "code",
   "execution_count": 12,
   "metadata": {
    "ExecuteTime": {
     "end_time": "2021-02-22T15:33:21.235279Z",
     "start_time": "2021-02-22T15:33:21.227302Z"
    }
   },
   "outputs": [
    {
     "data": {
      "text/plain": [
       "6.3508529610858835"
      ]
     },
     "execution_count": 12,
     "metadata": {},
     "output_type": "execute_result"
    }
   ],
   "source": [
    "df1['a'].std()"
   ]
  },
  {
   "cell_type": "code",
   "execution_count": 13,
   "metadata": {
    "ExecuteTime": {
     "end_time": "2021-02-22T15:33:31.546755Z",
     "start_time": "2021-02-22T15:33:31.538134Z"
    }
   },
   "outputs": [
    {
     "data": {
      "text/plain": [
       "6.3508529610858835"
      ]
     },
     "execution_count": 13,
     "metadata": {},
     "output_type": "execute_result"
    }
   ],
   "source": [
    "df1['a'].std(ddof=1)"
   ]
  },
  {
   "cell_type": "code",
   "execution_count": 14,
   "metadata": {
    "ExecuteTime": {
     "end_time": "2021-02-22T15:33:48.146715Z",
     "start_time": "2021-02-22T15:33:48.127278Z"
    }
   },
   "outputs": [
    {
     "data": {
      "text/plain": [
       "5.185449728701348"
      ]
     },
     "execution_count": 14,
     "metadata": {},
     "output_type": "execute_result"
    }
   ],
   "source": [
    "df1['a'].values.std()"
   ]
  },
  {
   "cell_type": "code",
   "execution_count": 15,
   "metadata": {
    "ExecuteTime": {
     "end_time": "2021-02-22T15:33:55.853367Z",
     "start_time": "2021-02-22T15:33:55.846841Z"
    }
   },
   "outputs": [
    {
     "data": {
      "text/plain": [
       "6.3508529610858835"
      ]
     },
     "execution_count": 15,
     "metadata": {},
     "output_type": "execute_result"
    }
   ],
   "source": [
    "df1['a'].values.std(ddof=1)"
   ]
  },
  {
   "cell_type": "code",
   "execution_count": 11,
   "metadata": {
    "ExecuteTime": {
     "end_time": "2021-02-22T15:30:57.811672Z",
     "start_time": "2021-02-22T15:30:57.790181Z"
    }
   },
   "outputs": [],
   "source": [
    "df1.to_csv('les3-1.csv', index=None)"
   ]
  },
  {
   "cell_type": "markdown",
   "metadata": {},
   "source": [
    "# Оценка отношений R"
   ]
  },
  {
   "cell_type": "code",
   "execution_count": 16,
   "metadata": {
    "ExecuteTime": {
     "end_time": "2021-02-22T15:36:29.185957Z",
     "start_time": "2021-02-22T15:36:27.735178Z"
    }
   },
   "outputs": [],
   "source": [
    "from scipy import stats"
   ]
  },
  {
   "cell_type": "code",
   "execution_count": 21,
   "metadata": {
    "ExecuteTime": {
     "end_time": "2021-02-22T15:38:52.390149Z",
     "start_time": "2021-02-22T15:38:52.383167Z"
    }
   },
   "outputs": [
    {
     "data": {
      "text/plain": [
       "(1000, 50, 0.05)"
      ]
     },
     "execution_count": 21,
     "metadata": {},
     "output_type": "execute_result"
    }
   ],
   "source": [
    "N = 1000\n",
    "n = len(fsize)\n",
    "f = n / N\n",
    "N, n, f"
   ]
  },
  {
   "cell_type": "code",
   "execution_count": 20,
   "metadata": {
    "ExecuteTime": {
     "end_time": "2021-02-22T15:38:20.040812Z",
     "start_time": "2021-02-22T15:38:20.033830Z"
    }
   },
   "outputs": [
    {
     "data": {
      "text/plain": [
       "array([3, 4, 3, 2, 2, 4, 2, 2, 2, 3, 2, 2, 3, 3, 4, 3, 3, 4, 5, 1, 1, 2,\n",
       "       4, 2, 3, 2, 3, 2, 4, 3, 2, 1, 4, 4, 7, 5, 3, 3, 1, 4, 5, 2, 1, 2,\n",
       "       1, 1, 4, 1, 2, 1])"
      ]
     },
     "execution_count": 20,
     "metadata": {},
     "output_type": "execute_result"
    }
   ],
   "source": [
    "fsize = stats.poisson.rvs(2, size=50) + 1\n",
    "fsize"
   ]
  },
  {
   "cell_type": "code",
   "execution_count": 22,
   "metadata": {
    "ExecuteTime": {
     "end_time": "2021-02-22T15:43:13.088780Z",
     "start_time": "2021-02-22T15:43:13.081800Z"
    }
   },
   "outputs": [],
   "source": [
    "def get_earnings(fs):\n",
    "    s = stats.norm.rvs(800, 100)\n",
    "    if fs > 1:\n",
    "        s += stats.norm.rvs(800, 100)\n",
    "    s += stats.norm.rvs(100, 20, size=max(0, fs - 2)).sum()\n",
    "    return s"
   ]
  },
  {
   "cell_type": "code",
   "execution_count": 73,
   "metadata": {
    "ExecuteTime": {
     "end_time": "2021-02-22T15:45:35.057611Z",
     "start_time": "2021-02-22T15:45:35.042639Z"
    }
   },
   "outputs": [
    {
     "data": {
      "text/plain": [
       "array([1569.83604562, 2004.39082573, 1886.84381798, 1778.66513437,\n",
       "       1581.34685762, 1639.97171667, 1729.54036484, 1639.00280261,\n",
       "       1580.55400642, 1739.95424866, 1148.05424428, 1527.22377169,\n",
       "       1771.77004573, 1930.5651068 , 1836.19114936, 1637.74303801,\n",
       "       1843.82797246, 1807.65130029, 2006.07881023,  930.64096693,\n",
       "        897.93153374, 1504.23681021, 1950.72674312, 1599.29275512,\n",
       "       1914.00000782, 1807.21418246, 1552.61988492, 1713.04715552,\n",
       "       1809.22927496, 1756.19246043, 1628.21542082,  934.17063456,\n",
       "       2176.77236971, 1889.60747102, 2318.820289  , 1940.76143359,\n",
       "       1835.17864015, 1813.36879585,  659.29789401, 1917.5196595 ,\n",
       "       1891.3897967 , 1931.37471311,  715.89792587, 1821.70814217,\n",
       "        709.61777619,  717.84401895, 1841.02941463,  689.75270933,\n",
       "       1406.25031578,  711.62084957])"
      ]
     },
     "execution_count": 73,
     "metadata": {},
     "output_type": "execute_result"
    }
   ],
   "source": [
    "earnings = np.array([get_earnings(i) for i in fsize])\n",
    "earnings"
   ]
  },
  {
   "cell_type": "code",
   "execution_count": 74,
   "metadata": {
    "ExecuteTime": {
     "end_time": "2021-02-22T15:47:54.927309Z",
     "start_time": "2021-02-22T15:47:54.920330Z"
    }
   },
   "outputs": [
    {
     "data": {
      "text/plain": [
       "(2.74, 1.3218725123004527)"
      ]
     },
     "execution_count": 74,
     "metadata": {},
     "output_type": "execute_result"
    }
   ],
   "source": [
    "fsize_mean = fsize.mean()\n",
    "fsize_std = fsize.std(ddof=1)\n",
    "fsize_mean, fsize_std"
   ]
  },
  {
   "cell_type": "code",
   "execution_count": 75,
   "metadata": {
    "ExecuteTime": {
     "end_time": "2021-02-22T15:48:17.374158Z",
     "start_time": "2021-02-22T15:48:17.367179Z"
    }
   },
   "outputs": [
    {
     "data": {
      "text/plain": [
       "(1592.8908261022382, 432.76853874933875)"
      ]
     },
     "execution_count": 75,
     "metadata": {},
     "output_type": "execute_result"
    }
   ],
   "source": [
    "earnings_mean = earnings.mean()\n",
    "earnings_std = earnings.std(ddof=1)\n",
    "earnings_mean, earnings_std"
   ]
  },
  {
   "cell_type": "code",
   "execution_count": 76,
   "metadata": {
    "ExecuteTime": {
     "end_time": "2021-02-22T15:49:36.840744Z",
     "start_time": "2021-02-22T15:49:36.834313Z"
    }
   },
   "outputs": [
    {
     "data": {
      "text/plain": [
       "581.3470168256343"
      ]
     },
     "execution_count": 76,
     "metadata": {},
     "output_type": "execute_result"
    }
   ],
   "source": [
    "# Доходы на одного члена семьи\n",
    "# R = y.sum() / x.sum() = y.mean() / x.mean()\n",
    "R = earnings_mean / fsize_mean\n",
    "R"
   ]
  },
  {
   "cell_type": "code",
   "execution_count": 83,
   "metadata": {
    "ExecuteTime": {
     "end_time": "2021-02-22T15:54:45.803453Z",
     "start_time": "2021-02-22T15:54:45.794479Z"
    }
   },
   "outputs": [
    {
     "data": {
      "text/plain": [
       "25.202805675983985"
      ]
     },
     "execution_count": 83,
     "metadata": {},
     "output_type": "execute_result"
    }
   ],
   "source": [
    "sR = np.sqrt(((earnings - R * fsize) ** 2).sum() / (n - 1)) * (np.sqrt(1 - f) / (np.sqrt(n) * fsize_mean))\n",
    "sR"
   ]
  },
  {
   "cell_type": "code",
   "execution_count": 84,
   "metadata": {
    "ExecuteTime": {
     "end_time": "2021-02-22T15:56:48.393182Z",
     "start_time": "2021-02-22T15:56:48.380217Z"
    }
   },
   "outputs": [
    {
     "data": {
      "text/plain": [
       "(-1.6448536269514729, 1.6448536269514722)"
      ]
     },
     "execution_count": 84,
     "metadata": {},
     "output_type": "execute_result"
    }
   ],
   "source": [
    "alpha = 0.1\n",
    "left_q = stats.norm.ppf(alpha / 2)\n",
    "right_q = stats.norm.ppf(1 - alpha / 2)\n",
    "left_q, right_q"
   ]
  },
  {
   "cell_type": "code",
   "execution_count": 85,
   "metadata": {
    "ExecuteTime": {
     "end_time": "2021-02-22T15:57:30.974597Z",
     "start_time": "2021-02-22T15:57:30.967615Z"
    }
   },
   "outputs": [
    {
     "data": {
      "text/plain": [
       "(539.8920905001389, 622.8019431511298)"
      ]
     },
     "execution_count": 85,
     "metadata": {},
     "output_type": "execute_result"
    }
   ],
   "source": [
    "# CI\n",
    "R + left_q * sR, R + right_q * sR"
   ]
  },
  {
   "cell_type": "markdown",
   "metadata": {},
   "source": [
    "# Proportions"
   ]
  },
  {
   "cell_type": "code",
   "execution_count": 93,
   "metadata": {
    "ExecuteTime": {
     "end_time": "2021-02-22T16:00:43.577920Z",
     "start_time": "2021-02-22T16:00:43.569941Z"
    }
   },
   "outputs": [
    {
     "data": {
      "text/plain": [
       "26"
      ]
     },
     "execution_count": 93,
     "metadata": {},
     "output_type": "execute_result"
    }
   ],
   "source": [
    "a = len(fsize[fsize > 2])\n",
    "a"
   ]
  },
  {
   "cell_type": "code",
   "execution_count": 92,
   "metadata": {
    "ExecuteTime": {
     "end_time": "2021-02-22T16:00:26.730551Z",
     "start_time": "2021-02-22T16:00:26.722105Z"
    }
   },
   "outputs": [
    {
     "data": {
      "text/plain": [
       "26"
      ]
     },
     "execution_count": 92,
     "metadata": {},
     "output_type": "execute_result"
    }
   ],
   "source": [
    "(fsize > 2).sum()"
   ]
  },
  {
   "cell_type": "code",
   "execution_count": 94,
   "metadata": {
    "ExecuteTime": {
     "end_time": "2021-02-22T16:01:17.878423Z",
     "start_time": "2021-02-22T16:01:17.870439Z"
    }
   },
   "outputs": [
    {
     "data": {
      "text/plain": [
       "0.52"
      ]
     },
     "execution_count": 94,
     "metadata": {},
     "output_type": "execute_result"
    }
   ],
   "source": [
    "p = a / n\n",
    "p"
   ]
  },
  {
   "cell_type": "code",
   "execution_count": 95,
   "metadata": {
    "ExecuteTime": {
     "end_time": "2021-02-22T16:03:05.587019Z",
     "start_time": "2021-02-22T16:03:05.579041Z"
    }
   },
   "outputs": [
    {
     "data": {
      "text/plain": [
       "520.0"
      ]
     },
     "execution_count": 95,
     "metadata": {},
     "output_type": "execute_result"
    }
   ],
   "source": [
    "A = p * N\n",
    "A"
   ]
  },
  {
   "cell_type": "code",
   "execution_count": 96,
   "metadata": {
    "ExecuteTime": {
     "end_time": "2021-02-22T16:03:30.968318Z",
     "start_time": "2021-02-22T16:03:30.962336Z"
    }
   },
   "outputs": [
    {
     "data": {
      "text/plain": [
       "(0.52, 0.48)"
      ]
     },
     "execution_count": 96,
     "metadata": {},
     "output_type": "execute_result"
    }
   ],
   "source": [
    "q = 1 - p\n",
    "p, q"
   ]
  },
  {
   "cell_type": "code",
   "execution_count": 97,
   "metadata": {
    "ExecuteTime": {
     "end_time": "2021-02-22T16:03:46.986508Z",
     "start_time": "2021-02-22T16:03:46.979964Z"
    }
   },
   "outputs": [
    {
     "data": {
      "text/plain": [
       "0.2546938775510204"
      ]
     },
     "execution_count": 97,
     "metadata": {},
     "output_type": "execute_result"
    }
   ],
   "source": [
    "s2 = n * p * q / (n - 1)\n",
    "s2"
   ]
  },
  {
   "cell_type": "code",
   "execution_count": null,
   "metadata": {},
   "outputs": [],
   "source": [
    "# CI для P"
   ]
  },
  {
   "cell_type": "code",
   "execution_count": 98,
   "metadata": {
    "ExecuteTime": {
     "end_time": "2021-02-22T16:06:56.780372Z",
     "start_time": "2021-02-22T16:06:56.772383Z"
    }
   },
   "outputs": [
    {
     "data": {
      "text/plain": [
       "(-1.9599639845400545, 1.959963984540054)"
      ]
     },
     "execution_count": 98,
     "metadata": {},
     "output_type": "execute_result"
    }
   ],
   "source": [
    "alpha = 0.05\n",
    "lq, rq = stats.norm.ppf(alpha / 2), stats.norm.ppf(1 - alpha / 2)\n",
    "lq, rq"
   ]
  },
  {
   "cell_type": "code",
   "execution_count": 99,
   "metadata": {
    "ExecuteTime": {
     "end_time": "2021-02-22T16:07:28.786272Z",
     "start_time": "2021-02-22T16:07:28.768286Z"
    }
   },
   "outputs": [
    {
     "data": {
      "text/plain": [
       "0.06956424134186605"
      ]
     },
     "execution_count": 99,
     "metadata": {},
     "output_type": "execute_result"
    }
   ],
   "source": [
    "sp = np.sqrt(1 - f) * np.sqrt(p * q / (n - 1))\n",
    "sp"
   ]
  },
  {
   "cell_type": "code",
   "execution_count": 100,
   "metadata": {
    "ExecuteTime": {
     "end_time": "2021-02-22T16:08:22.415914Z",
     "start_time": "2021-02-22T16:08:22.407941Z"
    }
   },
   "outputs": [
    {
     "data": {
      "text/plain": [
       "(0.37365659235809023, 0.6663434076419098)"
      ]
     },
     "execution_count": 100,
     "metadata": {},
     "output_type": "execute_result"
    }
   ],
   "source": [
    "p + lq * sp - 1 / (2 * n), p + rq * sp + 1 / (2 * n)"
   ]
  },
  {
   "cell_type": "markdown",
   "metadata": {},
   "source": []
  },
  {
   "cell_type": "code",
   "execution_count": 101,
   "metadata": {
    "ExecuteTime": {
     "end_time": "2021-02-22T16:11:56.533704Z",
     "start_time": "2021-02-22T16:11:56.527425Z"
    }
   },
   "outputs": [],
   "source": [
    "def get_spendings(fs):\n",
    "    s = stats.norm.rvs(200, 25)\n",
    "    if fs > 1:\n",
    "        s += stats.norm.rvs(200, 25)\n",
    "    s += stats.norm.rvs(160, 20, size=max(0, fs - 2)).sum()\n",
    "    return s"
   ]
  },
  {
   "cell_type": "code",
   "execution_count": 104,
   "metadata": {
    "ExecuteTime": {
     "end_time": "2021-02-22T16:13:01.347161Z",
     "start_time": "2021-02-22T16:13:01.330208Z"
    }
   },
   "outputs": [
    {
     "data": {
      "text/plain": [
       "[548.1194573782005,\n",
       " 703.3182470502948,\n",
       " 544.7560359875824,\n",
       " 402.43327053654184,\n",
       " 332.94695383408157,\n",
       " 651.2815431924128,\n",
       " 379.6827683460875,\n",
       " 405.1667637154184,\n",
       " 436.3146513993471,\n",
       " 608.5743392794998,\n",
       " 400.13100660577254,\n",
       " 431.6318019543961,\n",
       " 499.41896242137614,\n",
       " 517.750599426586,\n",
       " 694.889953053394,\n",
       " 591.3783028364255,\n",
       " 572.5308168585195,\n",
       " 737.7377133046473,\n",
       " 925.4363661515217,\n",
       " 228.20964343933989,\n",
       " 193.56435126674276,\n",
       " 422.3778457429668,\n",
       " 769.946887236684,\n",
       " 385.6069586308448,\n",
       " 641.5636711585105,\n",
       " 359.49412472387087,\n",
       " 515.4368472250071,\n",
       " 373.44302064891133,\n",
       " 743.5485177383109,\n",
       " 543.6685362732426,\n",
       " 438.81609818035395,\n",
       " 215.36438487723652,\n",
       " 646.8786492792271,\n",
       " 796.9190290514557,\n",
       " 1264.4370192072888,\n",
       " 909.0886029614358,\n",
       " 557.2515446819116,\n",
       " 507.71426764746036,\n",
       " 194.10033325487663,\n",
       " 751.7820259943409,\n",
       " 841.5080675637184,\n",
       " 441.29012278227367,\n",
       " 172.42833464086715,\n",
       " 390.5512814263009,\n",
       " 188.77608073090505,\n",
       " 209.64205772664616,\n",
       " 738.7319725155941,\n",
       " 195.67005309960172,\n",
       " 426.78475432529115,\n",
       " 190.92227895124955]"
      ]
     },
     "execution_count": 104,
     "metadata": {},
     "output_type": "execute_result"
    }
   ],
   "source": [
    "spendings = [get_spendings(i) for i in fsize]\n",
    "spendings"
   ]
  },
  {
   "cell_type": "code",
   "execution_count": 112,
   "metadata": {
    "ExecuteTime": {
     "end_time": "2021-02-22T16:15:22.406891Z",
     "start_time": "2021-02-22T16:15:22.396400Z"
    }
   },
   "outputs": [],
   "source": [
    "pd.DataFrame(np.vstack([earnings, spendings]).T, columns=['earn', 'spend']).to_csv('ea_sp.csv', index=None)"
   ]
  },
  {
   "cell_type": "code",
   "execution_count": null,
   "metadata": {},
   "outputs": [],
   "source": []
  }
 ],
 "metadata": {
  "kernelspec": {
   "display_name": "Python 3",
   "language": "python",
   "name": "python3"
  },
  "language_info": {
   "codemirror_mode": {
    "name": "ipython",
    "version": 3
   },
   "file_extension": ".py",
   "mimetype": "text/x-python",
   "name": "python",
   "nbconvert_exporter": "python",
   "pygments_lexer": "ipython3",
   "version": "3.9.1"
  },
  "latex_envs": {
   "LaTeX_envs_menu_present": true,
   "autoclose": false,
   "autocomplete": true,
   "bibliofile": "biblio.bib",
   "cite_by": "apalike",
   "current_citInitial": 1,
   "eqLabelWithNumbers": true,
   "eqNumInitial": 1,
   "hotkeys": {
    "equation": "Ctrl-E",
    "itemize": "Ctrl-I"
   },
   "labels_anchors": false,
   "latex_user_defs": false,
   "report_style_numbering": false,
   "user_envs_cfg": false
  },
  "toc": {
   "base_numbering": 1,
   "nav_menu": {},
   "number_sections": true,
   "sideBar": true,
   "skip_h1_title": false,
   "title_cell": "Table of Contents",
   "title_sidebar": "Contents",
   "toc_cell": false,
   "toc_position": {},
   "toc_section_display": true,
   "toc_window_display": false
  },
  "varInspector": {
   "cols": {
    "lenName": 16,
    "lenType": 16,
    "lenVar": 40
   },
   "kernels_config": {
    "python": {
     "delete_cmd_postfix": "",
     "delete_cmd_prefix": "del ",
     "library": "var_list.py",
     "varRefreshCmd": "print(var_dic_list())"
    },
    "r": {
     "delete_cmd_postfix": ") ",
     "delete_cmd_prefix": "rm(",
     "library": "var_list.r",
     "varRefreshCmd": "cat(var_dic_list()) "
    }
   },
   "types_to_exclude": [
    "module",
    "function",
    "builtin_function_or_method",
    "instance",
    "_Feature"
   ],
   "window_display": false
  }
 },
 "nbformat": 4,
 "nbformat_minor": 1
}