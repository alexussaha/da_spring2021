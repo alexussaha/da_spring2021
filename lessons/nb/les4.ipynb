{
 "cells": [
  {
   "cell_type": "code",
   "execution_count": 1,
   "metadata": {
    "ExecuteTime": {
     "end_time": "2021-03-01T15:23:47.000181Z",
     "start_time": "2021-03-01T15:23:42.898659Z"
    }
   },
   "outputs": [],
   "source": [
    "import numpy as np\n",
    "from scipy import stats\n",
    "import matplotlib as mpl\n",
    "import matplotlib.pyplot as plt\n",
    "%matplotlib inline\n",
    "import seaborn as sns"
   ]
  },
  {
   "cell_type": "markdown",
   "metadata": {},
   "source": [
    "# Проверка равенства средних значений (гипотеза об однородности)"
   ]
  },
  {
   "cell_type": "markdown",
   "metadata": {},
   "source": [
    "## Критерий Стьюдента"
   ]
  },
  {
   "cell_type": "code",
   "execution_count": 4,
   "metadata": {
    "ExecuteTime": {
     "end_time": "2021-03-01T15:31:21.301738Z",
     "start_time": "2021-03-01T15:31:21.296751Z"
    }
   },
   "outputs": [],
   "source": [
    "X = np.array([4297.3, 4244.3, 4386.3, 4085.4, 4321.5, 4290.5, 4771.7, 4809.9])\n",
    "Y = np.array([4281.2, 4426.5, 4571.7, 4896.0, 4339.5, 4278.0])"
   ]
  },
  {
   "cell_type": "code",
   "execution_count": 5,
   "metadata": {
    "ExecuteTime": {
     "end_time": "2021-03-01T15:31:21.889885Z",
     "start_time": "2021-03-01T15:31:21.868391Z"
    }
   },
   "outputs": [
    {
     "data": {
      "text/plain": [
       "(4400.8625, 4465.483333333334)"
      ]
     },
     "execution_count": 5,
     "metadata": {},
     "output_type": "execute_result"
    }
   ],
   "source": [
    "X.mean(), Y.mean()"
   ]
  },
  {
   "cell_type": "code",
   "execution_count": 6,
   "metadata": {
    "ExecuteTime": {
     "end_time": "2021-03-01T15:32:39.484686Z",
     "start_time": "2021-03-01T15:32:39.151463Z"
    }
   },
   "outputs": [
    {
     "data": {
      "image/png": "[encoded data removed]",
      "text/plain": [
       "<Figure size 432x288 with 1 Axes>"
      ]
     },
     "metadata": {
      "needs_background": "light"
     },
     "output_type": "display_data"
    }
   ],
   "source": [
    "plt.hist(X, color='b')\n",
    "plt.hist(Y, color='r', alpha=0.8)\n",
    "plt.show()"
   ]
  },
  {
   "cell_type": "markdown",
   "metadata": {},
   "source": [
    "### Пусть дисперсии равны"
   ]
  },
  {
   "cell_type": "code",
   "execution_count": 8,
   "metadata": {
    "ExecuteTime": {
     "end_time": "2021-03-01T15:40:19.884522Z",
     "start_time": "2021-03-01T15:40:19.876023Z"
    }
   },
   "outputs": [
    {
     "name": "stdout",
     "output_type": "stream",
     "text": [
      "Do not reject H0, H0\n"
     ]
    }
   ],
   "source": [
    "alpha = 0.05\n",
    "s, p = stats.ttest_ind(X, Y, alternative='two-sided')\n",
    "if p < alpha:\n",
    "    print('Rejecting H0, HA')\n",
    "else:\n",
    "    print('Do not reject H0, H0')"
   ]
  },
  {
   "cell_type": "code",
   "execution_count": 9,
   "metadata": {
    "ExecuteTime": {
     "end_time": "2021-03-01T15:40:32.699422Z",
     "start_time": "2021-03-01T15:40:32.690446Z"
    }
   },
   "outputs": [
    {
     "data": {
      "text/plain": [
       "Ttest_indResult(statistic=-0.48138457184648514, pvalue=0.6389021669918256)"
      ]
     },
     "execution_count": 9,
     "metadata": {},
     "output_type": "execute_result"
    }
   ],
   "source": [
    "stats.ttest_ind(X, Y, alternative='two-sided')"
   ]
  },
  {
   "cell_type": "code",
   "execution_count": 29,
   "metadata": {
    "ExecuteTime": {
     "end_time": "2021-03-01T15:59:06.161607Z",
     "start_time": "2021-03-01T15:59:06.141660Z"
    }
   },
   "outputs": [
    {
     "data": {
      "text/plain": [
       "0.6389021669918256"
      ]
     },
     "execution_count": 29,
     "metadata": {},
     "output_type": "execute_result"
    }
   ],
   "source": [
    "s, p = stats.ttest_ind(X, Y, alternative='two-sided')\n",
    "p"
   ]
  },
  {
   "cell_type": "code",
   "execution_count": 30,
   "metadata": {
    "ExecuteTime": {
     "end_time": "2021-03-01T15:59:11.769434Z",
     "start_time": "2021-03-01T15:59:11.762441Z"
    }
   },
   "outputs": [
    {
     "data": {
      "text/plain": [
       "0.3194510834959128"
      ]
     },
     "execution_count": 30,
     "metadata": {},
     "output_type": "execute_result"
    }
   ],
   "source": [
    "p / 2"
   ]
  },
  {
   "cell_type": "markdown",
   "metadata": {},
   "source": [
    "#### Односторонний вариант"
   ]
  },
  {
   "cell_type": "code",
   "execution_count": 10,
   "metadata": {
    "ExecuteTime": {
     "end_time": "2021-03-01T15:41:44.582986Z",
     "start_time": "2021-03-01T15:41:44.574003Z"
    }
   },
   "outputs": [
    {
     "data": {
      "text/plain": [
       "Ttest_indResult(statistic=-0.48138457184648514, pvalue=0.3194510834959128)"
      ]
     },
     "execution_count": 10,
     "metadata": {},
     "output_type": "execute_result"
    }
   ],
   "source": [
    "# X < Y\n",
    "stats.ttest_ind(X, Y, alternative='less')"
   ]
  },
  {
   "cell_type": "code",
   "execution_count": 11,
   "metadata": {
    "ExecuteTime": {
     "end_time": "2021-03-01T15:42:20.591748Z",
     "start_time": "2021-03-01T15:42:20.581774Z"
    }
   },
   "outputs": [
    {
     "data": {
      "text/plain": [
       "Ttest_indResult(statistic=0.48138457184648514, pvalue=0.3194510834959128)"
      ]
     },
     "execution_count": 11,
     "metadata": {},
     "output_type": "execute_result"
    }
   ],
   "source": [
    "# Y > X\n",
    "stats.ttest_ind(Y, X, alternative='greater')"
   ]
  },
  {
   "cell_type": "markdown",
   "metadata": {},
   "source": [
    "### Пусть о дисперсиях ничего не известно"
   ]
  },
  {
   "cell_type": "code",
   "execution_count": 12,
   "metadata": {
    "ExecuteTime": {
     "end_time": "2021-03-01T15:45:06.355001Z",
     "start_time": "2021-03-01T15:45:06.347021Z"
    }
   },
   "outputs": [
    {
     "data": {
      "text/plain": [
       "(65468.01124999992, 56625.68566666667)"
      ]
     },
     "execution_count": 12,
     "metadata": {},
     "output_type": "execute_result"
    }
   ],
   "source": [
    "X.var(ddof=1), Y.var(ddof=1)"
   ]
  },
  {
   "cell_type": "code",
   "execution_count": 13,
   "metadata": {
    "ExecuteTime": {
     "end_time": "2021-03-01T15:45:33.035912Z",
     "start_time": "2021-03-01T15:45:33.029923Z"
    }
   },
   "outputs": [
    {
     "data": {
      "text/plain": [
       "(255.86717501469374, 237.96152139929404)"
      ]
     },
     "execution_count": 13,
     "metadata": {},
     "output_type": "execute_result"
    }
   ],
   "source": [
    "X.std(ddof=1), Y.std(ddof=1)"
   ]
  },
  {
   "cell_type": "markdown",
   "metadata": {},
   "source": [
    "## Критерий Фишера"
   ]
  },
  {
   "cell_type": "code",
   "execution_count": 14,
   "metadata": {
    "ExecuteTime": {
     "end_time": "2021-03-01T15:47:06.598916Z",
     "start_time": "2021-03-01T15:47:06.594882Z"
    }
   },
   "outputs": [],
   "source": [
    "# H0: delta = var(X) / var(Y) = 1\n",
    "# HA: delta != 1"
   ]
  },
  {
   "cell_type": "code",
   "execution_count": 15,
   "metadata": {
    "ExecuteTime": {
     "end_time": "2021-03-01T15:47:47.518253Z",
     "start_time": "2021-03-01T15:47:47.508293Z"
    }
   },
   "outputs": [
    {
     "data": {
      "text/plain": [
       "1.1561539693379534"
      ]
     },
     "execution_count": 15,
     "metadata": {},
     "output_type": "execute_result"
    }
   ],
   "source": [
    "F = X.var(ddof=1) / Y.var(ddof=1)\n",
    "F"
   ]
  },
  {
   "cell_type": "code",
   "execution_count": 16,
   "metadata": {
    "ExecuteTime": {
     "end_time": "2021-03-01T15:50:40.141826Z",
     "start_time": "2021-03-01T15:50:40.131866Z"
    }
   },
   "outputs": [
    {
     "data": {
      "text/plain": [
       "(7, 5)"
      ]
     },
     "execution_count": 16,
     "metadata": {},
     "output_type": "execute_result"
    }
   ],
   "source": [
    "n1 = len(X) - 1\n",
    "n2 = len(Y) - 1\n",
    "n1, n2"
   ]
  },
  {
   "cell_type": "code",
   "execution_count": 19,
   "metadata": {
    "ExecuteTime": {
     "end_time": "2021-03-01T15:53:15.523612Z",
     "start_time": "2021-03-01T15:53:15.513658Z"
    }
   },
   "outputs": [
    {
     "data": {
      "text/plain": [
       "0.45208520633673777"
      ]
     },
     "execution_count": 19,
     "metadata": {},
     "output_type": "execute_result"
    }
   ],
   "source": [
    "# Функция распределения - вероятность получить значение, меньшее чем аргумент\n",
    "# ЭТО ОДНОСТОРОННЕЕ P-VALUE\n",
    "# ДЛЯ ПРОВЕРКИ ДЛЯ ПРИМЕНЕНИЯ СТЬЮДЕНТА ЕГО НЕОБХОДИМО УМНОЖАТЬ НА 2\n",
    "p_value = 1 - stats.f.cdf(F, n1, n2)\n",
    "p_value"
   ]
  },
  {
   "cell_type": "code",
   "execution_count": 20,
   "metadata": {
    "ExecuteTime": {
     "end_time": "2021-03-01T15:53:52.932106Z",
     "start_time": "2021-03-01T15:53:52.912825Z"
    }
   },
   "outputs": [
    {
     "name": "stdout",
     "output_type": "stream",
     "text": [
      "Do not reject H0, H0\n"
     ]
    }
   ],
   "source": [
    "if p_value > alpha:\n",
    "    print('Do not reject H0, H0')\n",
    "else:\n",
    "    print('Reject H0, Ha')"
   ]
  },
  {
   "cell_type": "code",
   "execution_count": 22,
   "metadata": {
    "ExecuteTime": {
     "end_time": "2021-03-01T15:54:45.313034Z",
     "start_time": "2021-03-01T15:54:45.306105Z"
    }
   },
   "outputs": [
    {
     "data": {
      "text/plain": [
       "0.8649367009245562"
      ]
     },
     "execution_count": 22,
     "metadata": {},
     "output_type": "execute_result"
    }
   ],
   "source": [
    "F_new = 1 / F\n",
    "F_new"
   ]
  },
  {
   "cell_type": "code",
   "execution_count": 23,
   "metadata": {
    "ExecuteTime": {
     "end_time": "2021-03-01T15:55:02.273471Z",
     "start_time": "2021-03-01T15:55:02.265492Z"
    }
   },
   "outputs": [
    {
     "data": {
      "text/plain": [
       "0.4520852063367376"
      ]
     },
     "execution_count": 23,
     "metadata": {},
     "output_type": "execute_result"
    }
   ],
   "source": [
    "stats.f.cdf(F_new, n2, n1)"
   ]
  },
  {
   "cell_type": "code",
   "execution_count": 25,
   "metadata": {
    "ExecuteTime": {
     "end_time": "2021-03-01T15:55:38.612202Z",
     "start_time": "2021-03-01T15:55:38.593198Z"
    }
   },
   "outputs": [
    {
     "data": {
      "text/plain": [
       "(0.45208520633673777, 0.4520852063367376)"
      ]
     },
     "execution_count": 25,
     "metadata": {},
     "output_type": "execute_result"
    }
   ],
   "source": [
    "1 - stats.f.cdf(F, n1, n2), stats.f.cdf(1 / F, n2, n1)"
   ]
  },
  {
   "cell_type": "code",
   "execution_count": 26,
   "metadata": {
    "ExecuteTime": {
     "end_time": "2021-03-01T15:56:31.711574Z",
     "start_time": "2021-03-01T15:56:31.705575Z"
    }
   },
   "outputs": [],
   "source": [
    "import scipy"
   ]
  },
  {
   "cell_type": "code",
   "execution_count": 28,
   "metadata": {
    "ExecuteTime": {
     "end_time": "2021-03-01T15:56:42.693281Z",
     "start_time": "2021-03-01T15:56:42.686299Z"
    }
   },
   "outputs": [
    {
     "data": {
      "text/plain": [
       "'1.6.0'"
      ]
     },
     "execution_count": 28,
     "metadata": {},
     "output_type": "execute_result"
    }
   ],
   "source": [
    "scipy.__version__"
   ]
  },
  {
   "cell_type": "markdown",
   "metadata": {},
   "source": [
    "## MWW"
   ]
  },
  {
   "cell_type": "code",
   "execution_count": 31,
   "metadata": {
    "ExecuteTime": {
     "end_time": "2021-03-01T16:00:41.458026Z",
     "start_time": "2021-03-01T16:00:41.436876Z"
    }
   },
   "outputs": [
    {
     "data": {
      "text/plain": [
       "(array([4297.3, 4244.3, 4386.3, 4085.4, 4321.5, 4290.5, 4771.7, 4809.9]),\n",
       " array([4281.2, 4426.5, 4571.7, 4896. , 4339.5, 4278. ]))"
      ]
     },
     "execution_count": 31,
     "metadata": {},
     "output_type": "execute_result"
    }
   ],
   "source": [
    "X, Y"
   ]
  },
  {
   "cell_type": "code",
   "execution_count": 34,
   "metadata": {
    "ExecuteTime": {
     "end_time": "2021-03-01T16:02:25.893778Z",
     "start_time": "2021-03-01T16:02:25.886785Z"
    }
   },
   "outputs": [
    {
     "data": {
      "text/plain": [
       "MannwhitneyuResult(statistic=19.0, pvalue=0.5612758361345778)"
      ]
     },
     "execution_count": 34,
     "metadata": {},
     "output_type": "execute_result"
    }
   ],
   "source": [
    "stats.mannwhitneyu(X, Y, alternative='two-sided')"
   ]
  },
  {
   "cell_type": "code",
   "execution_count": 35,
   "metadata": {
    "ExecuteTime": {
     "end_time": "2021-03-01T16:02:29.368668Z",
     "start_time": "2021-03-01T16:02:29.358695Z"
    }
   },
   "outputs": [
    {
     "data": {
      "text/plain": [
       "MannwhitneyuResult(statistic=19.0, pvalue=0.2806379180672889)"
      ]
     },
     "execution_count": 35,
     "metadata": {},
     "output_type": "execute_result"
    }
   ],
   "source": [
    "stats.mannwhitneyu(X, Y, alternative='less')"
   ]
  },
  {
   "cell_type": "markdown",
   "metadata": {},
   "source": [
    "## MWW by hand"
   ]
  },
  {
   "cell_type": "code",
   "execution_count": 5,
   "metadata": {
    "ExecuteTime": {
     "end_time": "2021-02-28T11:16:36.550240Z",
     "start_time": "2021-02-28T11:16:36.540141Z"
    }
   },
   "outputs": [
    {
     "data": {
      "text/plain": [
       "array([ 990,  880, 1051, 1122,  947, 1138, 1168, 1110, 1203,  860,  913,\n",
       "        948,  861,  894, 1057, 1152,  965, 1080, 1122, 1060])"
      ]
     },
     "execution_count": 5,
     "metadata": {},
     "output_type": "execute_result"
    }
   ],
   "source": [
    "a = np.random.normal(1000, 100, 20).astype(int)\n",
    "a"
   ]
  },
  {
   "cell_type": "code",
   "execution_count": 16,
   "metadata": {
    "ExecuteTime": {
     "end_time": "2021-02-28T11:19:49.929938Z",
     "start_time": "2021-02-28T11:19:49.914682Z"
    }
   },
   "outputs": [
    {
     "data": {
      "text/plain": [
       "array([1227,  971, 1102, 1009, 1097, 1234, 1124, 1388, 1222, 1267,  885,\n",
       "        957, 1185,  997, 1195, 1145, 1135, 1214,  977, 1028, 1121, 1138])"
      ]
     },
     "execution_count": 16,
     "metadata": {},
     "output_type": "execute_result"
    }
   ],
   "source": [
    "b = np.random.normal(1120, 120, 22).astype(int)\n",
    "b"
   ]
  },
  {
   "cell_type": "code",
   "execution_count": 17,
   "metadata": {
    "ExecuteTime": {
     "end_time": "2021-02-28T11:19:50.399975Z",
     "start_time": "2021-02-28T11:19:50.220062Z"
    }
   },
   "outputs": [
    {
     "data": {
      "image/png": "[encoded data removed]",
      "text/plain": [
       "<Figure size 432x288 with 1 Axes>"
      ]
     },
     "metadata": {
      "needs_background": "light"
     },
     "output_type": "display_data"
    }
   ],
   "source": [
    "plt.hist(a, color='b')\n",
    "plt.hist(b, color='r', alpha=0.7)\n",
    "plt.show()"
   ]
  },
  {
   "cell_type": "code",
   "execution_count": 34,
   "metadata": {
    "ExecuteTime": {
     "end_time": "2021-02-28T11:27:10.538731Z",
     "start_time": "2021-02-28T11:27:10.523358Z"
    }
   },
   "outputs": [
    {
     "data": {
      "text/plain": [
       "MannwhitneyuResult(statistic=123.5, pvalue=0.015610808309445022)"
      ]
     },
     "execution_count": 34,
     "metadata": {},
     "output_type": "execute_result"
    }
   ],
   "source": [
    "stats.mannwhitneyu(a, b, alternative='two-sided')"
   ]
  },
  {
   "cell_type": "code",
   "execution_count": 19,
   "metadata": {
    "ExecuteTime": {
     "end_time": "2021-02-28T11:21:51.625496Z",
     "start_time": "2021-02-28T11:21:51.609957Z"
    }
   },
   "outputs": [],
   "source": [
    "n1 = len(a)\n",
    "n2 = len(b)\n",
    "N = n1 + n2"
   ]
  },
  {
   "cell_type": "code",
   "execution_count": 22,
   "metadata": {
    "ExecuteTime": {
     "end_time": "2021-02-28T11:22:41.899673Z",
     "start_time": "2021-02-28T11:22:41.889865Z"
    }
   },
   "outputs": [
    {
     "data": {
      "text/plain": [
       "(array([13. ,  3. , 17. , 25.5,  7. , 29.5, 33. , 23. , 36. ,  1. ,  6. ,\n",
       "         8. ,  2. ,  5. , 18. , 32. , 10. , 20. , 25.5, 19. ]),\n",
       " array([39. , 11. , 22. , 15. , 21. , 40. , 27. , 42. , 38. , 41. ,  4. ,\n",
       "         9. , 34. , 14. , 35. , 31. , 28. , 37. , 12. , 16. , 24. , 29.5]))"
      ]
     },
     "execution_count": 22,
     "metadata": {},
     "output_type": "execute_result"
    }
   ],
   "source": [
    "R = stats.rankdata(np.hstack([a, b]))\n",
    "R1 = R[:n1]\n",
    "R2 = R[n1:N]\n",
    "R1, R2"
   ]
  },
  {
   "cell_type": "code",
   "execution_count": 24,
   "metadata": {
    "ExecuteTime": {
     "end_time": "2021-02-28T11:24:05.085137Z",
     "start_time": "2021-02-28T11:24:05.069722Z"
    }
   },
   "outputs": [
    {
     "data": {
      "text/plain": [
       "(440.0, 440)"
      ]
     },
     "execution_count": 24,
     "metadata": {},
     "output_type": "execute_result"
    }
   ],
   "source": [
    "U1 = n1 * n2 + n1 * (n1 + 1) / 2 - R1.sum()\n",
    "U2 = n1 * n2 + n2 * (n2 + 1) / 2 - R2.sum()\n",
    "U1 + U2, n1 * n2"
   ]
  },
  {
   "cell_type": "code",
   "execution_count": 25,
   "metadata": {
    "ExecuteTime": {
     "end_time": "2021-02-28T11:24:20.089655Z",
     "start_time": "2021-02-28T11:24:20.059651Z"
    }
   },
   "outputs": [
    {
     "data": {
      "text/plain": [
       "(316.5, 123.5, 123.5)"
      ]
     },
     "execution_count": 25,
     "metadata": {},
     "output_type": "execute_result"
    }
   ],
   "source": [
    "U = min(U1, U2)\n",
    "U1, U2, U"
   ]
  },
  {
   "cell_type": "code",
   "execution_count": 26,
   "metadata": {
    "ExecuteTime": {
     "end_time": "2021-02-28T11:25:20.239791Z",
     "start_time": "2021-02-28T11:25:20.209566Z"
    }
   },
   "outputs": [
    {
     "data": {
      "text/plain": [
       "-2.430285917457443"
      ]
     },
     "execution_count": 26,
     "metadata": {},
     "output_type": "execute_result"
    }
   ],
   "source": [
    "MU = n1 * n2 / 2\n",
    "DU = n1 * n2 * (n1 + n2 + 1) / 12\n",
    "std_U = (U - MU) / np.sqrt(DU)\n",
    "std_U"
   ]
  },
  {
   "cell_type": "code",
   "execution_count": 36,
   "metadata": {
    "ExecuteTime": {
     "end_time": "2021-02-28T11:30:34.303026Z",
     "start_time": "2021-02-28T11:30:34.288547Z"
    }
   },
   "outputs": [
    {
     "data": {
      "text/plain": [
       "0.015086915975971985"
      ]
     },
     "execution_count": 36,
     "metadata": {},
     "output_type": "execute_result"
    }
   ],
   "source": [
    "stats.norm.cdf(std_U) * 2"
   ]
  },
  {
   "cell_type": "code",
   "execution_count": 46,
   "metadata": {
    "ExecuteTime": {
     "end_time": "2021-02-28T11:45:24.641024Z",
     "start_time": "2021-02-28T11:45:24.615920Z"
    }
   },
   "outputs": [
    {
     "data": {
      "text/plain": [
       "ShapiroResult(statistic=0.9746823310852051, pvalue=0.8160852789878845)"
      ]
     },
     "execution_count": 46,
     "metadata": {},
     "output_type": "execute_result"
    }
   ],
   "source": [
    "stats.shapiro(b)"
   ]
  },
  {
   "cell_type": "markdown",
   "metadata": {},
   "source": [
    "## Критерий Ансари-Бредли"
   ]
  },
  {
   "cell_type": "code",
   "execution_count": 36,
   "metadata": {
    "ExecuteTime": {
     "end_time": "2021-03-01T16:06:13.240902Z",
     "start_time": "2021-03-01T16:06:13.209008Z"
    }
   },
   "outputs": [
    {
     "data": {
      "text/plain": [
       "AnsariResult(statistic=32.0, pvalue=1.0)"
      ]
     },
     "execution_count": 36,
     "metadata": {},
     "output_type": "execute_result"
    }
   ],
   "source": [
    "stats.ansari(X, Y)"
   ]
  },
  {
   "cell_type": "code",
   "execution_count": 40,
   "metadata": {
    "ExecuteTime": {
     "end_time": "2021-03-01T16:07:20.332518Z",
     "start_time": "2021-03-01T16:07:20.322544Z"
    }
   },
   "outputs": [
    {
     "data": {
      "text/plain": [
       "(4309.4, 4383.0)"
      ]
     },
     "execution_count": 40,
     "metadata": {},
     "output_type": "execute_result"
    }
   ],
   "source": [
    "np.median(X), np.median(Y)"
   ]
  },
  {
   "cell_type": "code",
   "execution_count": 42,
   "metadata": {
    "ExecuteTime": {
     "end_time": "2021-03-01T16:08:11.506157Z",
     "start_time": "2021-03-01T16:08:11.485221Z"
    }
   },
   "outputs": [
    {
     "data": {
      "text/plain": [
       "(array([ -12.1,  -65.1,   76.9, -224. ,   12.1,  -18.9,  462.3,  500.5]),\n",
       " array([-101.8,   43.5,  188.7,  513. ,  -43.5, -105. ]))"
      ]
     },
     "execution_count": 42,
     "metadata": {},
     "output_type": "execute_result"
    }
   ],
   "source": [
    "X_tr = X - np.median(X)\n",
    "Y_tr = Y - np.median(Y)\n",
    "X_tr, Y_tr"
   ]
  },
  {
   "cell_type": "code",
   "execution_count": 43,
   "metadata": {
    "ExecuteTime": {
     "end_time": "2021-03-01T16:08:35.265731Z",
     "start_time": "2021-03-01T16:08:35.256777Z"
    }
   },
   "outputs": [
    {
     "data": {
      "text/plain": [
       "AnsariResult(statistic=35.0, pvalue=0.5268065268065268)"
      ]
     },
     "execution_count": 43,
     "metadata": {},
     "output_type": "execute_result"
    }
   ],
   "source": [
    "stats.ansari(X_tr, Y_tr)"
   ]
  },
  {
   "cell_type": "markdown",
   "metadata": {},
   "source": [
    "# Задача ОДН-2"
   ]
  },
  {
   "cell_type": "code",
   "execution_count": 44,
   "metadata": {
    "ExecuteTime": {
     "end_time": "2021-03-01T16:11:19.971673Z",
     "start_time": "2021-03-01T16:11:19.950228Z"
    }
   },
   "outputs": [
    {
     "data": {
      "text/plain": [
       "(542.7, 10)"
      ]
     },
     "execution_count": 44,
     "metadata": {},
     "output_type": "execute_result"
    }
   ],
   "source": [
    "X = [258, 588, 477, 577, 619, 614, 641, 543, 517, 593]\n",
    "X = np.array(X)\n",
    "m = len(X)\n",
    "X.mean(), m"
   ]
  },
  {
   "cell_type": "code",
   "execution_count": 45,
   "metadata": {
    "ExecuteTime": {
     "end_time": "2021-03-01T16:11:56.242000Z",
     "start_time": "2021-03-01T16:11:56.234025Z"
    }
   },
   "outputs": [
    {
     "data": {
      "text/plain": [
       "(458.44444444444446, 9)"
      ]
     },
     "execution_count": 45,
     "metadata": {},
     "output_type": "execute_result"
    }
   ],
   "source": [
    "Y = [537, 398, 256, 440, 376, 524, 527, 589, 479]\n",
    "Y = np.array(Y)\n",
    "n = len(Y)\n",
    "Y.mean(), n"
   ]
  },
  {
   "cell_type": "code",
   "execution_count": 46,
   "metadata": {
    "ExecuteTime": {
     "end_time": "2021-03-01T16:12:22.961681Z",
     "start_time": "2021-03-01T16:12:22.955697Z"
    }
   },
   "outputs": [],
   "source": [
    "alpha = 0.05"
   ]
  },
  {
   "cell_type": "code",
   "execution_count": 47,
   "metadata": {
    "ExecuteTime": {
     "end_time": "2021-03-01T16:15:11.744628Z",
     "start_time": "2021-03-01T16:15:11.738641Z"
    }
   },
   "outputs": [],
   "source": [
    "# Можно ли считать, опираясь на эти данные, что экономический кризис привел \n",
    "# к снижению показателя X?\n",
    "# СМЕЩЕНИЕ\n",
    "# H0 : theta = my - mx = 0\n",
    "# HA : theta = my - mx < 0, my < mx"
   ]
  },
  {
   "cell_type": "code",
   "execution_count": 48,
   "metadata": {
    "ExecuteTime": {
     "end_time": "2021-03-01T16:16:18.419290Z",
     "start_time": "2021-03-01T16:16:18.050737Z"
    }
   },
   "outputs": [
    {
     "data": {
      "image/png": "[encoded data removed]",
      "text/plain": [
       "<Figure size 432x288 with 1 Axes>"
      ]
     },
     "metadata": {
      "needs_background": "light"
     },
     "output_type": "display_data"
    }
   ],
   "source": [
    "plt.hist(X, color='b')\n",
    "plt.hist(Y, color='r', alpha=0.7)\n",
    "plt.show()"
   ]
  },
  {
   "cell_type": "code",
   "execution_count": 49,
   "metadata": {
    "ExecuteTime": {
     "end_time": "2021-03-01T16:16:41.416073Z",
     "start_time": "2021-03-01T16:16:41.406102Z"
    }
   },
   "outputs": [
    {
     "data": {
      "text/plain": [
       "ShapiroResult(statistic=0.7683424949645996, pvalue=0.0059696887619793415)"
      ]
     },
     "execution_count": 49,
     "metadata": {},
     "output_type": "execute_result"
    }
   ],
   "source": [
    "stats.shapiro(X)"
   ]
  },
  {
   "cell_type": "code",
   "execution_count": 50,
   "metadata": {
    "ExecuteTime": {
     "end_time": "2021-03-01T16:16:46.281524Z",
     "start_time": "2021-03-01T16:16:46.275027Z"
    }
   },
   "outputs": [
    {
     "data": {
      "text/plain": [
       "ShapiroResult(statistic=0.9406910538673401, pvalue=0.5891920328140259)"
      ]
     },
     "execution_count": 50,
     "metadata": {},
     "output_type": "execute_result"
    }
   ],
   "source": [
    "stats.shapiro(Y)"
   ]
  },
  {
   "cell_type": "code",
   "execution_count": 51,
   "metadata": {
    "ExecuteTime": {
     "end_time": "2021-03-01T16:18:00.544915Z",
     "start_time": "2021-03-01T16:18:00.539927Z"
    }
   },
   "outputs": [],
   "source": [
    "# Не можем применять критерий Стьюдента, т.к. Х не имеет нормального распределения\n",
    "# Применяем MWW"
   ]
  },
  {
   "cell_type": "code",
   "execution_count": 52,
   "metadata": {
    "ExecuteTime": {
     "end_time": "2021-03-01T16:19:45.938008Z",
     "start_time": "2021-03-01T16:19:45.918764Z"
    }
   },
   "outputs": [
    {
     "data": {
      "text/plain": [
       "MannwhitneyuResult(statistic=70.0, pvalue=0.02272764742452923)"
      ]
     },
     "execution_count": 52,
     "metadata": {},
     "output_type": "execute_result"
    }
   ],
   "source": [
    "# stats.mannwhitneyu(X, Y, alternative='less') -> X < Y\n",
    "# stats.mannwhitneyu(X, Y, alternative='greater') -> X > Y\n",
    "\n",
    "stats.mannwhitneyu(X, Y, alternative='greater')"
   ]
  },
  {
   "cell_type": "markdown",
   "metadata": {},
   "source": [
    "0.02272764742452923 < 0.05 (уровень значимости) => отвергаем H0 в пользу альтернативы HA (my < mx), то есть, можно говорить о том, что экономический привел к снижению показателя X"
   ]
  },
  {
   "cell_type": "markdown",
   "metadata": {},
   "source": [
    "# Задача ОДН-32"
   ]
  },
  {
   "cell_type": "code",
   "execution_count": 53,
   "metadata": {
    "ExecuteTime": {
     "end_time": "2021-03-01T16:25:20.072640Z",
     "start_time": "2021-03-01T16:25:20.053690Z"
    }
   },
   "outputs": [
    {
     "data": {
      "text/plain": [
       "(3.8773333333333335, 11.609696969696968)"
      ]
     },
     "execution_count": 53,
     "metadata": {},
     "output_type": "execute_result"
    }
   ],
   "source": [
    "A = [ 0.4, 3.3, 2.7, 2.1, 3.6, 4.8, 7.6, 3.7, 1.4, 3.6]\n",
    "B = [0.3, 5.5, 9.5, 0.2, 5, 4.3, 2.7, 6.3, 2.7, 4.8, 8.3, 11.2]\n",
    "A = np.array(A)\n",
    "B = np.array(B)\n",
    "A.var(ddof=1), B.var(ddof=1)"
   ]
  },
  {
   "cell_type": "code",
   "execution_count": 54,
   "metadata": {
    "ExecuteTime": {
     "end_time": "2021-03-01T16:25:38.602097Z",
     "start_time": "2021-03-01T16:25:38.598096Z"
    }
   },
   "outputs": [],
   "source": [
    "# Можно ли говорить о том, что предсказать время доставки в городе А легче, чем в городе Б, \n",
    "# учитывая, что данные имеют нормальное распределение?"
   ]
  },
  {
   "cell_type": "markdown",
   "metadata": {},
   "source": [
    "H0: delta = sigma_B / sigma_A = 1\n",
    "\n",
    "HA: delta = sigma_B / sigma_A > 1, sigma_B > sigma_A"
   ]
  },
  {
   "cell_type": "code",
   "execution_count": 55,
   "metadata": {
    "ExecuteTime": {
     "end_time": "2021-03-01T16:28:03.606786Z",
     "start_time": "2021-03-01T16:28:03.598807Z"
    }
   },
   "outputs": [
    {
     "data": {
      "text/plain": [
       "2.9942478429411024"
      ]
     },
     "execution_count": 55,
     "metadata": {},
     "output_type": "execute_result"
    }
   ],
   "source": [
    "F = B.var(ddof=1) / A.var(ddof=1)\n",
    "F"
   ]
  },
  {
   "cell_type": "code",
   "execution_count": 57,
   "metadata": {
    "ExecuteTime": {
     "end_time": "2021-03-01T16:28:47.262796Z",
     "start_time": "2021-03-01T16:28:47.243974Z"
    }
   },
   "outputs": [
    {
     "data": {
      "text/plain": [
       "(11, 9)"
      ]
     },
     "execution_count": 57,
     "metadata": {},
     "output_type": "execute_result"
    }
   ],
   "source": [
    "n1 = len(B) - 1\n",
    "n2 = len(A) - 1\n",
    "n1, n2"
   ]
  },
  {
   "cell_type": "code",
   "execution_count": 58,
   "metadata": {
    "ExecuteTime": {
     "end_time": "2021-03-01T16:29:25.406511Z",
     "start_time": "2021-03-01T16:29:25.393547Z"
    }
   },
   "outputs": [
    {
     "data": {
      "text/plain": [
       "0.055282414081681"
      ]
     },
     "execution_count": 58,
     "metadata": {},
     "output_type": "execute_result"
    }
   ],
   "source": [
    "p_value = 1 - stats.f.cdf(F, n1, n2)\n",
    "p_value"
   ]
  },
  {
   "cell_type": "code",
   "execution_count": 59,
   "metadata": {
    "ExecuteTime": {
     "end_time": "2021-03-01T16:31:23.209481Z",
     "start_time": "2021-03-01T16:31:23.196513Z"
    }
   },
   "outputs": [
    {
     "name": "stdout",
     "output_type": "stream",
     "text": [
      "H0\n"
     ]
    }
   ],
   "source": [
    "if p_value < alpha:\n",
    "    print('H1')\n",
    "else:\n",
    "    print('H0')"
   ]
  },
  {
   "cell_type": "markdown",
   "metadata": {},
   "source": [
    "как пример:"
   ]
  },
  {
   "cell_type": "code",
   "execution_count": 60,
   "metadata": {
    "ExecuteTime": {
     "end_time": "2021-03-01T16:34:23.949180Z",
     "start_time": "2021-03-01T16:34:23.930099Z"
    }
   },
   "outputs": [
    {
     "data": {
      "text/plain": [
       "1.9179375191025194e-05"
      ]
     },
     "execution_count": 60,
     "metadata": {},
     "output_type": "execute_result"
    }
   ],
   "source": [
    "1 - stats.f.cdf(F, n1 + 50, n2 + 50)"
   ]
  },
  {
   "cell_type": "code",
   "execution_count": null,
   "metadata": {},
   "outputs": [],
   "source": []
  }
 ],
 "metadata": {
  "kernelspec": {
   "display_name": "Python 3",
   "language": "python",
   "name": "python3"
  },
  "language_info": {
   "codemirror_mode": {
    "name": "ipython",
    "version": 3
   },
   "file_extension": ".py",
   "mimetype": "text/x-python",
   "name": "python",
   "nbconvert_exporter": "python",
   "pygments_lexer": "ipython3",
   "version": "3.9.1"
  },
  "latex_envs": {
   "LaTeX_envs_menu_present": true,
   "autoclose": false,
   "autocomplete": true,
   "bibliofile": "biblio.bib",
   "cite_by": "apalike",
   "current_citInitial": 1,
   "eqLabelWithNumbers": true,
   "eqNumInitial": 1,
   "hotkeys": {
    "equation": "Ctrl-E",
    "itemize": "Ctrl-I"
   },
   "labels_anchors": false,
   "latex_user_defs": false,
   "report_style_numbering": false,
   "user_envs_cfg": false
  },
  "toc": {
   "base_numbering": 1,
   "nav_menu": {},
   "number_sections": true,
   "sideBar": true,
   "skip_h1_title": false,
   "title_cell": "Table of Contents",
   "title_sidebar": "Contents",
   "toc_cell": false,
   "toc_position": {},
   "toc_section_display": true,
   "toc_window_display": false
  },
  "varInspector": {
   "cols": {
    "lenName": 16,
    "lenType": 16,
    "lenVar": 40
   },
   "kernels_config": {
    "python": {
     "delete_cmd_postfix": "",
     "delete_cmd_prefix": "del ",
     "library": "var_list.py",
     "varRefreshCmd": "print(var_dic_list())"
    },
    "r": {
     "delete_cmd_postfix": ") ",
     "delete_cmd_prefix": "rm(",
     "library": "var_list.r",
     "varRefreshCmd": "cat(var_dic_list()) "
    }
   },
   "types_to_exclude": [
    "module",
    "function",
    "builtin_function_or_method",
    "instance",
    "_Feature"
   ],
   "window_display": false
  }
 },
 "nbformat": 4,
 "nbformat_minor": 1
}